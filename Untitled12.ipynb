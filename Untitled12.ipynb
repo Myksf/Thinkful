{
 "cells": [
  {
   "cell_type": "code",
   "execution_count": 1,
   "metadata": {},
   "outputs": [],
   "source": [
    "import numpy as np\n",
    "import pandas as pd\n",
    "import matplotlib.pyplot as plt\n",
    "%matplotlib inline\n",
    "\n",
    "# Import the model.\n",
    "from sklearn.neural_network import MLPClassifier\n",
    "from sklearn.ensemble import GradientBoostingClassifier\n",
    "\n",
    "# Import Metrics\n",
    "from sklearn.metrics import adjusted_rand_score\n",
    "from sklearn.model_selection import cross_val_score"
   ]
  },
  {
   "cell_type": "code",
   "execution_count": 2,
   "metadata": {},
   "outputs": [],
   "source": [
    "from scapy.all import * # Packet manipulation\n",
    "import pandas as pd # Pandas - Create and Manipulate DataFrames\n",
    "import numpy as np # Math Stuff (don't worry only used for one line :] )\n",
    "import binascii # Binary to Ascii \n",
    "import seaborn as sns\n",
    "sns.set(color_codes=True)\n",
    "%matplotlib inline"
   ]
  },
  {
   "cell_type": "code",
   "execution_count": 3,
   "metadata": {},
   "outputs": [],
   "source": [
    "#Sniffing packets in Scapy\n",
    "#this can be used to sniff the packets off of the box \n",
    "#num_of_packets_to_sniff = 100\n",
    "#pcap = sniff(count=num_of_packets_to_sniff)\n",
    "\n",
    "# sniff() returns packet list\n",
    "## packetlist object can be enumerated \n",
    "#print(type(pcap))\n",
    "#print(len(pcap))\n",
    "#print(pcap)\n",
    "#pcap[0]"
   ]
  },
  {
   "cell_type": "code",
   "execution_count": 4,
   "metadata": {},
   "outputs": [],
   "source": [
    "# rdpcap used to Read Pcap\n",
    "pcap = rdpcap(\"botnet-capture-20110810-neris.pcap\")"
   ]
  },
  {
   "cell_type": "code",
   "execution_count": 5,
   "metadata": {},
   "outputs": [],
   "source": [
    "# ETHERNET -> Internet Protocol -> Layer 4 Segments\n",
    "# We're only interested in Layers 3 (IP) and 4 (TCP AND UDP) \n",
    "## We'll parse those two layers and the layer 4 payload\n",
    "## When capturing we capture layer 2 frames and beyond\n",
    "\n",
    "# Retrieving a single item from packet list\n",
    "ethernet_frame = pcap[0]\n",
    "ip_packet = ethernet_frame.payload\n",
    "segment = ip_packet.payload\n",
    "data = segment.payload # Retrieve payload that comes after layer 4"
   ]
  },
  {
   "cell_type": "code",
   "execution_count": 6,
   "metadata": {},
   "outputs": [
    {
     "name": "stdout",
     "output_type": "stream",
     "text": [
      "Ether / ARP who has 147.32.84.165 says 147.32.84.1 / Padding\n",
      "ARP who has 147.32.84.165 says 147.32.84.1 / Padding\n",
      "Padding\n",
      "\n",
      "###[ Ethernet ]### \n",
      "  dst       = ff:ff:ff:ff:ff:ff\n",
      "  src       = 00:1e:49:db:19:c3\n",
      "  type      = 0x806\n",
      "###[ ARP ]### \n",
      "     hwtype    = 0x1\n",
      "     ptype     = 0x800\n",
      "     hwlen     = 6\n",
      "     plen      = 4\n",
      "     op        = who-has\n",
      "     hwsrc     = 00:1e:49:db:19:c3\n",
      "     psrc      = 147.32.84.1\n",
      "     hwdst     = 00:00:00:00:00:00\n",
      "     pdst      = 147.32.84.165\n",
      "###[ Padding ]### \n",
      "        load      = '\\x00\\x00\\x00\\x00\\x00\\x00\\x00\\x00\\x00\\x00\\x00\\x00\\x00\\x00\\x00\\x00\\x00\\x00'\n",
      "\n"
     ]
    }
   ],
   "source": [
    "# Observe that we just popped off previous layer header\n",
    "print(ethernet_frame.summary())\n",
    "print(ip_packet.summary())\n",
    "print(segment.summary())\n",
    "print(data.summary()) # If blank, empty object\n",
    "\n",
    "# Complete depiction of paket\n",
    "## Achieving understanding that these are the fields will enable the ability \n",
    "## to ask the data more meaningful questions ie) type of layer 4 segment is defined in layer 3 packet\n",
    "ethernet_frame.show()"
   ]
  },
  {
   "cell_type": "code",
   "execution_count": 7,
   "metadata": {},
   "outputs": [],
   "source": [
    "# Collect field names from IP/TCP/UDP (These will be columns in DF)\n",
    "ip_fields = [field.name for field in IP().fields_desc]\n",
    "tcp_fields = [field.name for field in TCP().fields_desc]\n",
    "udp_fields = [field.name for field in UDP().fields_desc]\n",
    "\n",
    "dataframe_fields = ip_fields + ['time'] + tcp_fields + ['payload','payload_raw','payload_hex']"
   ]
  },
  {
   "cell_type": "code",
   "execution_count": 8,
   "metadata": {},
   "outputs": [],
   "source": [
    "# Create blank DataFrame\n",
    "df = pd.DataFrame(columns=dataframe_fields)\n",
    "for packet in pcap[IP]:\n",
    "    # Field array for each row of DataFrame\n",
    "    field_values = []\n",
    "    # Add all IP fields to dataframe\n",
    "    for field in ip_fields:\n",
    "        if field == 'options':\n",
    "            # Retrieving number of options defined in IP Header\n",
    "            field_values.append(len(packet[IP].fields[field]))\n",
    "        else:\n",
    "            field_values.append(packet[IP].fields[field])\n",
    "    \n",
    "    field_values.append(packet.time)\n",
    "    layer_type = type(packet[IP].payload)\n",
    "    for field in tcp_fields:\n",
    "        try:\n",
    "            if field == 'options':\n",
    "                field_values.append(len(packet[layer_type].fields[field]))\n",
    "            else:\n",
    "                field_values.append(packet[layer_type].fields[field])\n",
    "        except:\n",
    "               field_values.append(None)"
   ]
  },
  {
   "cell_type": "code",
   "execution_count": 9,
   "metadata": {},
   "outputs": [],
   "source": [
    "\n",
    "    # Append payload\n",
    "field_values.append(len(packet[layer_type].payload))\n",
    "field_values.append(packet[layer_type].payload.original)\n",
    "field_values.append(binascii.hexlify(packet[layer_type].payload.original))\n",
    "# Add row to DF\n",
    "df_append = pd.DataFrame([field_values], columns=dataframe_fields)\n",
    "df = pd.concat([df, df_append], axis=0)\n",
    "\n",
    "# Reset Index\n",
    "df = df.reset_index()\n",
    "# Drop old index column\n",
    "df = df.drop(columns=\"index\")"
   ]
  },
  {
   "cell_type": "code",
   "execution_count": 10,
   "metadata": {},
   "outputs": [
    {
     "name": "stdout",
     "output_type": "stream",
     "text": [
      "version                      4\n",
      "ihl                          5\n",
      "tos                          0\n",
      "len                         41\n",
      "id                       37674\n",
      "flags                       DF\n",
      "frag                         0\n",
      "ttl                         52\n",
      "proto                        6\n",
      "chksum                   19423\n",
      "src            212.117.171.138\n",
      "dst              147.32.84.165\n",
      "options                      0\n",
      "time               1.31298e+09\n",
      "sport                    65500\n",
      "dport                     1394\n",
      "seq                 2036591401\n",
      "ack                 2816453054\n",
      "dataofs                      5\n",
      "reserved                     0\n",
      "flags                       PA\n",
      "window                    5840\n",
      "chksum                   63418\n",
      "urgptr                       0\n",
      "options                      0\n",
      "payload                      6\n",
      "payload_raw               b'~'\n",
      "payload_hex              b'7e'\n",
      "Name: 0, dtype: object\n",
      "(1, 28)\n"
     ]
    },
    {
     "data": {
      "text/html": [
       "<div>\n",
       "<style scoped>\n",
       "    .dataframe tbody tr th:only-of-type {\n",
       "        vertical-align: middle;\n",
       "    }\n",
       "\n",
       "    .dataframe tbody tr th {\n",
       "        vertical-align: top;\n",
       "    }\n",
       "\n",
       "    .dataframe thead th {\n",
       "        text-align: right;\n",
       "    }\n",
       "</style>\n",
       "<table border=\"1\" class=\"dataframe\">\n",
       "  <thead>\n",
       "    <tr style=\"text-align: right;\">\n",
       "      <th></th>\n",
       "      <th>src</th>\n",
       "      <th>dst</th>\n",
       "      <th>sport</th>\n",
       "      <th>dport</th>\n",
       "    </tr>\n",
       "  </thead>\n",
       "  <tbody>\n",
       "    <tr>\n",
       "      <th>0</th>\n",
       "      <td>212.117.171.138</td>\n",
       "      <td>147.32.84.165</td>\n",
       "      <td>65500</td>\n",
       "      <td>1394</td>\n",
       "    </tr>\n",
       "  </tbody>\n",
       "</table>\n",
       "</div>"
      ],
      "text/plain": [
       "               src            dst  sport dport\n",
       "0  212.117.171.138  147.32.84.165  65500  1394"
      ]
     },
     "execution_count": 10,
     "metadata": {},
     "output_type": "execute_result"
    }
   ],
   "source": [
    "# Retrieve first row from DataFrame\n",
    "print(df.iloc[0])\n",
    "\n",
    "print(df.shape)\n",
    "\n",
    "# Return first 10 rows\n",
    "df.head(10)\n",
    "\n",
    "# Return last 10 rows\n",
    "df.tail(10)\n",
    "\n",
    "# Return the Source Address for all rows\n",
    "df['src']\n",
    "\n",
    "# Return Src Address, Dst Address, Src Port, Dst Port\n",
    "df[['src','dst','sport','dport']]"
   ]
  },
  {
   "cell_type": "code",
   "execution_count": 11,
   "metadata": {},
   "outputs": [
    {
     "name": "stdout",
     "output_type": "stream",
     "text": [
      "# Top Source Address\n",
      "count                   1\n",
      "unique                  1\n",
      "top       212.117.171.138\n",
      "freq                    1\n",
      "Name: src, dtype: object \n",
      "\n",
      "\n",
      "# Top Destination Address\n",
      "count                 1\n",
      "unique                1\n",
      "top       147.32.84.165\n",
      "freq                  1\n",
      "Name: dst, dtype: object \n",
      "\n",
      "\n",
      "# Who is Top Address Speaking to?\n",
      "['147.32.84.165'] \n",
      "\n",
      "\n",
      "# Who is the top address speaking to (Destination Ports)\n",
      "[1394] \n",
      "\n",
      "\n",
      "# Who is the top address speaking to (Source Ports)\n",
      "[65500] \n",
      "\n",
      "\n"
     ]
    }
   ],
   "source": [
    "# Top Source Adddress\n",
    "print(\"# Top Source Address\")\n",
    "print(df['src'].describe(),'\\n\\n')\n",
    "\n",
    "# Top Destination Address\n",
    "print(\"# Top Destination Address\")\n",
    "print(df['dst'].describe(),\"\\n\\n\")\n",
    "\n",
    "frequent_address = df['src'].describe()['top']\n",
    "\n",
    "# Who is the top address speaking to\n",
    "print(\"# Who is Top Address Speaking to?\")\n",
    "print(df[df['src'] == frequent_address]['dst'].unique(),\"\\n\\n\")\n",
    "\n",
    "# Who is the top address speaking to (dst ports)\n",
    "print(\"# Who is the top address speaking to (Destination Ports)\")\n",
    "print(df[df['src'] == frequent_address]['dport'].unique(),\"\\n\\n\")\n",
    "\n",
    "# Who is the top address speaking to (src ports)\n",
    "print(\"# Who is the top address speaking to (Source Ports)\")\n",
    "print(df[df['src'] == frequent_address]['sport'].unique(),\"\\n\\n\")"
   ]
  },
  {
   "cell_type": "code",
   "execution_count": 12,
   "metadata": {},
   "outputs": [
    {
     "data": {
      "text/plain": [
       "Text(0.5, 1.0, 'History of bytes sent by most frequent address')"
      ]
     },
     "execution_count": 12,
     "metadata": {},
     "output_type": "execute_result"
    },
    {
     "data": {
      "image/png": "[encoded data removed]",
      "text/plain": [
       "<Figure size 576x360 with 1 Axes>"
      ]
     },
     "metadata": {
      "needs_background": "light"
     },
     "output_type": "display_data"
    }
   ],
   "source": [
    "import seaborn as sns\n",
    "sns.set(color_codes=True)\n",
    "%matplotlib inline\n",
    "\n",
    "# Group by Source Address and Payload Sum\n",
    "source_addresses = df.groupby(\"src\")['payload'].sum()\n",
    "source_addresses.plot(kind='barh',title=\"Addresses Sending Payloads\",figsize=(8,5))\n",
    "\n",
    "# Group by Destination Address and Payload Sum\n",
    "destination_addresses = df.groupby(\"dst\")['payload'].sum()\n",
    "destination_addresses.plot(kind='barh', title=\"Destination Addresses (Bytes Received)\",figsize=(8,5))\n",
    "\n",
    "# Group by Source Port and Payload Sum\n",
    "source_payloads = df.groupby(\"sport\")['payload'].sum()\n",
    "source_payloads.plot(kind='barh',title=\"Source Ports (Bytes Sent)\",figsize=(8,5))\n",
    "\n",
    "# Group by Destination Port and Payload Sum\n",
    "destination_payloads = df.groupby(\"dport\")['payload'].sum()\n",
    "destination_payloads.plot(kind='barh',title=\"Destination Ports (Bytes Received)\",figsize=(8,5))\n",
    "\n",
    "#groupby(\"time\")['payload'].sum().plot(kind='barh',title=\"Destination Ports (Bytes Received)\",figsize=(8,5))\n",
    "\n",
    "frequent_address_df = df[df['src'] == frequent_address]\n",
    "x = frequent_address_df['payload'].tolist()\n",
    "sns.barplot(x=\"time\", y=\"payload\", data=frequent_address_df[['payload','time']],\n",
    "            label=\"Total\", color=\"b\").set_title(\"History of bytes sent by most frequent address\")"
   ]
  },
  {
   "cell_type": "code",
   "execution_count": 13,
   "metadata": {},
   "outputs": [
    {
     "name": "stdout",
     "output_type": "stream",
     "text": [
      "147.32.84.165 May be a suspicious address\n",
      "[b'~']\n"
     ]
    },
    {
     "data": {
      "image/png": "[encoded data removed]",
      "text/plain": [
       "<Figure size 576x360 with 1 Axes>"
      ]
     },
     "metadata": {
      "needs_background": "light"
     },
     "output_type": "display_data"
    }
   ],
   "source": [
    "# Create dataframe with only converation from most frequent address\n",
    "frequent_address_df = df[df['src']==frequent_address]\n",
    "\n",
    "# Only display Src Address, Dst Address, and group by Payload \n",
    "frequent_address_groupby = frequent_address_df[['src','dst','payload']].groupby(\"dst\")['payload'].sum()\n",
    "\n",
    "# Plot the Frequent address is speaking to (By Payload)\n",
    "frequent_address_groupby.plot(kind='barh',title=\"Most Frequent Address is Speaking To (Bytes)\",figsize=(8,5))\n",
    "\n",
    "# Which address has excahnged the most amount of bytes with most frequent address\n",
    "suspicious_ip = frequent_address_groupby.sort_values(ascending=False).index[0]\n",
    "print(suspicious_ip, \"May be a suspicious address\")\n",
    "\n",
    "# Create dataframe with only conversation from most frequent address and suspicious address\n",
    "suspicious_df = frequent_address_df[frequent_address_df['dst']==suspicious_ip]\n",
    "\n",
    "# Store each payload in an array\n",
    "raw_stream = []\n",
    "for p in suspicious_df['payload_raw']:\n",
    "    raw_stream.append(p)\n",
    "    \n",
    "print(raw_stream)"
   ]
  },
  {
   "cell_type": "code",
   "execution_count": 14,
   "metadata": {},
   "outputs": [
    {
     "name": "stderr",
     "output_type": "stream",
     "text": [
      "Using TensorFlow backend.\n"
     ]
    }
   ],
   "source": [
    "import math\n",
    "from keras.models import Sequential\n",
    "from keras.layers import Dense\n",
    "from keras.layers import LSTM\n",
    "from keras.layers import GRU\n",
    "from sklearn.preprocessing import MinMaxScaler\n",
    "from sklearn.metrics import mean_squared_error"
   ]
  },
  {
   "cell_type": "code",
   "execution_count": 15,
   "metadata": {},
   "outputs": [
    {
     "name": "stdout",
     "output_type": "stream",
     "text": [
      "<class 'pandas.core.frame.DataFrame'>\n",
      "RangeIndex: 1 entries, 0 to 0\n",
      "Data columns (total 28 columns):\n",
      "version        1 non-null object\n",
      "ihl            1 non-null object\n",
      "tos            1 non-null object\n",
      "len            1 non-null object\n",
      "id             1 non-null object\n",
      "flags          1 non-null object\n",
      "frag           1 non-null object\n",
      "ttl            1 non-null object\n",
      "proto          1 non-null object\n",
      "chksum         1 non-null object\n",
      "src            1 non-null object\n",
      "dst            1 non-null object\n",
      "options        1 non-null object\n",
      "time           1 non-null float64\n",
      "sport          1 non-null object\n",
      "dport          1 non-null object\n",
      "seq            1 non-null object\n",
      "ack            1 non-null object\n",
      "dataofs        1 non-null object\n",
      "reserved       1 non-null object\n",
      "flags          1 non-null object\n",
      "window         1 non-null object\n",
      "chksum         1 non-null object\n",
      "urgptr         1 non-null object\n",
      "options        1 non-null object\n",
      "payload        1 non-null object\n",
      "payload_raw    1 non-null object\n",
      "payload_hex    1 non-null object\n",
      "dtypes: float64(1), object(27)\n",
      "memory usage: 304.0+ bytes\n"
     ]
    }
   ],
   "source": [
    "df.info()"
   ]
  },
  {
   "cell_type": "code",
   "execution_count": 16,
   "metadata": {},
   "outputs": [
    {
     "data": {
      "text/plain": [
       "version        1\n",
       "ihl            1\n",
       "tos            1\n",
       "len            1\n",
       "id             1\n",
       "flags          1\n",
       "frag           1\n",
       "ttl            1\n",
       "proto          1\n",
       "chksum         1\n",
       "src            1\n",
       "dst            1\n",
       "options        1\n",
       "time           1\n",
       "sport          1\n",
       "dport          1\n",
       "seq            1\n",
       "ack            1\n",
       "dataofs        1\n",
       "reserved       1\n",
       "flags          1\n",
       "window         1\n",
       "chksum         1\n",
       "urgptr         1\n",
       "options        1\n",
       "payload        1\n",
       "payload_raw    1\n",
       "payload_hex    1\n",
       "dtype: int64"
      ]
     },
     "execution_count": 16,
     "metadata": {},
     "output_type": "execute_result"
    }
   ],
   "source": [
    "df.nunique()"
   ]
  },
  {
   "cell_type": "code",
   "execution_count": 17,
   "metadata": {},
   "outputs": [
    {
     "data": {
      "text/html": [
       "<div>\n",
       "<style scoped>\n",
       "    .dataframe tbody tr th:only-of-type {\n",
       "        vertical-align: middle;\n",
       "    }\n",
       "\n",
       "    .dataframe tbody tr th {\n",
       "        vertical-align: top;\n",
       "    }\n",
       "\n",
       "    .dataframe thead th {\n",
       "        text-align: right;\n",
       "    }\n",
       "</style>\n",
       "<table border=\"1\" class=\"dataframe\">\n",
       "  <thead>\n",
       "    <tr style=\"text-align: right;\">\n",
       "      <th></th>\n",
       "      <th>version</th>\n",
       "      <th>ihl</th>\n",
       "      <th>tos</th>\n",
       "      <th>len</th>\n",
       "      <th>id</th>\n",
       "      <th>flags</th>\n",
       "      <th>frag</th>\n",
       "      <th>ttl</th>\n",
       "      <th>proto</th>\n",
       "      <th>chksum</th>\n",
       "      <th>...</th>\n",
       "      <th>dataofs</th>\n",
       "      <th>reserved</th>\n",
       "      <th>flags</th>\n",
       "      <th>window</th>\n",
       "      <th>chksum</th>\n",
       "      <th>urgptr</th>\n",
       "      <th>options</th>\n",
       "      <th>payload</th>\n",
       "      <th>payload_raw</th>\n",
       "      <th>payload_hex</th>\n",
       "    </tr>\n",
       "  </thead>\n",
       "  <tbody>\n",
       "    <tr>\n",
       "      <th>0</th>\n",
       "      <td>4</td>\n",
       "      <td>5</td>\n",
       "      <td>0</td>\n",
       "      <td>41</td>\n",
       "      <td>37674</td>\n",
       "      <td>DF</td>\n",
       "      <td>0</td>\n",
       "      <td>52</td>\n",
       "      <td>6</td>\n",
       "      <td>19423</td>\n",
       "      <td>...</td>\n",
       "      <td>5</td>\n",
       "      <td>0</td>\n",
       "      <td>PA</td>\n",
       "      <td>5840</td>\n",
       "      <td>63418</td>\n",
       "      <td>0</td>\n",
       "      <td>0</td>\n",
       "      <td>6</td>\n",
       "      <td>b'~'</td>\n",
       "      <td>b'7e'</td>\n",
       "    </tr>\n",
       "  </tbody>\n",
       "</table>\n",
       "<p>1 rows × 28 columns</p>\n",
       "</div>"
      ],
      "text/plain": [
       "  version ihl tos len     id flags frag ttl proto chksum     ...     dataofs  \\\n",
       "0       4   5   0  41  37674    DF    0  52     6  19423     ...           5   \n",
       "\n",
       "  reserved flags  window chksum urgptr options payload payload_raw payload_hex  \n",
       "0        0    PA    5840  63418      0       0       6        b'~'       b'7e'  \n",
       "\n",
       "[1 rows x 28 columns]"
      ]
     },
     "execution_count": 17,
     "metadata": {},
     "output_type": "execute_result"
    }
   ],
   "source": [
    "df.head()"
   ]
  },
  {
   "cell_type": "code",
   "execution_count": 18,
   "metadata": {},
   "outputs": [],
   "source": [
    "payload = ['payload']\n",
    "df[payload] = df[payload].apply(pd.to_numeric, errors='coerce',axis=1)"
   ]
  },
  {
   "cell_type": "code",
   "execution_count": 19,
   "metadata": {},
   "outputs": [],
   "source": [
    "df = df.dropna()"
   ]
  },
  {
   "cell_type": "code",
   "execution_count": 20,
   "metadata": {},
   "outputs": [
    {
     "data": {
      "text/plain": [
       "(1, 28)"
      ]
     },
     "execution_count": 20,
     "metadata": {},
     "output_type": "execute_result"
    }
   ],
   "source": [
    "df.shape"
   ]
  },
  {
   "cell_type": "code",
   "execution_count": 28,
   "metadata": {},
   "outputs": [],
   "source": [
    "df['time']= pd.to_datetime(df['payload'])\n",
    "df = df.groupby(['time','payload'],as_index=False).sum()"
   ]
  },
  {
   "cell_type": "code",
   "execution_count": 29,
   "metadata": {},
   "outputs": [],
   "source": [
    "ip0 = df[df['time']==0]\n",
    "max0 = np.max(ip0['payload'])"
   ]
  },
  {
   "cell_type": "code",
   "execution_count": 30,
   "metadata": {},
   "outputs": [
    {
     "data": {
      "text/plain": [
       "array([0. , 0.1, 0.2, 0.3, 0.4, 0.5, 0.6, 0.7, 0.8, 0.9, 1. ])"
      ]
     },
     "execution_count": 30,
     "metadata": {},
     "output_type": "execute_result"
    }
   ],
   "source": [
    "count, division = np.histogram(ip0['payload'],bins=10)\n",
    "division"
   ]
  },
  {
   "cell_type": "code",
   "execution_count": null,
   "metadata": {},
   "outputs": [],
   "source": [
    "payload,axarray = plt.subplots(figsize=(15,20))\n",
    "count, division = np.histogram(ip0['payload'],bins=100)\n",
    "#g = sns.barplot(x=division[0:len(division)-1],y=count,ax=axarray[0,0])\n",
    "#axarray[0,0].set_title(\"Local IP Flow\")"
   ]
  },
  {
   "cell_type": "code",
   "execution_count": null,
   "metadata": {},
   "outputs": [],
   "source": [
    "fig, axarr = plt.subplots()\n",
    "axarray[0,0].plot(ip0['time'],ip0['payload'])\n",
    "axarray[0,0].plot(ip0['time'], [ip0['payload'].mean() + 3*ip0['payload'].std()]*len(ip0['payload']),color='g')\n",
    "axarray[0,0].set_title(\"Local IP Flow\")"
   ]
  },
  {
   "cell_type": "code",
   "execution_count": 43,
   "metadata": {},
   "outputs": [],
   "source": [
    "ip0 = df[df['time']==0]\n",
    "max0 = np.max(ip0['payload'])"
   ]
  },
  {
   "cell_type": "code",
   "execution_count": null,
   "metadata": {},
   "outputs": [],
   "source": [
    "fig, axarr = plt.subplots(figsize=(15,10))\n",
    "axarray[0].plot(ip1['time'],ip1['payload'])\n",
    "axarray[0].set_title(\"Local IP Flow\")"
   ]
  },
  {
   "cell_type": "code",
   "execution_count": null,
   "metadata": {},
   "outputs": [],
   "source": [
    "f,axarray = plt.subplots(figsize=(15,30))\n",
    "sns.barplot(x= ip0.groupby('time',as_index=False).sum()['time'],y= ip0.groupby('time',as_index=False).sum()['payload'].values,ax=axarray[0,0])\n",
    "axarray[0,0].set_title(\"Local IP Flow\")"
   ]
  },
  {
   "cell_type": "code",
   "execution_count": 48,
   "metadata": {},
   "outputs": [
    {
     "ename": "SyntaxError",
     "evalue": "unexpected EOF while parsing (<ipython-input-48-038abee37dae>, line 1)",
     "output_type": "error",
     "traceback": [
      "\u001b[1;36m  File \u001b[1;32m\"<ipython-input-48-038abee37dae>\"\u001b[1;36m, line \u001b[1;32m1\u001b[0m\n\u001b[1;33m    plt.plot(range(len(ip0['payload'])),ip0['payload'].rolling(3).mean()\u001b[0m\n\u001b[1;37m                                                                        ^\u001b[0m\n\u001b[1;31mSyntaxError\u001b[0m\u001b[1;31m:\u001b[0m unexpected EOF while parsing\n"
     ]
    }
   ],
   "source": [
    "plt.plot(range(len(ip0['payload'])),ip0['payload'].rolling(3).mean()"
   ]
  },
  {
   "cell_type": "code",
   "execution_count": 49,
   "metadata": {},
   "outputs": [],
   "source": [
    "import math\n",
    "from keras.models import Sequential\n",
    "from keras.layers import Dense\n",
    "from keras.layers import LSTM\n",
    "from keras.layers import GRU\n",
    "from sklearn.preprocessing import MinMaxScaler\n",
    "from sklearn.metrics import mean_squared_error"
   ]
  },
  {
   "cell_type": "code",
   "execution_count": 50,
   "metadata": {},
   "outputs": [],
   "source": [
    "fv =[float(v)/float(max0) for v in ip0['payload'].values]\n",
    "ip0.loc[:,'payload'] =np.array(fv).reshape(-1,1)"
   ]
  },
  {
   "cell_type": "code",
   "execution_count": 51,
   "metadata": {},
   "outputs": [],
   "source": [
    "def create_dataset(dataset, look_back=1):\n",
    "    dataX, dataY = [], []\n",
    "    for i in range(len(dataset)-look_back-1):\n",
    "        a = dataset[i:(i+look_back)].values\n",
    "        dataX.append(a)\n",
    "        dataY.append(dataset['payload'].iloc[i + look_back])\n",
    "    return np.array(dataX), np.array(dataY)"
   ]
  },
  {
   "cell_type": "code",
   "execution_count": 52,
   "metadata": {},
   "outputs": [],
   "source": [
    "from keras.layers.wrappers import TimeDistributed\n",
    "from keras.constraints import nonneg\n",
    "look_back = 14\n",
    "\n",
    "def trainModel(data):\n",
    "    data['payload'] = data['payload'].astype('float32')\n",
    "    train = data[0:look_back*5].copy()\n",
    "    trainX, trainY = create_dataset(train, look_back)\n",
    "    trainX = np.reshape(trainX, (trainX.shape[0], look_back, 2))\n",
    "    model = Sequential()\n",
    "    model.add(GRU(64,input_shape=(trainX.shape[1], trainX.shape[2]),\n",
    "               return_sequences=True))\n",
    "    model.add(GRU(32))\n",
    "    model.add(Dense(1))\n",
    "    model.compile(loss='mean_squared_error', optimizer='sgd')\n",
    "    model.fit(trainX, trainY, epochs=100, batch_size=16, verbose=0)\n",
    "    return model"
   ]
  },
  {
   "cell_type": "code",
   "execution_count": 53,
   "metadata": {},
   "outputs": [],
   "source": [
    "def predictFlow(_model,data):\n",
    "    ypred=[0]*look_back\n",
    "    #_max = np.max(data['f'])\n",
    "    for k in range(len(data)-look_back):\n",
    "        pattern = data[k:k+look_back].values\n",
    "        x = np.reshape(pattern, (1, len(pattern), 2))\n",
    "        ypred.append(_model.predict(x)[0][0])\n",
    "    #ypred=[v*_max for v in ypred]\n",
    "    return ypred"
   ]
  },
  {
   "cell_type": "code",
   "execution_count": 54,
   "metadata": {},
   "outputs": [
    {
     "name": "stdout",
     "output_type": "stream",
     "text": [
      "WARNING:tensorflow:From D:\\Anaconda3\\lib\\site-packages\\tensorflow\\python\\framework\\op_def_library.py:263: colocate_with (from tensorflow.python.framework.ops) is deprecated and will be removed in a future version.\n",
      "Instructions for updating:\n",
      "Colocations handled automatically by placer.\n",
      "WARNING:tensorflow:From D:\\Anaconda3\\lib\\site-packages\\tensorflow\\python\\ops\\math_ops.py:3066: to_int32 (from tensorflow.python.ops.math_ops) is deprecated and will be removed in a future version.\n",
      "Instructions for updating:\n",
      "Use tf.cast instead.\n"
     ]
    }
   ],
   "source": [
    "m0 = trainModel(ip0[['payload','time']].copy())"
   ]
  },
  {
   "cell_type": "code",
   "execution_count": 59,
   "metadata": {},
   "outputs": [
    {
     "ename": "TypeError",
     "evalue": "'AxesSubplot' object is not subscriptable",
     "output_type": "error",
     "traceback": [
      "\u001b[1;31m---------------------------------------------------------------------------\u001b[0m",
      "\u001b[1;31mTypeError\u001b[0m                                 Traceback (most recent call last)",
      "\u001b[1;32m<ipython-input-59-4ae981019549>\u001b[0m in \u001b[0;36m<module>\u001b[1;34m\u001b[0m\n\u001b[0;32m      4\u001b[0m \u001b[0mip0f\u001b[0m \u001b[1;33m=\u001b[0m \u001b[0mnp\u001b[0m\u001b[1;33m.\u001b[0m\u001b[0mmultiply\u001b[0m\u001b[1;33m(\u001b[0m\u001b[0mip0\u001b[0m\u001b[1;33m[\u001b[0m\u001b[1;34m'payload'\u001b[0m\u001b[1;33m]\u001b[0m\u001b[1;33m,\u001b[0m\u001b[0mmax0\u001b[0m\u001b[1;33m)\u001b[0m\u001b[1;33m\u001b[0m\u001b[1;33m\u001b[0m\u001b[0m\n\u001b[0;32m      5\u001b[0m \u001b[1;33m\u001b[0m\u001b[0m\n\u001b[1;32m----> 6\u001b[1;33m \u001b[0maxarray\u001b[0m\u001b[1;33m[\u001b[0m\u001b[1;36m0\u001b[0m\u001b[1;33m,\u001b[0m\u001b[1;36m0\u001b[0m\u001b[1;33m]\u001b[0m\u001b[1;33m.\u001b[0m\u001b[0mplot\u001b[0m\u001b[1;33m(\u001b[0m\u001b[0mip0\u001b[0m\u001b[1;33m[\u001b[0m\u001b[1;34m'time'\u001b[0m\u001b[1;33m]\u001b[0m\u001b[1;33m,\u001b[0m\u001b[0mip0f\u001b[0m\u001b[1;33m)\u001b[0m\u001b[1;33m\u001b[0m\u001b[1;33m\u001b[0m\u001b[0m\n\u001b[0m\u001b[0;32m      7\u001b[0m \u001b[0maxarray\u001b[0m\u001b[1;33m[\u001b[0m\u001b[1;36m0\u001b[0m\u001b[1;33m,\u001b[0m\u001b[1;36m0\u001b[0m\u001b[1;33m]\u001b[0m\u001b[1;33m.\u001b[0m\u001b[0mplot\u001b[0m\u001b[1;33m(\u001b[0m\u001b[0mip0\u001b[0m\u001b[1;33m[\u001b[0m\u001b[1;34m'time'\u001b[0m\u001b[1;33m]\u001b[0m\u001b[1;33m,\u001b[0m\u001b[0mypred0\u001b[0m\u001b[1;33m,\u001b[0m\u001b[0mcolor\u001b[0m\u001b[1;33m=\u001b[0m\u001b[1;34m'r'\u001b[0m\u001b[1;33m)\u001b[0m\u001b[1;33m\u001b[0m\u001b[1;33m\u001b[0m\u001b[0m\n\u001b[0;32m      8\u001b[0m \u001b[0maxarray\u001b[0m\u001b[1;33m[\u001b[0m\u001b[1;36m0\u001b[0m\u001b[1;33m,\u001b[0m\u001b[1;36m0\u001b[0m\u001b[1;33m]\u001b[0m\u001b[1;33m.\u001b[0m\u001b[0mset_title\u001b[0m\u001b[1;33m(\u001b[0m\u001b[1;34m\"Local IP Flow and prediction\"\u001b[0m\u001b[1;33m)\u001b[0m\u001b[1;33m\u001b[0m\u001b[1;33m\u001b[0m\u001b[0m\n",
      "\u001b[1;31mTypeError\u001b[0m: 'AxesSubplot' object is not subscriptable"
     ]
    },
    {
     "data": {
      "image/png": "[encoded data removed]",
      "text/plain": [
       "<Figure size 1080x1440 with 1 Axes>"
      ]
     },
     "metadata": {
      "needs_background": "light"
     },
     "output_type": "display_data"
    }
   ],
   "source": [
    "f,axarray = plt.subplots(figsize=(15,20))\n",
    "\n",
    "ypred0 = np.multiply(predictFlow(m0,ip0[['payload','time']].copy()),max0)\n",
    "ip0f = np.multiply(ip0['payload'],max0)\n",
    "\n",
    "axarray[0,0].plot(ip0['time'],ip0f)\n",
    "axarray[0,0].plot(ip0['time'],ypred0,color='r')\n",
    "axarray[0,0].set_title(\"Local IP Flow and prediction\")"
   ]
  },
  {
   "cell_type": "code",
   "execution_count": 60,
   "metadata": {},
   "outputs": [],
   "source": [
    "corr0 = pd.Series(ip0f).corr(pd.Series(ypred0))"
   ]
  },
  {
   "cell_type": "code",
   "execution_count": 61,
   "metadata": {},
   "outputs": [],
   "source": [
    "ip0 = df[df['time']==0]"
   ]
  },
  {
   "cell_type": "code",
   "execution_count": 62,
   "metadata": {},
   "outputs": [],
   "source": [
    "def ApEn(U, m, r):\n",
    "\n",
    "    def _maxdist(x_i, x_j):\n",
    "        return max([abs(ua - va) for ua, va in zip(x_i, x_j)])\n",
    "\n",
    "    def _phi(m):\n",
    "        x = [[U[j] for j in range(i, i + m - 1 + 1)] for i in range(N - m + 1)]\n",
    "        C = [len([1 for x_j in x if _maxdist(x_i, x_j) <= r]) / (N - m + 1.0) for x_i in x]\n",
    "        return (N - m + 1.0)**(-1) * sum(np.log(C))\n",
    "\n",
    "    N = len(U)\n",
    "\n",
    "    return abs(_phi(m + 1) - _phi(m))"
   ]
  },
  {
   "cell_type": "code",
   "execution_count": 63,
   "metadata": {},
   "outputs": [],
   "source": [
    "m=2\n",
    "r = 3\n",
    "e0 = ApEn(np.multiply(ip0['payload'].values,1),m,r)"
   ]
  },
  {
   "cell_type": "code",
   "execution_count": 64,
   "metadata": {},
   "outputs": [
    {
     "data": {
      "text/html": [
       "<div>\n",
       "<style scoped>\n",
       "    .dataframe tbody tr th:only-of-type {\n",
       "        vertical-align: middle;\n",
       "    }\n",
       "\n",
       "    .dataframe tbody tr th {\n",
       "        vertical-align: top;\n",
       "    }\n",
       "\n",
       "    .dataframe thead th {\n",
       "        text-align: right;\n",
       "    }\n",
       "</style>\n",
       "<table border=\"1\" class=\"dataframe\">\n",
       "  <thead>\n",
       "    <tr style=\"text-align: right;\">\n",
       "      <th></th>\n",
       "      <th>e0</th>\n",
       "    </tr>\n",
       "  </thead>\n",
       "  <tbody>\n",
       "    <tr>\n",
       "      <th>0</th>\n",
       "      <td>0.0</td>\n",
       "    </tr>\n",
       "  </tbody>\n",
       "</table>\n",
       "</div>"
      ],
      "text/plain": [
       "    e0\n",
       "0  0.0"
      ]
     },
     "execution_count": 64,
     "metadata": {},
     "output_type": "execute_result"
    }
   ],
   "source": [
    "ent_values = pd.DataFrame({'e0':[e0]})\n",
    "ent_values.head()"
   ]
  },
  {
   "cell_type": "code",
   "execution_count": 65,
   "metadata": {},
   "outputs": [],
   "source": [
    "def entropyTrend(data,d):\n",
    "    etrend = [ApEn(np.multiply(data[n:n+d].values,1),2,3) for n in range(len(data)-d)]\n",
    "    return etrend"
   ]
  },
  {
   "cell_type": "code",
   "execution_count": 66,
   "metadata": {},
   "outputs": [
    {
     "ename": "TypeError",
     "evalue": "'AxesSubplot' object is not subscriptable",
     "output_type": "error",
     "traceback": [
      "\u001b[1;31m---------------------------------------------------------------------------\u001b[0m",
      "\u001b[1;31mTypeError\u001b[0m                                 Traceback (most recent call last)",
      "\u001b[1;32m<ipython-input-66-243e0f06c760>\u001b[0m in \u001b[0;36m<module>\u001b[1;34m\u001b[0m\n\u001b[0;32m      2\u001b[0m \u001b[0mdays\u001b[0m \u001b[1;33m=\u001b[0m \u001b[1;36m30\u001b[0m\u001b[1;33m\u001b[0m\u001b[1;33m\u001b[0m\u001b[0m\n\u001b[0;32m      3\u001b[0m \u001b[0met0\u001b[0m \u001b[1;33m=\u001b[0m \u001b[0mentropyTrend\u001b[0m\u001b[1;33m(\u001b[0m\u001b[0mip0\u001b[0m\u001b[1;33m[\u001b[0m\u001b[1;34m'payload'\u001b[0m\u001b[1;33m]\u001b[0m\u001b[1;33m,\u001b[0m\u001b[0mdays\u001b[0m\u001b[1;33m)\u001b[0m\u001b[1;33m\u001b[0m\u001b[1;33m\u001b[0m\u001b[0m\n\u001b[1;32m----> 4\u001b[1;33m \u001b[0maxarray\u001b[0m\u001b[1;33m[\u001b[0m\u001b[1;36m0\u001b[0m\u001b[1;33m,\u001b[0m\u001b[1;36m0\u001b[0m\u001b[1;33m]\u001b[0m\u001b[1;33m.\u001b[0m\u001b[0mplot\u001b[0m\u001b[1;33m(\u001b[0m\u001b[0mrange\u001b[0m\u001b[1;33m(\u001b[0m\u001b[0mlen\u001b[0m\u001b[1;33m(\u001b[0m\u001b[0met0\u001b[0m\u001b[1;33m)\u001b[0m\u001b[1;33m)\u001b[0m\u001b[1;33m,\u001b[0m\u001b[0met0\u001b[0m\u001b[1;33m)\u001b[0m\u001b[1;33m\u001b[0m\u001b[1;33m\u001b[0m\u001b[0m\n\u001b[0m\u001b[0;32m      5\u001b[0m \u001b[0maxarray\u001b[0m\u001b[1;33m[\u001b[0m\u001b[1;36m0\u001b[0m\u001b[1;33m,\u001b[0m\u001b[1;36m0\u001b[0m\u001b[1;33m]\u001b[0m\u001b[1;33m.\u001b[0m\u001b[0mset_title\u001b[0m\u001b[1;33m(\u001b[0m\u001b[1;34m\"Local IP ApEn Variation\"\u001b[0m\u001b[1;33m)\u001b[0m\u001b[1;33m\u001b[0m\u001b[1;33m\u001b[0m\u001b[0m\n",
      "\u001b[1;31mTypeError\u001b[0m: 'AxesSubplot' object is not subscriptable"
     ]
    },
    {
     "data": {
      "image/png": "[encoded data removed]",
      "text/plain": [
       "<Figure size 1080x1440 with 1 Axes>"
      ]
     },
     "metadata": {
      "needs_background": "light"
     },
     "output_type": "display_data"
    }
   ],
   "source": [
    "f,axarray = plt.subplots(figsize=(15,20))\n",
    "days = 30\n",
    "et0 = entropyTrend(ip0['payload'],days)\n",
    "axarray[0,0].plot(range(len(et0)),et0)\n",
    "axarray[0,0].set_title(\"Local IP ApEn Variation\")"
   ]
  },
  {
   "cell_type": "code",
   "execution_count": null,
   "metadata": {},
   "outputs": [],
   "source": []
  }
 ],
 "metadata": {
  "kernelspec": {
   "display_name": "Python 3",
   "language": "python",
   "name": "python3"
  },
  "language_info": {
   "codemirror_mode": {
    "name": "ipython",
    "version": 3
   },
   "file_extension": ".py",
   "mimetype": "text/x-python",
   "name": "python",
   "nbconvert_exporter": "python",
   "pygments_lexer": "ipython3",
   "version": "3.7.1"
  }
 },
 "nbformat": 4,
 "nbformat_minor": 2
}
