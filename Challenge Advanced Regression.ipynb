{
 "cells": [
  {
   "cell_type": "markdown",
   "metadata": {},
   "source": [
    "<h1><center>Challenge Advanced Regression</center></h1>"
   ]
  },
  {
   "cell_type": "code",
   "execution_count": 1,
   "metadata": {},
   "outputs": [],
   "source": [
    "import pandas as pd\n",
    "from matplotlib import pyplot as plt\n",
    "import numpy as np\n",
    "import math\n",
    "import seaborn as sns\n",
    "import sklearn\n",
    "from sklearn import linear_model\n",
    "from sklearn import preprocessing\n",
    "from sklearn.linear_model import LogisticRegression\n",
    "from sklearn.linear_model import Ridge\n",
    "from sklearn.model_selection import train_test_split\n",
    "from sklearn.model_selection import cross_val_score\n",
    "from sklearn.preprocessing import scale\n",
    "from scipy.stats import ttest_ind\n",
    "import statsmodels.api as sm\n",
    "\n",
    "%matplotlib inline\n",
    "sns.set_style('darkgrid')"
   ]
  },
  {
   "cell_type": "code",
   "execution_count": 8,
   "metadata": {},
   "outputs": [],
   "source": [
    "df = pd.read_excel('table_8_offenses_known_to_law_enforcement_illinois_by_city_2013.xls',header = 4, skipfooter = 10)"
   ]
  },
  {
   "cell_type": "code",
   "execution_count": 9,
   "metadata": {},
   "outputs": [
    {
     "data": {
      "text/html": [
       "<div>\n",
       "<style scoped>\n",
       "    .dataframe tbody tr th:only-of-type {\n",
       "        vertical-align: middle;\n",
       "    }\n",
       "\n",
       "    .dataframe tbody tr th {\n",
       "        vertical-align: top;\n",
       "    }\n",
       "\n",
       "    .dataframe thead th {\n",
       "        text-align: right;\n",
       "    }\n",
       "</style>\n",
       "<table border=\"1\" class=\"dataframe\">\n",
       "  <thead>\n",
       "    <tr style=\"text-align: right;\">\n",
       "      <th></th>\n",
       "      <th>City</th>\n",
       "      <th>Population</th>\n",
       "      <th>Violent\n",
       "crime</th>\n",
       "      <th>Murder and\n",
       "nonnegligent\n",
       "manslaughter</th>\n",
       "      <th>Rape\n",
       "(revised\n",
       "definition)1</th>\n",
       "      <th>Rape\n",
       "(legacy\n",
       "definition)2</th>\n",
       "      <th>Robbery</th>\n",
       "      <th>Aggravated\n",
       "assault</th>\n",
       "      <th>Property\n",
       "crime</th>\n",
       "      <th>Burglary</th>\n",
       "      <th>Larceny-\n",
       "theft</th>\n",
       "      <th>Motor\n",
       "vehicle\n",
       "theft</th>\n",
       "      <th>Arson</th>\n",
       "    </tr>\n",
       "  </thead>\n",
       "  <tbody>\n",
       "    <tr>\n",
       "      <th>0</th>\n",
       "      <td>Addison</td>\n",
       "      <td>37378</td>\n",
       "      <td>40.0</td>\n",
       "      <td>1</td>\n",
       "      <td>NaN</td>\n",
       "      <td>8.0</td>\n",
       "      <td>5</td>\n",
       "      <td>26.0</td>\n",
       "      <td>640</td>\n",
       "      <td>97</td>\n",
       "      <td>527</td>\n",
       "      <td>16</td>\n",
       "      <td>5</td>\n",
       "    </tr>\n",
       "    <tr>\n",
       "      <th>1</th>\n",
       "      <td>Albany</td>\n",
       "      <td>878</td>\n",
       "      <td>0.0</td>\n",
       "      <td>0</td>\n",
       "      <td>NaN</td>\n",
       "      <td>0.0</td>\n",
       "      <td>0</td>\n",
       "      <td>0.0</td>\n",
       "      <td>5</td>\n",
       "      <td>0</td>\n",
       "      <td>5</td>\n",
       "      <td>0</td>\n",
       "      <td>0</td>\n",
       "    </tr>\n",
       "    <tr>\n",
       "      <th>2</th>\n",
       "      <td>Albers</td>\n",
       "      <td>1187</td>\n",
       "      <td>0.0</td>\n",
       "      <td>0</td>\n",
       "      <td>NaN</td>\n",
       "      <td>0.0</td>\n",
       "      <td>0</td>\n",
       "      <td>0.0</td>\n",
       "      <td>0</td>\n",
       "      <td>0</td>\n",
       "      <td>0</td>\n",
       "      <td>0</td>\n",
       "      <td>0</td>\n",
       "    </tr>\n",
       "    <tr>\n",
       "      <th>3</th>\n",
       "      <td>Albion</td>\n",
       "      <td>1975</td>\n",
       "      <td>0.0</td>\n",
       "      <td>0</td>\n",
       "      <td>NaN</td>\n",
       "      <td>0.0</td>\n",
       "      <td>0</td>\n",
       "      <td>0.0</td>\n",
       "      <td>33</td>\n",
       "      <td>8</td>\n",
       "      <td>22</td>\n",
       "      <td>3</td>\n",
       "      <td>1</td>\n",
       "    </tr>\n",
       "    <tr>\n",
       "      <th>4</th>\n",
       "      <td>Algonquin</td>\n",
       "      <td>29980</td>\n",
       "      <td>18.0</td>\n",
       "      <td>0</td>\n",
       "      <td>NaN</td>\n",
       "      <td>3.0</td>\n",
       "      <td>2</td>\n",
       "      <td>13.0</td>\n",
       "      <td>519</td>\n",
       "      <td>33</td>\n",
       "      <td>475</td>\n",
       "      <td>11</td>\n",
       "      <td>6</td>\n",
       "    </tr>\n",
       "  </tbody>\n",
       "</table>\n",
       "</div>"
      ],
      "text/plain": [
       "        City  Population  Violent\\ncrime  \\\n",
       "0    Addison       37378            40.0   \n",
       "1     Albany         878             0.0   \n",
       "2     Albers        1187             0.0   \n",
       "3     Albion        1975             0.0   \n",
       "4  Algonquin       29980            18.0   \n",
       "\n",
       "   Murder and\\nnonnegligent\\nmanslaughter  Rape\\n(revised\\ndefinition)1  \\\n",
       "0                                       1                           NaN   \n",
       "1                                       0                           NaN   \n",
       "2                                       0                           NaN   \n",
       "3                                       0                           NaN   \n",
       "4                                       0                           NaN   \n",
       "\n",
       "   Rape\\n(legacy\\ndefinition)2  Robbery  Aggravated\\nassault  Property\\ncrime  \\\n",
       "0                          8.0        5                 26.0              640   \n",
       "1                          0.0        0                  0.0                5   \n",
       "2                          0.0        0                  0.0                0   \n",
       "3                          0.0        0                  0.0               33   \n",
       "4                          3.0        2                 13.0              519   \n",
       "\n",
       "   Burglary  Larceny-\\ntheft  Motor\\nvehicle\\ntheft  Arson  \n",
       "0        97              527                     16      5  \n",
       "1         0                5                      0      0  \n",
       "2         0                0                      0      0  \n",
       "3         8               22                      3      1  \n",
       "4        33              475                     11      6  "
      ]
     },
     "execution_count": 9,
     "metadata": {},
     "output_type": "execute_result"
    }
   ],
   "source": [
    "df.head()"
   ]
  },
  {
   "cell_type": "code",
   "execution_count": 11,
   "metadata": {},
   "outputs": [],
   "source": [
    "cols = list(df.loc[:,'City':'Arson'])\n",
    "df = df[cols]\n",
    "df.columns = ['City', 'Population', 'Violent_Crime',\n",
    "       'Murder_manslaughter',\n",
    "       'Rape1', 'Rape2',\n",
    "       'Robbery', 'Agg_ass', 'Property_Crime', 'Burglary',\n",
    "       'Larceny_Theft', 'Motor_Theft', 'Arson3']"
   ]
  },
  {
   "cell_type": "code",
   "execution_count": 12,
   "metadata": {},
   "outputs": [
    {
     "data": {
      "text/plain": [
       "City                    0.0\n",
       "Population              0.0\n",
       "Violent_Crime           0.2\n",
       "Murder_manslaughter     0.0\n",
       "Rape1                  99.8\n",
       "Rape2                   0.4\n",
       "Robbery                 0.0\n",
       "Agg_ass                 0.2\n",
       "Property_Crime          0.0\n",
       "Burglary                0.0\n",
       "Larceny_Theft           0.0\n",
       "Motor_Theft             0.0\n",
       "Arson3                  0.0\n",
       "dtype: float64"
      ]
     },
     "execution_count": 12,
     "metadata": {},
     "output_type": "execute_result"
    }
   ],
   "source": [
    "(df.isnull().sum()/len(df))*100"
   ]
  },
  {
   "cell_type": "code",
   "execution_count": 13,
   "metadata": {},
   "outputs": [
    {
     "data": {
      "text/plain": [
       "0.0"
      ]
     },
     "execution_count": 13,
     "metadata": {},
     "output_type": "execute_result"
    }
   ],
   "source": [
    "df.dropna().shape[0]/df.shape[0]"
   ]
  },
  {
   "cell_type": "code",
   "execution_count": 14,
   "metadata": {},
   "outputs": [],
   "source": [
    "if 'Rape1' in df.columns:df[\"Rape\"] = df[\"Rape1\"].fillna(df[\"Rape2\"])\n",
    "if 'Rape1' in df.columns: del df['Rape1']\n",
    "if 'Rape2' in df.columns: del df['Rape2']\n",
    "df.fillna(0, inplace=True)"
   ]
  },
  {
   "cell_type": "code",
   "execution_count": 15,
   "metadata": {},
   "outputs": [
    {
     "data": {
      "text/plain": [
       "City                   0.0\n",
       "Population             0.0\n",
       "Violent_Crime          0.0\n",
       "Murder_manslaughter    0.0\n",
       "Robbery                0.0\n",
       "Agg_ass                0.0\n",
       "Property_Crime         0.0\n",
       "Burglary               0.0\n",
       "Larceny_Theft          0.0\n",
       "Motor_Theft            0.0\n",
       "Arson3                 0.0\n",
       "Rape                   0.0\n",
       "dtype: float64"
      ]
     },
     "execution_count": 15,
     "metadata": {},
     "output_type": "execute_result"
    }
   ],
   "source": [
    "(df.isnull().sum()/len(df))*100"
   ]
  },
  {
   "cell_type": "code",
   "execution_count": 17,
   "metadata": {},
   "outputs": [
    {
     "name": "stderr",
     "output_type": "stream",
     "text": [
      "D:\\Anaconda3\\lib\\site-packages\\ipykernel_launcher.py:4: FutureWarning: 'argmax' is deprecated, use 'idxmax' instead. The behavior of 'argmax'\n",
      "will be corrected to return the positional maximum in the future.\n",
      "Use 'series.values.argmax' to get the position of the maximum now.\n",
      "  after removing the cwd from sys.path.\n"
     ]
    },
    {
     "data": {
      "text/plain": [
       "415"
      ]
     },
     "execution_count": 17,
     "metadata": {},
     "output_type": "execute_result"
    }
   ],
   "source": [
    "crimedata = list(df.loc[:,'Violent_Crime':])\n",
    "df['Total_crimes'] = df[crimedata].sum(axis = 1)\n",
    "df['Crime_per_capita']= df['Total_crimes']/df['Population']\n",
    "df['Crime_per_capita'].argmax()"
   ]
  },
  {
   "cell_type": "code",
   "execution_count": 18,
   "metadata": {},
   "outputs": [
    {
     "data": {
      "image/png": "[encoded data removed]",
      "text/plain": [
       "<Figure size 432x288 with 1 Axes>"
      ]
     },
     "metadata": {
      "needs_background": "light"
     },
     "output_type": "display_data"
    }
   ],
   "source": [
    "plt.boxplot(df['Crime_per_capita'])\n",
    "plt.show()"
   ]
  },
  {
   "cell_type": "code",
   "execution_count": 19,
   "metadata": {},
   "outputs": [
    {
     "name": "stderr",
     "output_type": "stream",
     "text": [
      "D:\\Anaconda3\\lib\\site-packages\\ipykernel_launcher.py:1: DeprecationWarning: \n",
      ".ix is deprecated. Please use\n",
      ".loc for label based indexing or\n",
      ".iloc for positional indexing\n",
      "\n",
      "See the documentation here:\n",
      "http://pandas.pydata.org/pandas-docs/stable/indexing.html#ix-indexer-is-deprecated\n",
      "  \"\"\"Entry point for launching an IPython kernel.\n",
      "D:\\Anaconda3\\lib\\site-packages\\ipykernel_launcher.py:1: FutureWarning: 'argmax' is deprecated, use 'idxmax' instead. The behavior of 'argmax'\n",
      "will be corrected to return the positional maximum in the future.\n",
      "Use 'series.values.argmax' to get the position of the maximum now.\n",
      "  \"\"\"Entry point for launching an IPython kernel.\n"
     ]
    },
    {
     "data": {
      "text/plain": [
       "City                    Sauget\n",
       "Population                 155\n",
       "Violent_Crime               10\n",
       "Murder_manslaughter          0\n",
       "Robbery                      1\n",
       "Agg_ass                      4\n",
       "Property_Crime             101\n",
       "Burglary                     5\n",
       "Larceny_Theft               87\n",
       "Motor_Theft                  9\n",
       "Arson3                       0\n",
       "Rape                         5\n",
       "Total_crimes               222\n",
       "Crime_per_capita       1.43226\n",
       "Name: 415, dtype: object"
      ]
     },
     "execution_count": 19,
     "metadata": {},
     "output_type": "execute_result"
    }
   ],
   "source": [
    "df.ix[df['Crime_per_capita'].argmax()]"
   ]
  },
  {
   "cell_type": "code",
   "execution_count": 20,
   "metadata": {},
   "outputs": [],
   "source": [
    "df.drop(415, inplace = True)"
   ]
  },
  {
   "cell_type": "code",
   "execution_count": 21,
   "metadata": {},
   "outputs": [
    {
     "data": {
      "image/png": "[encoded data removed]",
      "text/plain": [
       "<Figure size 432x288 with 1 Axes>"
      ]
     },
     "metadata": {
      "needs_background": "light"
     },
     "output_type": "display_data"
    }
   ],
   "source": [
    "plt.boxplot(df['Crime_per_capita'])\n",
    "plt.show()"
   ]
  },
  {
   "cell_type": "code",
   "execution_count": 22,
   "metadata": {},
   "outputs": [
    {
     "data": {
      "text/plain": [
       "0"
      ]
     },
     "execution_count": 22,
     "metadata": {},
     "output_type": "execute_result"
    }
   ],
   "source": [
    "df[df['Crime_per_capita']>1].Crime_per_capita.count()"
   ]
  },
  {
   "cell_type": "code",
   "execution_count": 23,
   "metadata": {},
   "outputs": [
    {
     "data": {
      "text/plain": [
       "Int64Index([], dtype='int64')"
      ]
     },
     "execution_count": 23,
     "metadata": {},
     "output_type": "execute_result"
    }
   ],
   "source": [
    "df[df['Crime_per_capita']>1].index"
   ]
  },
  {
   "cell_type": "code",
   "execution_count": 24,
   "metadata": {},
   "outputs": [
    {
     "data": {
      "text/plain": [
       "count    499.000000\n",
       "mean       0.041832\n",
       "std        0.037573\n",
       "min        0.000000\n",
       "25%        0.020054\n",
       "50%        0.033293\n",
       "75%        0.052278\n",
       "max        0.354978\n",
       "Name: Crime_per_capita, dtype: float64"
      ]
     },
     "execution_count": 24,
     "metadata": {},
     "output_type": "execute_result"
    }
   ],
   "source": [
    "df['Crime_per_capita'].describe()"
   ]
  },
  {
   "cell_type": "code",
   "execution_count": 25,
   "metadata": {},
   "outputs": [
    {
     "data": {
      "text/plain": [
       "0.01603206412825651"
      ]
     },
     "execution_count": 25,
     "metadata": {},
     "output_type": "execute_result"
    }
   ],
   "source": [
    "df[df['Crime_per_capita']==0].Crime_per_capita.count()/len(df)"
   ]
  },
  {
   "cell_type": "code",
   "execution_count": 26,
   "metadata": {},
   "outputs": [],
   "source": [
    "df['Safe_City'] = np.where(df['Crime_per_capita']<=0.024772, 1, 0)"
   ]
  },
  {
   "cell_type": "code",
   "execution_count": 27,
   "metadata": {},
   "outputs": [],
   "source": [
    "from sklearn.model_selection import train_test_split\n",
    "y = df['Safe_City']\n",
    "X = df[crimedata]\n",
    "\n",
    "X_train, X_test, y_train, y_test = train_test_split(X, y, test_size=0.50)"
   ]
  },
  {
   "cell_type": "code",
   "execution_count": 28,
   "metadata": {},
   "outputs": [
    {
     "name": "stdout",
     "output_type": "stream",
     "text": [
      "Coefficients\n",
      "   Violent_Crime  Murder_manslaughter   Robbery   Agg_ass  Property_Crime  \\\n",
      "0        0.06535            -0.020569  0.054427 -0.138225       -0.052716   \n",
      "\n",
      "   Burglary  Larceny_Theft  Motor_Theft    Arson3      Rape  \n",
      "0  0.040936       0.048324    -0.141976  0.369177  0.169716  \n",
      "\n",
      "Intercept:[0.45579598]\n",
      "\n",
      " Percentage accuracy training set\n",
      "0.7751004016064257\n",
      "\n",
      " Percentage accuracy testing set\n",
      "0.72\n",
      "\n",
      " Accuracy City Safety on Test Set\n",
      "Safe_City    0   1\n",
      "row_0             \n",
      "0          118  36\n",
      "1           34  62\n"
     ]
    },
    {
     "name": "stderr",
     "output_type": "stream",
     "text": [
      "D:\\Anaconda3\\lib\\site-packages\\sklearn\\linear_model\\logistic.py:433: FutureWarning: Default solver will be changed to 'lbfgs' in 0.22. Specify a solver to silence this warning.\n",
      "  FutureWarning)\n"
     ]
    }
   ],
   "source": [
    "from sklearn.linear_model import LogisticRegression\n",
    "lr = LogisticRegression(C=1e9)\n",
    "fit = lr.fit(X_train, y_train)\n",
    "\n",
    "print('Coefficients')\n",
    "print(pd.DataFrame(fit.coef_, columns=crimedata))\n",
    "print('\\nIntercept:{}'.format(fit.intercept_))\n",
    "\n",
    "\n",
    "print('\\n Percentage accuracy training set')\n",
    "print(lr.score(X_train, y_train))\n",
    "\n",
    "print('\\n Percentage accuracy testing set')\n",
    "print(lr.score(X_test, y_test))\n",
    "\n",
    "pred_y_sklearn = lr.predict(X_test)\n",
    "print('\\n Accuracy City Safety on Test Set')\n",
    "print(pd.crosstab(pred_y_sklearn, y_test))"
   ]
  },
  {
   "cell_type": "code",
   "execution_count": 29,
   "metadata": {},
   "outputs": [
    {
     "name": "stdout",
     "output_type": "stream",
     "text": [
      "Coefficients\n",
      "   Violent_Crime  Murder_manslaughter   Robbery   Agg_ass  Property_Crime  \\\n",
      "0       0.013319                  0.0  0.094595 -0.080468       -0.002552   \n",
      "\n",
      "   Burglary  Larceny_Theft  Motor_Theft    Arson3      Rape  \n",
      "0 -0.008332      -0.001656    -0.176531  0.333932  0.204388  \n",
      "\n",
      "Intercept:[0.39541507]\n",
      "\n",
      " Percentage accuracy training set\n",
      "0.7831325301204819\n",
      "\n",
      " Percentage accuracy testing set\n",
      "0.72\n",
      "\n",
      " Accuracy City Safety on Test Set\n",
      "Safe_City    0   1\n",
      "row_0             \n",
      "0          120  38\n",
      "1           32  60\n"
     ]
    },
    {
     "name": "stderr",
     "output_type": "stream",
     "text": [
      "D:\\Anaconda3\\lib\\site-packages\\sklearn\\linear_model\\logistic.py:433: FutureWarning: Default solver will be changed to 'lbfgs' in 0.22. Specify a solver to silence this warning.\n",
      "  FutureWarning)\n"
     ]
    }
   ],
   "source": [
    "lrlasso = LogisticRegression(penalty ='l1')\n",
    "fit = lrlasso.fit(X_train, y_train)\n",
    "\n",
    "print('Coefficients')\n",
    "print(pd.DataFrame(fit.coef_, columns=crimedata))\n",
    "print('\\nIntercept:{}'.format(fit.intercept_))\n",
    "\n",
    "\n",
    "print('\\n Percentage accuracy training set')\n",
    "print(lrlasso.score(X_train, y_train))\n",
    "\n",
    "print('\\n Percentage accuracy testing set')\n",
    "print(lrlasso.score(X_test, y_test))\n",
    "\n",
    "pred_y_sklearn = lrlasso.predict(X_test)\n",
    "print('\\n Accuracy City Safety on Test Set')\n",
    "print(pd.crosstab(pred_y_sklearn, y_test))"
   ]
  },
  {
   "cell_type": "code",
   "execution_count": 30,
   "metadata": {},
   "outputs": [
    {
     "name": "stdout",
     "output_type": "stream",
     "text": [
      "Coefficients\n",
      "   Violent_Crime  Murder_manslaughter   Robbery   Agg_ass  Property_Crime  \\\n",
      "0       0.070187             0.007102  0.044879 -0.140854       -0.051234   \n",
      "\n",
      "   Burglary  Larceny_Theft  Motor_Theft    Arson3     Rape  \n",
      "0  0.039617       0.046949    -0.137801  0.354424  0.15906  \n",
      "\n",
      "Intercept:[0.42478641]\n",
      "\n",
      " Percentage accuracy training set\n",
      "0.7871485943775101\n",
      "\n",
      " Percentage accuracy testing set\n",
      "0.716\n",
      "\n",
      " Accuracy City Safety on Test Set\n",
      "Safe_City    0   1\n",
      "row_0             \n",
      "0          119  38\n",
      "1           33  60\n"
     ]
    },
    {
     "name": "stderr",
     "output_type": "stream",
     "text": [
      "D:\\Anaconda3\\lib\\site-packages\\sklearn\\linear_model\\logistic.py:433: FutureWarning: Default solver will be changed to 'lbfgs' in 0.22. Specify a solver to silence this warning.\n",
      "  FutureWarning)\n"
     ]
    }
   ],
   "source": [
    "lrridge = LogisticRegression(penalty ='l2')\n",
    "fit = lrridge.fit(X_train, y_train)\n",
    "\n",
    "print('Coefficients')\n",
    "print(pd.DataFrame(fit.coef_, columns=crimedata))\n",
    "print('\\nIntercept:{}'.format(fit.intercept_))\n",
    "\n",
    "\n",
    "print('\\n Percentage accuracy training set')\n",
    "print(lrridge.score(X_train, y_train))\n",
    "\n",
    "print('\\n Percentage accuracy testing set')\n",
    "print(lrridge.score(X_test, y_test))\n",
    "\n",
    "pred_y_sklearn = lrridge.predict(X_test)\n",
    "print('\\n Accuracy City Safety on Test Set')\n",
    "print(pd.crosstab(pred_y_sklearn, y_test))"
   ]
  },
  {
   "cell_type": "code",
   "execution_count": null,
   "metadata": {},
   "outputs": [],
   "source": []
  }
 ],
 "metadata": {
  "kernelspec": {
   "display_name": "Python 3",
   "language": "python",
   "name": "python3"
  },
  "language_info": {
   "codemirror_mode": {
    "name": "ipython",
    "version": 3
   },
   "file_extension": ".py",
   "mimetype": "text/x-python",
   "name": "python",
   "nbconvert_exporter": "python",
   "pygments_lexer": "ipython3",
   "version": "3.7.1"
  }
 },
 "nbformat": 4,
 "nbformat_minor": 2
}
