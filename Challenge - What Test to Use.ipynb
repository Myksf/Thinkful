{
 "cells": [
  {
   "cell_type": "markdown",
   "metadata": {},
   "source": [
    "# Challenge: What test to use"
   ]
  },
  {
   "cell_type": "markdown",
   "metadata": {},
   "source": [
    "Using selected questions from the 2012 and 2014 editions of the European Social Survey, address the following questions. Keep track of your code and results in a Jupyter notebook or other source that you can share with your mentor. For each question, explain why you chose the approach you did.\n",
    "\n",
    "Here is the data file. And here is the codebook, with information about the variable coding and content.\n",
    "\n",
    "In this dataset, the same participants answered questions in 2012 and again 2014.\n",
    "\n",
    "Did people become less trusting from 2012 to 2014? Compute results for each country in the sample.\n",
    "Did people become happier from 2012 to 2014? Compute results for each country in the sample.\n",
    "Who reported watching more TV in 2012, men or women?\n",
    "Who was more likely to believe people were fair in 2012, people living with a partner or people living alone?\n",
    "Pick three or four of the countries in the sample and compare how often people met socially in 2014. Are there differences, and if so, which countries stand out?\n",
    "Pick three or four of the countries in the sample and compare how often people took part in social activities, relative to others their age, in 2014. Are there differences, and if so, which countries stand out?"
   ]
  },
  {
   "cell_type": "code",
   "execution_count": 1,
   "metadata": {},
   "outputs": [],
   "source": [
    "# Necessary imports \n",
    "import pandas as pd\n",
    "import numpy as np\n",
    "import matplotlib.pyplot as plt\n",
    "import seaborn as sns\n",
    "%matplotlib inline\n",
    "# Import parametric statistics\n",
    "from scipy.stats import ttest_ind, f_oneway, ttest_rel, shapiro\n",
    "# Import nonparametric statistics\n",
    "from scipy.stats import kruskal, wilcoxon\n",
    "# Import test for normality\n",
    "from statsmodels.stats.multicomp import pairwise_tukeyhsd"
   ]
  },
  {
   "cell_type": "code",
   "execution_count": 2,
   "metadata": {},
   "outputs": [
    {
     "data": {
      "text/html": [
       "<div>\n",
       "<style scoped>\n",
       "    .dataframe tbody tr th:only-of-type {\n",
       "        vertical-align: middle;\n",
       "    }\n",
       "\n",
       "    .dataframe tbody tr th {\n",
       "        vertical-align: top;\n",
       "    }\n",
       "\n",
       "    .dataframe thead th {\n",
       "        text-align: right;\n",
       "    }\n",
       "</style>\n",
       "<table border=\"1\" class=\"dataframe\">\n",
       "  <thead>\n",
       "    <tr style=\"text-align: right;\">\n",
       "      <th></th>\n",
       "      <th>cntry</th>\n",
       "      <th>idno</th>\n",
       "      <th>year</th>\n",
       "      <th>tvtot</th>\n",
       "      <th>ppltrst</th>\n",
       "      <th>pplfair</th>\n",
       "      <th>pplhlp</th>\n",
       "      <th>happy</th>\n",
       "      <th>sclmeet</th>\n",
       "      <th>sclact</th>\n",
       "      <th>gndr</th>\n",
       "      <th>agea</th>\n",
       "      <th>partner</th>\n",
       "    </tr>\n",
       "  </thead>\n",
       "  <tbody>\n",
       "    <tr>\n",
       "      <th>0</th>\n",
       "      <td>CH</td>\n",
       "      <td>5.0</td>\n",
       "      <td>6</td>\n",
       "      <td>3.0</td>\n",
       "      <td>3.0</td>\n",
       "      <td>10.0</td>\n",
       "      <td>5.0</td>\n",
       "      <td>8.0</td>\n",
       "      <td>5.0</td>\n",
       "      <td>4.0</td>\n",
       "      <td>2.0</td>\n",
       "      <td>60.0</td>\n",
       "      <td>1.0</td>\n",
       "    </tr>\n",
       "    <tr>\n",
       "      <th>1</th>\n",
       "      <td>CH</td>\n",
       "      <td>25.0</td>\n",
       "      <td>6</td>\n",
       "      <td>6.0</td>\n",
       "      <td>5.0</td>\n",
       "      <td>7.0</td>\n",
       "      <td>5.0</td>\n",
       "      <td>9.0</td>\n",
       "      <td>3.0</td>\n",
       "      <td>2.0</td>\n",
       "      <td>2.0</td>\n",
       "      <td>59.0</td>\n",
       "      <td>1.0</td>\n",
       "    </tr>\n",
       "    <tr>\n",
       "      <th>2</th>\n",
       "      <td>CH</td>\n",
       "      <td>26.0</td>\n",
       "      <td>6</td>\n",
       "      <td>1.0</td>\n",
       "      <td>8.0</td>\n",
       "      <td>8.0</td>\n",
       "      <td>8.0</td>\n",
       "      <td>7.0</td>\n",
       "      <td>6.0</td>\n",
       "      <td>3.0</td>\n",
       "      <td>1.0</td>\n",
       "      <td>24.0</td>\n",
       "      <td>2.0</td>\n",
       "    </tr>\n",
       "    <tr>\n",
       "      <th>3</th>\n",
       "      <td>CH</td>\n",
       "      <td>28.0</td>\n",
       "      <td>6</td>\n",
       "      <td>4.0</td>\n",
       "      <td>6.0</td>\n",
       "      <td>6.0</td>\n",
       "      <td>7.0</td>\n",
       "      <td>10.0</td>\n",
       "      <td>6.0</td>\n",
       "      <td>2.0</td>\n",
       "      <td>2.0</td>\n",
       "      <td>64.0</td>\n",
       "      <td>1.0</td>\n",
       "    </tr>\n",
       "    <tr>\n",
       "      <th>4</th>\n",
       "      <td>CH</td>\n",
       "      <td>29.0</td>\n",
       "      <td>6</td>\n",
       "      <td>5.0</td>\n",
       "      <td>6.0</td>\n",
       "      <td>7.0</td>\n",
       "      <td>5.0</td>\n",
       "      <td>8.0</td>\n",
       "      <td>7.0</td>\n",
       "      <td>2.0</td>\n",
       "      <td>2.0</td>\n",
       "      <td>55.0</td>\n",
       "      <td>1.0</td>\n",
       "    </tr>\n",
       "  </tbody>\n",
       "</table>\n",
       "</div>"
      ],
      "text/plain": [
       "  cntry  idno  year  tvtot  ppltrst  pplfair  pplhlp  happy  sclmeet  sclact  \\\n",
       "0    CH   5.0     6    3.0      3.0     10.0     5.0    8.0      5.0     4.0   \n",
       "1    CH  25.0     6    6.0      5.0      7.0     5.0    9.0      3.0     2.0   \n",
       "2    CH  26.0     6    1.0      8.0      8.0     8.0    7.0      6.0     3.0   \n",
       "3    CH  28.0     6    4.0      6.0      6.0     7.0   10.0      6.0     2.0   \n",
       "4    CH  29.0     6    5.0      6.0      7.0     5.0    8.0      7.0     2.0   \n",
       "\n",
       "   gndr  agea  partner  \n",
       "0   2.0  60.0      1.0  \n",
       "1   2.0  59.0      1.0  \n",
       "2   1.0  24.0      2.0  \n",
       "3   2.0  64.0      1.0  \n",
       "4   2.0  55.0      1.0  "
      ]
     },
     "execution_count": 2,
     "metadata": {},
     "output_type": "execute_result"
    }
   ],
   "source": [
    "# Load in data\n",
    "ess_raw = pd.read_csv('ESSdata_Thinkful.csv')\n",
    "ess_raw.head()"
   ]
  },
  {
   "cell_type": "code",
   "execution_count": 3,
   "metadata": {},
   "outputs": [
    {
     "data": {
      "text/plain": [
       "cntry         6\n",
       "idno       3086\n",
       "year          2\n",
       "tvtot         8\n",
       "ppltrst      11\n",
       "pplfair      11\n",
       "pplhlp       11\n",
       "happy        11\n",
       "sclmeet       7\n",
       "sclact        5\n",
       "gndr          2\n",
       "agea         83\n",
       "partner       2\n",
       "dtype: int64"
      ]
     },
     "execution_count": 3,
     "metadata": {},
     "output_type": "execute_result"
    }
   ],
   "source": [
    "ess_raw.nunique()"
   ]
  },
  {
   "cell_type": "code",
   "execution_count": 4,
   "metadata": {},
   "outputs": [
    {
     "name": "stdout",
     "output_type": "stream",
     "text": [
      "\t\t\t\t\tDistribution of trust\n"
     ]
    },
    {
     "data": {
      "image/png": "[encoded data removed]",
      "text/plain": [
       "<Figure size 1296x432 with 12 Axes>"
      ]
     },
     "metadata": {
      "needs_background": "light"
     },
     "output_type": "display_data"
    },
    {
     "name": "stdout",
     "output_type": "stream",
     "text": [
      "Shapiro Tests for Normality\n",
      "CH 6 (0.9517108201980591, 9.511383786695374e-15)\n",
      "CH 7 (0.9547930955886841, 2.4654701498145852e-14)\n",
      "\n",
      "CZ 6 (0.9680074453353882, 3.6126571179018185e-10)\n",
      "CZ 7 (0.9715777039527893, 1.8779569010973773e-09)\n",
      "\n",
      "DE 6 (0.8929170966148376, 0.1069343090057373)\n",
      "DE 7 (0.9425466060638428, 0.4519253373146057)\n",
      "\n",
      "ES 6 (0.949491024017334, 1.6942651933374377e-19)\n",
      "ES 7 (0.9663601517677307, 1.5275811452092943e-15)\n",
      "\n",
      "NO 6 (0.9211018085479736, 8.881221102071063e-19)\n",
      "NO 7 (0.9292042255401611, 7.92943027973029e-18)\n",
      "\n",
      "SE 6 (0.9367397427558899, 1.2586250953636158e-18)\n",
      "SE 7 (0.9376322627067566, 1.3852298444033788e-18)\n",
      "\n"
     ]
    }
   ],
   "source": [
    "#Did people become less trusting from 2012 to 2014?\n",
    "\n",
    "# Plotting histograms of trust for each country for each year\n",
    "g = sns.FacetGrid(ess_raw, row='year', col='cntry', palette='pastel', dropna=True, sharey=False)\n",
    "g = g.map(plt.hist, 'ppltrst', alpha=0.8)\n",
    "print('\\t\\t\\t\\t\\tDistribution of trust')\n",
    "plt.show()\n",
    "\n",
    "# Testing each country and each year to determine if trust is normally distributed through Shapiro test\n",
    "# Creating lists of countries and years\n",
    "cntrys = list(ess_raw.cntry.unique())\n",
    "years = [6,7]\n",
    "print('Shapiro Tests for Normality')\n",
    "for cnt in cntrys:\n",
    "    # Isolating data from each country\n",
    "    ess_temp = ess_raw[ess_raw.cntry ==cnt].dropna()\n",
    "    for year in years:\n",
    "        # Printing Shapiro test results\n",
    "        print(cnt, year, shapiro(ess_temp[ess_temp.year ==year].ppltrst))\n",
    "    print()"
   ]
  },
  {
   "cell_type": "code",
   "execution_count": 5,
   "metadata": {},
   "outputs": [
    {
     "name": "stdout",
     "output_type": "stream",
     "text": [
      "Wilcoxon Signed-Rank Test\n",
      "CH WilcoxonResult(statistic=106278.5, pvalue=0.4411286510952477)\n",
      "\n",
      "CZ WilcoxonResult(statistic=82837.0, pvalue=0.2931891426327379)\n",
      "\n",
      "DE WilcoxonResult(statistic=44.0, pvalue=0.9157134600899863)\n",
      "\n",
      "ES WilcoxonResult(statistic=243475.5, pvalue=0.005570829650439684)\n",
      "\n",
      "NO WilcoxonResult(statistic=85392.0, pvalue=0.6139175669970661)\n",
      "\n",
      "SE WilcoxonResult(statistic=130719.5, pvalue=0.028545290985536906)\n",
      "\n"
     ]
    },
    {
     "name": "stderr",
     "output_type": "stream",
     "text": [
      "D:\\Anaconda3\\lib\\site-packages\\scipy\\stats\\morestats.py:2391: RuntimeWarning: invalid value encountered in greater\n",
      "  r_plus = np.sum((d > 0) * r, axis=0)\n",
      "D:\\Anaconda3\\lib\\site-packages\\scipy\\stats\\morestats.py:2392: RuntimeWarning: invalid value encountered in less\n",
      "  r_minus = np.sum((d < 0) * r, axis=0)\n"
     ]
    }
   ],
   "source": [
    "print('Wilcoxon Signed-Rank Test')\n",
    "for cnt in cntrys:\n",
    "    # Isolating data from each country\n",
    "    ess_temp = ess_raw[ess_raw.cntry ==cnt]\n",
    "    # Printing Shapiro test results\n",
    "    print(cnt, wilcoxon(ess_temp[ess_temp.year == 6].ppltrst, \n",
    "                        y=ess_temp[ess_temp.year == 7].ppltrst))\n",
    "    print()"
   ]
  },
  {
   "cell_type": "code",
   "execution_count": 6,
   "metadata": {},
   "outputs": [
    {
     "name": "stdout",
     "output_type": "stream",
     "text": [
      "\t\t\t\t\tDistribution of happiness\n"
     ]
    },
    {
     "data": {
      "image/png": "[encoded data removed]",
      "text/plain": [
       "<Figure size 1296x432 with 12 Axes>"
      ]
     },
     "metadata": {
      "needs_background": "light"
     },
     "output_type": "display_data"
    },
    {
     "name": "stdout",
     "output_type": "stream",
     "text": [
      "Shapiro Tests for Normality\n",
      "CH 6 (0.8773602843284607, 1.4611401593361174e-23)\n",
      "CH 7 (0.8950787782669067, 4.273768685964887e-22)\n",
      "\n",
      "CZ 6 (0.9462587833404541, 5.939277796787254e-14)\n",
      "CZ 7 (0.944864809513092, 3.1645106863707403e-14)\n",
      "\n",
      "DE 6 (0.9160984754562378, 0.22211012244224548)\n",
      "DE 7 (0.9213663339614868, 0.23006466031074524)\n",
      "\n",
      "ES 6 (0.9052610397338867, 3.4151276945678624e-26)\n",
      "ES 7 (0.9136462211608887, 6.898763644671094e-25)\n",
      "\n",
      "NO 6 (0.8498518466949463, 2.291937245544563e-25)\n",
      "NO 7 (0.8795286417007446, 4.680781911775775e-23)\n",
      "\n",
      "SE 6 (0.9025380611419678, 5.918160728712866e-23)\n",
      "SE 7 (0.9121034145355225, 5.600535793318595e-22)\n",
      "\n"
     ]
    }
   ],
   "source": [
    "# Did people become happier from 2012 to 2014? Compute results for each country in the sample. \n",
    "# Plotting histograms of happiness for each country for each year\n",
    "g = sns.FacetGrid(ess_raw, row='year', col='cntry', dropna=True, sharey=False)\n",
    "g = g.map(plt.hist, 'happy', alpha=0.8, color='purple')\n",
    "print('\\t\\t\\t\\t\\tDistribution of happiness')\n",
    "plt.show()\n",
    "\n",
    "# Testing each country and each year to determine if happiness is normally distributed through Shapiro test\n",
    "# Creating lists of countries and years\n",
    "cntrys = list(ess_raw.cntry.unique())\n",
    "years = [6,7]\n",
    "print('Shapiro Tests for Normality')\n",
    "for cnt in cntrys:\n",
    "    \n",
    "    # Isolating data from each country\n",
    "    ess_temp = ess_raw[ess_raw.cntry ==cnt].dropna()\n",
    "    for year in years:\n",
    "        \n",
    "        # Printing Shapiro test results\n",
    "        print(cnt, year, shapiro(ess_temp[ess_temp.year ==year].happy))\n",
    "    print()"
   ]
  },
  {
   "cell_type": "code",
   "execution_count": 7,
   "metadata": {},
   "outputs": [
    {
     "name": "stdout",
     "output_type": "stream",
     "text": [
      "Wilcoxon Signed-Rank Test\n",
      "CH WilcoxonResult(statistic=92816.5, pvalue=0.8208688161425343)\n",
      "\n",
      "CZ WilcoxonResult(statistic=73213.0, pvalue=0.01064243454053068)\n",
      "\n",
      "DE WilcoxonResult(statistic=23.5, pvalue=0.393351316918508)\n",
      "\n",
      "ES WilcoxonResult(statistic=231958.5, pvalue=0.04923868084306013)\n",
      "\n",
      "NO WilcoxonResult(statistic=67571.5, pvalue=2.7264367804254175e-06)\n",
      "\n",
      "SE WilcoxonResult(statistic=125481.0, pvalue=0.5136403441005022)\n",
      "\n"
     ]
    }
   ],
   "source": [
    "print('Wilcoxon Signed-Rank Test')\n",
    "for cnt in cntrys:\n",
    "    \n",
    "    # Isolating data from each country\n",
    "    ess_temp = ess_raw[ess_raw.cntry ==cnt]\n",
    "    \n",
    "    # Printing Shapiro test results\n",
    "    print(cnt, wilcoxon(ess_temp[ess_temp.year == 6].happy, y=ess_temp[ess_temp.year == 7].happy))\n",
    "    print()"
   ]
  },
  {
   "cell_type": "code",
   "execution_count": 8,
   "metadata": {},
   "outputs": [
    {
     "name": "stdout",
     "output_type": "stream",
     "text": [
      "\t\tDistribution of total TV Watching in 2012 for men and women\n"
     ]
    },
    {
     "data": {
      "image/png": "[encoded data removed]",
      "text/plain": [
       "<Figure size 432x216 with 2 Axes>"
      ]
     },
     "metadata": {
      "needs_background": "light"
     },
     "output_type": "display_data"
    },
    {
     "name": "stdout",
     "output_type": "stream",
     "text": [
      "Males (1.0): (0.9434293508529663, 5.994494507539187e-28)\n",
      "Females (2.0): (0.9390434622764587, 8.488309331265169e-29)\n"
     ]
    }
   ],
   "source": [
    "# Who reported watching more TV in 2012, men or women?\n",
    "ess_2012 = ess_raw[ess_raw.year == 6]\n",
    "g = sns.FacetGrid(ess_2012, col='gndr', dropna=True, sharey=True)\n",
    "g = g.map(plt.hist, 'tvtot', alpha=0.8, color='red', bins=8)\n",
    "\n",
    "print('\\t\\tDistribution of total TV Watching in 2012 for men and women')\n",
    "plt.show()\n",
    "\n",
    "print('Males (1.0):', shapiro(ess_2012[ess_2012.gndr ==1].tvtot.dropna()))\n",
    "print('Females (2.0):', shapiro(ess_2012[ess_2012.gndr ==2].tvtot.dropna()))\n"
   ]
  },
  {
   "cell_type": "code",
   "execution_count": 9,
   "metadata": {},
   "outputs": [
    {
     "data": {
      "text/plain": [
       "2151"
      ]
     },
     "execution_count": 9,
     "metadata": {},
     "output_type": "execute_result"
    }
   ],
   "source": [
    "ess_2012[ess_2012.gndr == 1].tvtot.dropna().count()"
   ]
  },
  {
   "cell_type": "code",
   "execution_count": 10,
   "metadata": {},
   "outputs": [
    {
     "data": {
      "text/plain": [
       "2140"
      ]
     },
     "execution_count": 10,
     "metadata": {},
     "output_type": "execute_result"
    }
   ],
   "source": [
    "ess_2012[ess_2012.gndr == 2].tvtot.dropna().count()"
   ]
  },
  {
   "cell_type": "code",
   "execution_count": 11,
   "metadata": {},
   "outputs": [
    {
     "name": "stdout",
     "output_type": "stream",
     "text": [
      "Wilcoxon Test: WilcoxonResult(statistic=782530.0, pvalue=0.5033507782372963)\n"
     ]
    }
   ],
   "source": [
    "# Printing Wilcoxon Test for TV watching across genders\n",
    "print('Wilcoxon Test:', wilcoxon(ess_2012[ess_2012.gndr == 1].tvtot.dropna()[:2140], \n",
    "                                 y=ess_2012[ess_2012.gndr == 2].tvtot.dropna()))"
   ]
  },
  {
   "cell_type": "code",
   "execution_count": 12,
   "metadata": {},
   "outputs": [
    {
     "name": "stdout",
     "output_type": "stream",
     "text": [
      "\t\tDistribution of Fairness in 2012 for People who Live with and without a Partner\n"
     ]
    },
    {
     "name": "stderr",
     "output_type": "stream",
     "text": [
      "D:\\Anaconda3\\lib\\site-packages\\matplotlib\\axes\\_axes.py:6521: MatplotlibDeprecationWarning: \n",
      "The 'normed' kwarg was deprecated in Matplotlib 2.1 and will be removed in 3.1. Use 'density' instead.\n",
      "  alternative=\"'density'\", removal=\"3.1\")\n",
      "D:\\Anaconda3\\lib\\site-packages\\matplotlib\\axes\\_axes.py:6521: MatplotlibDeprecationWarning: \n",
      "The 'normed' kwarg was deprecated in Matplotlib 2.1 and will be removed in 3.1. Use 'density' instead.\n",
      "  alternative=\"'density'\", removal=\"3.1\")\n"
     ]
    },
    {
     "data": {
      "image/png": "[encoded data removed]",
      "text/plain": [
       "<Figure size 432x216 with 2 Axes>"
      ]
     },
     "metadata": {
      "needs_background": "light"
     },
     "output_type": "display_data"
    },
    {
     "name": "stdout",
     "output_type": "stream",
     "text": [
      "Lives with Partner (1.0): (0.94523686170578, 2.068099309311279e-30)\n",
      "Lives Alone (2.0): (0.9332860112190247, 2.8956791203657545e-26)\n"
     ]
    }
   ],
   "source": [
    "#Who was more likely to believe people were fair in 2012, people living with a partner or people living alone?\n",
    "g = sns.FacetGrid(ess_2012, col='partner', dropna=True, sharey=True)\n",
    "g = g.map(plt.hist, 'pplfair', alpha=0.8, color='green', bins=8, normed=True)\n",
    "\n",
    "print('\\t\\tDistribution of Fairness in 2012 for People who Live with and without a Partner')\n",
    "plt.show()\n",
    "\n",
    "print('Lives with Partner (1.0):', shapiro(ess_2012[ess_2012.partner ==1].tvtot.dropna()))\n",
    "print('Lives Alone (2.0):', shapiro(ess_2012[ess_2012.partner ==2].tvtot.dropna()))"
   ]
  },
  {
   "cell_type": "code",
   "execution_count": 13,
   "metadata": {},
   "outputs": [
    {
     "data": {
      "text/plain": [
       "2663"
      ]
     },
     "execution_count": 13,
     "metadata": {},
     "output_type": "execute_result"
    }
   ],
   "source": [
    "ess_2012[ess_2012.partner == 1].pplfair.dropna().count()"
   ]
  },
  {
   "cell_type": "code",
   "execution_count": 14,
   "metadata": {},
   "outputs": [
    {
     "data": {
      "text/plain": [
       "1608"
      ]
     },
     "execution_count": 14,
     "metadata": {},
     "output_type": "execute_result"
    }
   ],
   "source": [
    "ess_2012[ess_2012.partner == 2].pplfair.dropna().count()"
   ]
  },
  {
   "cell_type": "code",
   "execution_count": 15,
   "metadata": {},
   "outputs": [
    {
     "name": "stdout",
     "output_type": "stream",
     "text": [
      "Wilcoxon Test: WilcoxonResult(statistic=426739.0, pvalue=0.004340158276254172)\n"
     ]
    }
   ],
   "source": [
    "# Printing Wilcoxon Test for fairness across living with and without partners.  \n",
    "# Using only first 1608 entries of living with partners to even counts.\n",
    "print('Wilcoxon Test:', wilcoxon(ess_2012[ess_2012.partner == 1].pplfair.dropna()[:1608], \n",
    "                                 y=ess_2012[ess_2012.partner == 2].pplfair.dropna()))"
   ]
  },
  {
   "cell_type": "code",
   "execution_count": 16,
   "metadata": {},
   "outputs": [
    {
     "name": "stdout",
     "output_type": "stream",
     "text": [
      "Median Fairness for People living with Partners: 7.0\n",
      "Median Fairness for People living Alone: 6.0\n"
     ]
    }
   ],
   "source": [
    "print('Median Fairness for People living with Partners:', ess_2012[ess_2012.partner == 1].pplfair.median())\n",
    "print('Median Fairness for People living Alone:', ess_2012[ess_2012.partner == 2].pplfair.median())"
   ]
  },
  {
   "cell_type": "code",
   "execution_count": 17,
   "metadata": {},
   "outputs": [],
   "source": [
    "#Pick three or four of the countries in the sample and compare how often people met socially in 2014. Are there differences, and if so, which countries stand out? P\n",
    "# Pulling out the countries in 2014\n",
    "country_list = ['CH','CZ','NO','SE']\n",
    "ess_c = ess_raw[(ess_raw.cntry.isin(country_list)) & (ess_raw.year == 7)]"
   ]
  },
  {
   "cell_type": "code",
   "execution_count": 18,
   "metadata": {},
   "outputs": [
    {
     "name": "stdout",
     "output_type": "stream",
     "text": [
      "\t\tDistribution of Social Meetings from 2014 for Four European Countries\n"
     ]
    },
    {
     "data": {
      "image/png": "[encoded data removed]",
      "text/plain": [
       "<Figure size 864x216 with 4 Axes>"
      ]
     },
     "metadata": {
      "needs_background": "light"
     },
     "output_type": "display_data"
    },
    {
     "name": "stdout",
     "output_type": "stream",
     "text": [
      "Shapiro Tests for Normality\n",
      "CH (0.8974164724349976, 2.7436334896806913e-22)\n",
      "\n",
      "CZ (0.9451602101325989, 7.663770300607355e-15)\n",
      "\n",
      "NO (0.8881818056106567, 1.422473605641294e-22)\n",
      "\n",
      "SE (0.8798282146453857, 6.682967662559975e-26)\n",
      "\n"
     ]
    }
   ],
   "source": [
    "# Plotting histograms of happiness for each country for each year\n",
    "g = sns.FacetGrid(ess_c, col='cntry', dropna=True, sharey=False)\n",
    "g = g.map(plt.hist, 'sclmeet', alpha=0.8, color='orange', bins=7)\n",
    "\n",
    "print('\\t\\tDistribution of Social Meetings from 2014 for Four European Countries')\n",
    "plt.show()\n",
    "\n",
    "# Testing each country and each year to determine if happiness is normally distributed through Shapiro test\n",
    "# Creating lists of countries and years\n",
    "cntrys = list(ess_c.cntry.unique())\n",
    "print('Shapiro Tests for Normality')\n",
    "for cnt in cntrys:\n",
    "    # Isolating data from each country\n",
    "    print(cnt, shapiro(ess_c[ess_c.cntry ==cnt].sclmeet.dropna()))\n",
    "    # Printing Shapiro test results\n",
    "    print()"
   ]
  },
  {
   "cell_type": "code",
   "execution_count": 19,
   "metadata": {},
   "outputs": [
    {
     "name": "stdout",
     "output_type": "stream",
     "text": [
      "KruskalResult(statistic=195.46697597845895, pvalue=4.023159532969878e-42)\n"
     ]
    }
   ],
   "source": [
    "# Printing Kruskal test statistic\n",
    "print(kruskal(ess_c[ess_c.cntry == 'CH'].sclmeet.dropna(),\n",
    "             ess_c[ess_c.cntry == 'CZ'].sclmeet.dropna(),\n",
    "             ess_c[ess_c.cntry == 'NO'].sclmeet.dropna(),\n",
    "             ess_c[ess_c.cntry == 'SE'].sclmeet.dropna()))"
   ]
  },
  {
   "cell_type": "code",
   "execution_count": 20,
   "metadata": {},
   "outputs": [
    {
     "name": "stdout",
     "output_type": "stream",
     "text": [
      "CZ vs ES: Ttest_indResult(statistic=nan, pvalue=nan)\n",
      "CZ vs NO: Ttest_indResult(statistic=-11.269186128577815, pvalue=3.0334022155191707e-28)\n",
      "CZ vs SE: Ttest_indResult(statistic=-13.471687937687198, pvalue=3.252593934148172e-39)\n",
      "ES vs NO: Ttest_indResult(statistic=nan, pvalue=nan)\n",
      "ES vs SE: Ttest_indResult(statistic=nan, pvalue=nan)\n",
      "NO vs SE: Ttest_indResult(statistic=-1.8305856428076237, pvalue=0.06734412432597783)\n"
     ]
    }
   ],
   "source": [
    "# Printing all combinations of t-tests\n",
    "print('CZ vs ES:', ttest_ind(ess_c[ess_c.cntry == 'CZ'].sclmeet.dropna(),\n",
    "             ess_c[ess_c.cntry == 'ES'].sclmeet.dropna()))\n",
    "print('CZ vs NO:', ttest_ind(ess_c[ess_c.cntry == 'CZ'].sclmeet.dropna(),\n",
    "             ess_c[ess_c.cntry == 'NO'].sclmeet.dropna()))\n",
    "print('CZ vs SE:', ttest_ind(ess_c[ess_c.cntry == 'CZ'].sclmeet.dropna(),\n",
    "             ess_c[ess_c.cntry == 'SE'].sclmeet.dropna()))\n",
    "print('ES vs NO:', ttest_ind(ess_c[ess_c.cntry == 'ES'].sclmeet.dropna(),\n",
    "             ess_c[ess_c.cntry == 'NO'].sclmeet.dropna()))\n",
    "print('ES vs SE:', ttest_ind(ess_c[ess_c.cntry == 'ES'].sclmeet.dropna(),\n",
    "             ess_c[ess_c.cntry == 'SE'].sclmeet.dropna()))\n",
    "print('NO vs SE:', ttest_ind(ess_c[ess_c.cntry == 'NO'].sclmeet.dropna(),\n",
    "             ess_c[ess_c.cntry == 'SE'].sclmeet.dropna()))"
   ]
  },
  {
   "cell_type": "code",
   "execution_count": 21,
   "metadata": {},
   "outputs": [
    {
     "name": "stdout",
     "output_type": "stream",
     "text": [
      "\t\tDistribution of Social Activities from 2014 for Four European Countries\n"
     ]
    },
    {
     "data": {
      "image/png": "[encoded data removed]",
      "text/plain": [
       "<Figure size 864x216 with 4 Axes>"
      ]
     },
     "metadata": {
      "needs_background": "light"
     },
     "output_type": "display_data"
    },
    {
     "name": "stdout",
     "output_type": "stream",
     "text": [
      "Shapiro Tests for Normality\n",
      "CH (0.8931546211242676, 1.308755961383447e-22)\n",
      "\n",
      "CZ (0.8517600893974304, 3.2631608025549396e-24)\n",
      "\n",
      "NO (0.8678725957870483, 2.398206966061988e-24)\n",
      "\n",
      "SE (0.8822488784790039, 1.283228571387991e-25)\n",
      "\n"
     ]
    }
   ],
   "source": [
    "#Pick three or four of the countries in the sample and compare how often people took part in social activities, relative to others their age, in 2014. Are there differences, and if so, which countries stand out?\n",
    "\n",
    "# Plotting histograms of happiness for each country for each year\n",
    "g = sns.FacetGrid(ess_c, col='cntry', dropna=True, sharey=False)\n",
    "g = g.map(plt.hist, 'sclact', alpha=0.8, color='teal', bins=5)\n",
    "print('\\t\\tDistribution of Social Activities from 2014 for Four European Countries')\n",
    "plt.show()\n",
    "\n",
    "# Testing each country and each year to determine if happiness is normally distributed through Shapiro test\n",
    "# Creating lists of countries and years\n",
    "cntrys = list(ess_c.cntry.unique())\n",
    "print('Shapiro Tests for Normality')\n",
    "for cnt in cntrys:\n",
    "    # Printing Shapiro test results\n",
    "    print(cnt, shapiro(ess_c[ess_c.cntry ==cnt].sclact.dropna()))\n",
    "    print()"
   ]
  },
  {
   "cell_type": "code",
   "execution_count": 22,
   "metadata": {},
   "outputs": [
    {
     "name": "stdout",
     "output_type": "stream",
     "text": [
      "KruskalResult(statistic=nan, pvalue=nan)\n"
     ]
    }
   ],
   "source": [
    "# Printing Kruskal test statistic\n",
    "print(kruskal(ess_c[ess_c.cntry == 'CZ'].sclact.dropna(),\n",
    "             ess_c[ess_c.cntry == 'ES'].sclact.dropna(),\n",
    "             ess_c[ess_c.cntry == 'NO'].sclact.dropna(),\n",
    "             ess_c[ess_c.cntry == 'SE'].sclact.dropna()))"
   ]
  },
  {
   "cell_type": "code",
   "execution_count": 23,
   "metadata": {},
   "outputs": [
    {
     "name": "stdout",
     "output_type": "stream",
     "text": [
      "CZ vs ES: Ttest_indResult(statistic=nan, pvalue=nan)\n",
      "CZ vs NO: Ttest_indResult(statistic=-3.44673561169421, pvalue=0.0005844634540645623)\n",
      "CZ vs SE: Ttest_indResult(statistic=-4.0018841917465595, pvalue=6.580214302799725e-05)\n",
      "ES vs NO: Ttest_indResult(statistic=nan, pvalue=nan)\n",
      "ES vs SE: Ttest_indResult(statistic=nan, pvalue=nan)\n",
      "NO vs SE: Ttest_indResult(statistic=-0.4823216270234106, pvalue=0.6296421272017451)\n"
     ]
    }
   ],
   "source": [
    "# Printing all combinations of t-tests\n",
    "print('CZ vs ES:', ttest_ind(ess_c[ess_c.cntry == 'CZ'].sclact.dropna(),\n",
    "             ess_c[ess_c.cntry == 'ES'].sclact.dropna()))\n",
    "print('CZ vs NO:', ttest_ind(ess_c[ess_c.cntry == 'CZ'].sclact.dropna(),\n",
    "             ess_c[ess_c.cntry == 'NO'].sclact.dropna()))\n",
    "print('CZ vs SE:', ttest_ind(ess_c[ess_c.cntry == 'CZ'].sclact.dropna(),\n",
    "             ess_c[ess_c.cntry == 'SE'].sclact.dropna()))\n",
    "print('ES vs NO:', ttest_ind(ess_c[ess_c.cntry == 'ES'].sclact.dropna(),\n",
    "             ess_c[ess_c.cntry == 'NO'].sclact.dropna()))\n",
    "print('ES vs SE:', ttest_ind(ess_c[ess_c.cntry == 'ES'].sclact.dropna(),\n",
    "             ess_c[ess_c.cntry == 'SE'].sclact.dropna()))\n",
    "print('NO vs SE:', ttest_ind(ess_c[ess_c.cntry == 'NO'].sclact.dropna(),\n",
    "             ess_c[ess_c.cntry == 'SE'].sclact.dropna()))"
   ]
  },
  {
   "cell_type": "code",
   "execution_count": 27,
   "metadata": {},
   "outputs": [],
   "source": [
    "CH_act = ess_raw['sclact'][(ess_raw['cntry'] == 'ES') & (ess_raw['year'] == 7)].dropna()\n",
    "NO_act = ess_raw['sclact'][(ess_raw['cntry'] == 'NO') & (ess_raw['year'] == 7)].dropna()\n",
    "SE_act = ess_raw['sclact'][(ess_raw['cntry'] == 'SE') & (ess_raw['year'] == 7)].dropna()\n",
    "CZ_act = ess_raw['sclact'][(ess_raw['cntry'] == 'CZ') & (ess_raw['year'] == 7)].dropna()"
   ]
  },
  {
   "cell_type": "code",
   "execution_count": 28,
   "metadata": {},
   "outputs": [
    {
     "name": "stdout",
     "output_type": "stream",
     "text": [
      "Mean social activities for Switzerland: 2.6168776371308016\n",
      "Mean social activities for Czech Republic: 2.703076923076923\n",
      "Mean social activities for Norway: 2.859097127222982\n",
      "Mean social activities for Sweden: 2.879424778761062\n"
     ]
    }
   ],
   "source": [
    "print('Mean social activities for Switzerland:', CH_act.mean())\n",
    "print('Mean social activities for Czech Republic:', CZ_act.mean())\n",
    "print('Mean social activities for Norway:', NO_act.mean())\n",
    "print('Mean social activities for Sweden:', SE_act.mean())"
   ]
  },
  {
   "cell_type": "code",
   "execution_count": null,
   "metadata": {},
   "outputs": [],
   "source": []
  }
 ],
 "metadata": {
  "kernelspec": {
   "display_name": "Python 3",
   "language": "python",
   "name": "python3"
  },
  "language_info": {
   "codemirror_mode": {
    "name": "ipython",
    "version": 3
   },
   "file_extension": ".py",
   "mimetype": "text/x-python",
   "name": "python",
   "nbconvert_exporter": "python",
   "pygments_lexer": "ipython3",
   "version": "3.7.1"
  }
 },
 "nbformat": 4,
 "nbformat_minor": 2
}
