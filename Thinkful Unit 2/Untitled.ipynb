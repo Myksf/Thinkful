{
 "cells": [
  {
   "cell_type": "code",
   "execution_count": 2,
   "metadata": {},
   "outputs": [],
   "source": [
    "import matplotlib.pyplot as plt\n",
    "import numpy as np\n",
    "import pandas as pd\n",
    "%matplotlib inline"
   ]
  },
  {
   "cell_type": "code",
   "execution_count": 5,
   "metadata": {},
   "outputs": [],
   "source": [
    "#Make the random function consistent and replicable.\n",
    "np.random.seed(1221)\n",
    "\n",
    "#Make a blank data frame.\n",
    "df = pd.DataFrame()\n",
    "df['rand'] = np.random.rand(100) # Add a column of random numbers between 0 and 1.\n",
    "df['rand_sp'] = df['rand'] ** 2\n",
    "df['rand_shift'] = df['rand'] + 2\n",
    "\n",
    "#When creating a data frame an index column of counts is created, counting from 0.\n",
    "#Here we do a few transforms on that index to create some extra columns.\n",
    "df['counts_sq'] = df.index ** 2\n",
    "df['counts_sqrt'] = np.sqrt(df.index)\n"
   ]
  },
  {
   "cell_type": "code",
   "execution_count": null,
   "metadata": {},
   "outputs": [],
   "source": []
  }
 ],
 "metadata": {
  "kernelspec": {
   "display_name": "Python 3",
   "language": "python",
   "name": "python3"
  },
  "language_info": {
   "codemirror_mode": {
    "name": "ipython",
    "version": 3
   },
   "file_extension": ".py",
   "mimetype": "text/x-python",
   "name": "python",
   "nbconvert_exporter": "python",
   "pygments_lexer": "ipython3",
   "version": "3.6.5"
  }
 },
 "nbformat": 4,
 "nbformat_minor": 2
}
