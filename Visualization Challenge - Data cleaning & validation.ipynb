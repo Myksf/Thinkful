{
 "cells": [
  {
   "cell_type": "markdown",
   "metadata": {},
   "source": [
    "# Challenge: Data Cleaning & Validation\n"
   ]
  },
  {
   "cell_type": "markdown",
   "metadata": {},
   "source": [
    "Data cleaning is definitely a \"practice makes perfect\" skill. Using this dataset of article open-access prices paid by the WELLCOME Trust between 2012 and 2013, determine the five most common journals and the total articles for each. Next, calculate the mean, median, and standard deviation of the open-access cost per article for each journal . \n",
    "\n",
    "Write a cleaning script that will load the raw data and whip it into shape with well-commented code. "
   ]
  },
  {
   "cell_type": "code",
   "execution_count": 1,
   "metadata": {},
   "outputs": [],
   "source": [
    "## Import modules \n",
    "import matplotlib.pyplot as plt\n",
    "import pandas as pd\n",
    "import numpy as np\n",
    "import re\n",
    "import seaborn as sns\n",
    "%matplotlib inline"
   ]
  },
  {
   "cell_type": "code",
   "execution_count": 2,
   "metadata": {},
   "outputs": [
    {
     "data": {
      "text/html": [
       "<div>\n",
       "<style scoped>\n",
       "    .dataframe tbody tr th:only-of-type {\n",
       "        vertical-align: middle;\n",
       "    }\n",
       "\n",
       "    .dataframe tbody tr th {\n",
       "        vertical-align: top;\n",
       "    }\n",
       "\n",
       "    .dataframe thead th {\n",
       "        text-align: right;\n",
       "    }\n",
       "</style>\n",
       "<table border=\"1\" class=\"dataframe\">\n",
       "  <thead>\n",
       "    <tr style=\"text-align: right;\">\n",
       "      <th></th>\n",
       "      <th>PMID/PMCID</th>\n",
       "      <th>Publisher</th>\n",
       "      <th>Journal title</th>\n",
       "      <th>Article title</th>\n",
       "      <th>COST (£) charged to Wellcome (inc VAT when charged)</th>\n",
       "    </tr>\n",
       "  </thead>\n",
       "  <tbody>\n",
       "    <tr>\n",
       "      <th>0</th>\n",
       "      <td>NaN</td>\n",
       "      <td>CUP</td>\n",
       "      <td>Psychological Medicine</td>\n",
       "      <td>Reduced parahippocampal cortical thickness in ...</td>\n",
       "      <td>£0.00</td>\n",
       "    </tr>\n",
       "    <tr>\n",
       "      <th>1</th>\n",
       "      <td>PMC3679557</td>\n",
       "      <td>ACS</td>\n",
       "      <td>Biomacromolecules</td>\n",
       "      <td>Structural characterization of a Model Gram-ne...</td>\n",
       "      <td>£2381.04</td>\n",
       "    </tr>\n",
       "    <tr>\n",
       "      <th>2</th>\n",
       "      <td>23043264  PMC3506128</td>\n",
       "      <td>ACS</td>\n",
       "      <td>J Med Chem</td>\n",
       "      <td>Fumaroylamino-4,5-epoxymorphinans and related ...</td>\n",
       "      <td>£642.56</td>\n",
       "    </tr>\n",
       "    <tr>\n",
       "      <th>3</th>\n",
       "      <td>23438330 PMC3646402</td>\n",
       "      <td>ACS</td>\n",
       "      <td>J Med Chem</td>\n",
       "      <td>Orvinols with mixed kappa/mu opioid receptor a...</td>\n",
       "      <td>£669.64</td>\n",
       "    </tr>\n",
       "    <tr>\n",
       "      <th>4</th>\n",
       "      <td>23438216 PMC3601604</td>\n",
       "      <td>ACS</td>\n",
       "      <td>J Org Chem</td>\n",
       "      <td>Regioselective opening of myo-inositol orthoes...</td>\n",
       "      <td>£685.88</td>\n",
       "    </tr>\n",
       "    <tr>\n",
       "      <th>5</th>\n",
       "      <td>PMC3579457</td>\n",
       "      <td>ACS</td>\n",
       "      <td>Journal of Medicinal Chemistry</td>\n",
       "      <td>Comparative Structural and Functional Studies ...</td>\n",
       "      <td>£2392.20</td>\n",
       "    </tr>\n",
       "    <tr>\n",
       "      <th>6</th>\n",
       "      <td>PMC3709265</td>\n",
       "      <td>ACS</td>\n",
       "      <td>Journal of Proteome Research</td>\n",
       "      <td>Mapping Proteolytic Processing in the Secretom...</td>\n",
       "      <td>£2367.95</td>\n",
       "    </tr>\n",
       "    <tr>\n",
       "      <th>7</th>\n",
       "      <td>23057412 PMC3495574</td>\n",
       "      <td>ACS</td>\n",
       "      <td>Mol Pharm</td>\n",
       "      <td>Quantitative silencing of EGFP reporter gene b...</td>\n",
       "      <td>£649.33</td>\n",
       "    </tr>\n",
       "    <tr>\n",
       "      <th>8</th>\n",
       "      <td>PMCID: PMC3780468</td>\n",
       "      <td>ACS (Amercian Chemical Society) Publications</td>\n",
       "      <td>ACS Chemical Biology</td>\n",
       "      <td>A Novel Allosteric Inhibitor of the Uridine Di...</td>\n",
       "      <td>£1294.59</td>\n",
       "    </tr>\n",
       "    <tr>\n",
       "      <th>9</th>\n",
       "      <td>PMCID: PMC3621575</td>\n",
       "      <td>ACS (Amercian Chemical Society) Publications</td>\n",
       "      <td>ACS Chemical Biology</td>\n",
       "      <td>Chemical proteomic analysis reveals the drugab...</td>\n",
       "      <td>£1294.78</td>\n",
       "    </tr>\n",
       "  </tbody>\n",
       "</table>\n",
       "</div>"
      ],
      "text/plain": [
       "              PMID/PMCID                                     Publisher  \\\n",
       "0                    NaN                                           CUP   \n",
       "1             PMC3679557                                           ACS   \n",
       "2  23043264  PMC3506128                                            ACS   \n",
       "3    23438330 PMC3646402                                           ACS   \n",
       "4   23438216 PMC3601604                                            ACS   \n",
       "5             PMC3579457                                           ACS   \n",
       "6             PMC3709265                                           ACS   \n",
       "7   23057412 PMC3495574                                            ACS   \n",
       "8      PMCID: PMC3780468  ACS (Amercian Chemical Society) Publications   \n",
       "9      PMCID: PMC3621575  ACS (Amercian Chemical Society) Publications   \n",
       "\n",
       "                    Journal title  \\\n",
       "0          Psychological Medicine   \n",
       "1               Biomacromolecules   \n",
       "2                      J Med Chem   \n",
       "3                      J Med Chem   \n",
       "4                      J Org Chem   \n",
       "5  Journal of Medicinal Chemistry   \n",
       "6    Journal of Proteome Research   \n",
       "7                       Mol Pharm   \n",
       "8            ACS Chemical Biology   \n",
       "9            ACS Chemical Biology   \n",
       "\n",
       "                                       Article title  \\\n",
       "0  Reduced parahippocampal cortical thickness in ...   \n",
       "1  Structural characterization of a Model Gram-ne...   \n",
       "2  Fumaroylamino-4,5-epoxymorphinans and related ...   \n",
       "3  Orvinols with mixed kappa/mu opioid receptor a...   \n",
       "4  Regioselective opening of myo-inositol orthoes...   \n",
       "5  Comparative Structural and Functional Studies ...   \n",
       "6  Mapping Proteolytic Processing in the Secretom...   \n",
       "7  Quantitative silencing of EGFP reporter gene b...   \n",
       "8  A Novel Allosteric Inhibitor of the Uridine Di...   \n",
       "9  Chemical proteomic analysis reveals the drugab...   \n",
       "\n",
       "   COST (£) charged to Wellcome (inc VAT when charged)   \n",
       "0                                             £0.00      \n",
       "1                                          £2381.04      \n",
       "2                                           £642.56      \n",
       "3                                           £669.64      \n",
       "4                                           £685.88      \n",
       "5                                          £2392.20      \n",
       "6                                          £2367.95      \n",
       "7                                           £649.33      \n",
       "8                                          £1294.59      \n",
       "9                                          £1294.78      "
      ]
     },
     "execution_count": 2,
     "metadata": {},
     "output_type": "execute_result"
    }
   ],
   "source": [
    "### Read the csv into python ###\n",
    "## The encoding has to be ISO-8859-1 or Latin-1 for pandas to be able to read the .csv, both seem to work. \n",
    "## UTF-8 and UTF-16 will not work.\n",
    "df = pd.read_csv(r'WELLCOME_APCspend2013_forThinkful.csv', encoding='Latin-1')\n",
    "df.head(10)"
   ]
  },
  {
   "cell_type": "code",
   "execution_count": 3,
   "metadata": {},
   "outputs": [
    {
     "data": {
      "text/html": [
       "<div>\n",
       "<style scoped>\n",
       "    .dataframe tbody tr th:only-of-type {\n",
       "        vertical-align: middle;\n",
       "    }\n",
       "\n",
       "    .dataframe tbody tr th {\n",
       "        vertical-align: top;\n",
       "    }\n",
       "\n",
       "    .dataframe thead th {\n",
       "        text-align: right;\n",
       "    }\n",
       "</style>\n",
       "<table border=\"1\" class=\"dataframe\">\n",
       "  <thead>\n",
       "    <tr style=\"text-align: right;\">\n",
       "      <th></th>\n",
       "      <th>PMID/PMCID</th>\n",
       "      <th>Publisher</th>\n",
       "      <th>Journal title</th>\n",
       "      <th>Article title</th>\n",
       "      <th>COST (£) charged to Wellcome (inc VAT when charged)</th>\n",
       "    </tr>\n",
       "  </thead>\n",
       "  <tbody>\n",
       "    <tr>\n",
       "      <th>count</th>\n",
       "      <td>1928</td>\n",
       "      <td>2127</td>\n",
       "      <td>2126</td>\n",
       "      <td>2127</td>\n",
       "      <td>2127</td>\n",
       "    </tr>\n",
       "    <tr>\n",
       "      <th>unique</th>\n",
       "      <td>1880</td>\n",
       "      <td>299</td>\n",
       "      <td>984</td>\n",
       "      <td>2126</td>\n",
       "      <td>1402</td>\n",
       "    </tr>\n",
       "    <tr>\n",
       "      <th>top</th>\n",
       "      <td>-</td>\n",
       "      <td>Elsevier</td>\n",
       "      <td>PLoS One</td>\n",
       "      <td>Exclusive breastfeeding, diarrhoel morbidity a...</td>\n",
       "      <td>£2040.00</td>\n",
       "    </tr>\n",
       "    <tr>\n",
       "      <th>freq</th>\n",
       "      <td>7</td>\n",
       "      <td>387</td>\n",
       "      <td>92</td>\n",
       "      <td>2</td>\n",
       "      <td>94</td>\n",
       "    </tr>\n",
       "  </tbody>\n",
       "</table>\n",
       "</div>"
      ],
      "text/plain": [
       "       PMID/PMCID Publisher Journal title  \\\n",
       "count        1928      2127          2126   \n",
       "unique       1880       299           984   \n",
       "top             -  Elsevier      PLoS One   \n",
       "freq            7       387            92   \n",
       "\n",
       "                                            Article title  \\\n",
       "count                                                2127   \n",
       "unique                                               2126   \n",
       "top     Exclusive breastfeeding, diarrhoel morbidity a...   \n",
       "freq                                                    2   \n",
       "\n",
       "        COST (£) charged to Wellcome (inc VAT when charged)   \n",
       "count                                                2127     \n",
       "unique                                               1402     \n",
       "top                                             £2040.00      \n",
       "freq                                                   94     "
      ]
     },
     "execution_count": 3,
     "metadata": {},
     "output_type": "execute_result"
    }
   ],
   "source": [
    "## Provide the count, unique number, the top, and frequency\n",
    "df.describe()"
   ]
  },
  {
   "cell_type": "code",
   "execution_count": 4,
   "metadata": {},
   "outputs": [
    {
     "data": {
      "text/plain": [
       "Index(['PMID/PMCID', 'Publisher', 'Journal title', 'Article title',\n",
       "       ' COST (£) charged to Wellcome (inc VAT when charged) '],\n",
       "      dtype='object')"
      ]
     },
     "execution_count": 4,
     "metadata": {},
     "output_type": "execute_result"
    }
   ],
   "source": [
    "## Provide the current names for the columns\n",
    "df.columns"
   ]
  },
  {
   "cell_type": "code",
   "execution_count": 5,
   "metadata": {},
   "outputs": [],
   "source": [
    "#Drop the PMID/PMCID column.\n",
    "data = df.drop('PMID/PMCID',axis=1) \n",
    "#Renames columns for ease of reference.\n",
    "data.rename(columns={'Journal title': 'Journal', 'Article title':'Article', ' COST (£) charged to Wellcome (inc VAT when charged) ':'Cost'}, inplace=True) \n",
    "#Drops any NA values in any of the columns.\n",
    "data = data.dropna(subset=['Publisher','Journal','Article'])\n",
    "#Removes all currency symbol occurrences. \n",
    "data.Cost = data.Cost.map(lambda x: x.lstrip('£').rstrip('£')) ## Does not work, does not strip strings from Cost column"
   ]
  },
  {
   "cell_type": "code",
   "execution_count": 6,
   "metadata": {},
   "outputs": [],
   "source": [
    "data['Cost'] = data['Cost'].astype(str).str.replace('\\D+', '') ## Removes all non-digits from the cost column"
   ]
  },
  {
   "cell_type": "code",
   "execution_count": 7,
   "metadata": {},
   "outputs": [],
   "source": [
    "#Checks data type by series. \n",
    "data.dtypes\n",
    "#Converts cost into a float: publisher, journal, and article are already strings.\n",
    "data.Cost = data.Cost.map(lambda x: float(x))"
   ]
  },
  {
   "cell_type": "code",
   "execution_count": 8,
   "metadata": {},
   "outputs": [],
   "source": [
    "#Removes all string columns leading/trailing whitespace.\n",
    "data.Publisher = data.Publisher.map(lambda x: x.strip())\n",
    "data.Journal = data.Journal.map(lambda x: x.strip())\n",
    "data.Article = data.Article.map(lambda x: x.strip())"
   ]
  },
  {
   "cell_type": "code",
   "execution_count": 9,
   "metadata": {},
   "outputs": [],
   "source": [
    "#Removes all non-alphanumeric, non-hyphen characters from all string columns.\n",
    "data.Publisher = data.Publisher.str.extract(\"([a-zA-Z0-9:\\(\\)\\+/&,\\-]*)\",expand=True)"
   ]
  },
  {
   "cell_type": "code",
   "execution_count": 10,
   "metadata": {},
   "outputs": [],
   "source": [
    "#Converts string columns to all-capital case.\n",
    "data.Publisher = data.Publisher.str.upper()\n",
    "data.Journal = data.Journal.str.upper()\n",
    "data.Article = data.Article.str.upper()"
   ]
  },
  {
   "cell_type": "code",
   "execution_count": 12,
   "metadata": {},
   "outputs": [
    {
     "name": "stderr",
     "output_type": "stream",
     "text": [
      "D:\\Anaconda3\\lib\\site-packages\\scipy\\stats\\stats.py:1713: FutureWarning: Using a non-tuple sequence for multidimensional indexing is deprecated; use `arr[tuple(seq)]` instead of `arr[seq]`. In the future this will be interpreted as an array index, `arr[np.array(seq)]`, which will result either in an error or a different result.\n",
      "  return np.add.reduce(sorted[indexer] * weights, axis=axis) / sumval\n"
     ]
    },
    {
     "data": {
      "image/png": "[encoded data removed]",
      "text/plain": [
       "<Figure size 432x288 with 1 Axes>"
      ]
     },
     "metadata": {
      "needs_background": "light"
     },
     "output_type": "display_data"
    }
   ],
   "source": [
    "#Checks the distribution of cost to determine plausibility and identify winsorization candidates.\n",
    "plt.show(sns.distplot(data.Cost))\n",
    "import warnings\n",
    "warnings.filterwarnings(\"ignore\", category=np.VisibleDeprecationWarning)\n",
    "data.sort_values(by='Cost',inplace=True)"
   ]
  },
  {
   "cell_type": "code",
   "execution_count": 40,
   "metadata": {},
   "outputs": [
    {
     "data": {
      "text/html": [
       "<div>\n",
       "<style scoped>\n",
       "    .dataframe tbody tr th:only-of-type {\n",
       "        vertical-align: middle;\n",
       "    }\n",
       "\n",
       "    .dataframe tbody tr th {\n",
       "        vertical-align: top;\n",
       "    }\n",
       "\n",
       "    .dataframe thead th {\n",
       "        text-align: right;\n",
       "    }\n",
       "</style>\n",
       "<table border=\"1\" class=\"dataframe\">\n",
       "  <thead>\n",
       "    <tr style=\"text-align: right;\">\n",
       "      <th></th>\n",
       "      <th>Publisher</th>\n",
       "      <th>Journal</th>\n",
       "      <th>Article</th>\n",
       "      <th>Cost</th>\n",
       "    </tr>\n",
       "  </thead>\n",
       "  <tbody>\n",
       "    <tr>\n",
       "      <th>243</th>\n",
       "      <td>BIOMED</td>\n",
       "      <td>VETERINARY RESEARCH</td>\n",
       "      <td>UNDERSTANDING FOOT-AND-MOUTH DISEASE VIRUS TRA...</td>\n",
       "      <td>993.0</td>\n",
       "    </tr>\n",
       "    <tr>\n",
       "      <th>1599</th>\n",
       "      <td>PUBLIC</td>\n",
       "      <td>PLOS PATHOGENS</td>\n",
       "      <td>TRANSMISSION OF EQUINE INFLUENZA VIRUS DURING ...</td>\n",
       "      <td>1440.0</td>\n",
       "    </tr>\n",
       "    <tr>\n",
       "      <th>183</th>\n",
       "      <td>BIOMED</td>\n",
       "      <td>BMC GENOMICS</td>\n",
       "      <td>ADVANCES IN GENOME-WIDE RNAI CELLULAR SCREENS:...</td>\n",
       "      <td>1476.0</td>\n",
       "    </tr>\n",
       "    <tr>\n",
       "      <th>178</th>\n",
       "      <td>BIOMED</td>\n",
       "      <td>BMC BIOLOGY</td>\n",
       "      <td>DETAILED INTERROGATION OF TRYPANOSOME CELL BIO...</td>\n",
       "      <td>1674.0</td>\n",
       "    </tr>\n",
       "    <tr>\n",
       "      <th>180</th>\n",
       "      <td>BIOMED</td>\n",
       "      <td>BMC GENOME BIOLOGY</td>\n",
       "      <td>PATTERNS OF PROKARYOTIC LATERAL GENE TRANSFERS...</td>\n",
       "      <td>2010.0</td>\n",
       "    </tr>\n",
       "    <tr>\n",
       "      <th>100</th>\n",
       "      <td>AMERICAN</td>\n",
       "      <td>AMERICAN SOCIETY FOR NUTRITION</td>\n",
       "      <td>THE ASSOCIATION BETWEEN BREASTFEEDING AND HIV ...</td>\n",
       "      <td>4594.0</td>\n",
       "    </tr>\n",
       "    <tr>\n",
       "      <th>1469</th>\n",
       "      <td>PUBLIC</td>\n",
       "      <td>PLOS ONE</td>\n",
       "      <td>HOW  WELL ARE MALARIA MAPS USED TO DESIGN AND ...</td>\n",
       "      <td>12231.0</td>\n",
       "    </tr>\n",
       "    <tr>\n",
       "      <th>182</th>\n",
       "      <td>BIOMED</td>\n",
       "      <td>BMC GENOMICS</td>\n",
       "      <td>ENHANCING THE UTILITY OF PROTEOMICS SIGNATURE ...</td>\n",
       "      <td>12546.0</td>\n",
       "    </tr>\n",
       "    <tr>\n",
       "      <th>1677</th>\n",
       "      <td>SCIEDU</td>\n",
       "      <td>JOURNAL OF BIOMEDICAL GRAPHICS AND COMPUTING</td>\n",
       "      <td>FUNCTIONAL MRI DEMONSTRATES PAIN PERCEPTION IN...</td>\n",
       "      <td>13529.0</td>\n",
       "    </tr>\n",
       "    <tr>\n",
       "      <th>179</th>\n",
       "      <td>BIOMED</td>\n",
       "      <td>BMC GENETICS</td>\n",
       "      <td>THE PHYSICAL CAPABILITY OF COMMUNITY-BASED MEN...</td>\n",
       "      <td>13758.0</td>\n",
       "    </tr>\n",
       "  </tbody>\n",
       "</table>\n",
       "</div>"
      ],
      "text/plain": [
       "     Publisher                                       Journal  \\\n",
       "243     BIOMED                           VETERINARY RESEARCH   \n",
       "1599    PUBLIC                                PLOS PATHOGENS   \n",
       "183     BIOMED                                  BMC GENOMICS   \n",
       "178     BIOMED                                   BMC BIOLOGY   \n",
       "180     BIOMED                            BMC GENOME BIOLOGY   \n",
       "100   AMERICAN                AMERICAN SOCIETY FOR NUTRITION   \n",
       "1469    PUBLIC                                      PLOS ONE   \n",
       "182     BIOMED                                  BMC GENOMICS   \n",
       "1677    SCIEDU  JOURNAL OF BIOMEDICAL GRAPHICS AND COMPUTING   \n",
       "179     BIOMED                                  BMC GENETICS   \n",
       "\n",
       "                                                Article     Cost  \n",
       "243   UNDERSTANDING FOOT-AND-MOUTH DISEASE VIRUS TRA...    993.0  \n",
       "1599  TRANSMISSION OF EQUINE INFLUENZA VIRUS DURING ...   1440.0  \n",
       "183   ADVANCES IN GENOME-WIDE RNAI CELLULAR SCREENS:...   1476.0  \n",
       "178   DETAILED INTERROGATION OF TRYPANOSOME CELL BIO...   1674.0  \n",
       "180   PATTERNS OF PROKARYOTIC LATERAL GENE TRANSFERS...   2010.0  \n",
       "100   THE ASSOCIATION BETWEEN BREASTFEEDING AND HIV ...   4594.0  \n",
       "1469  HOW  WELL ARE MALARIA MAPS USED TO DESIGN AND ...  12231.0  \n",
       "182   ENHANCING THE UTILITY OF PROTEOMICS SIGNATURE ...  12546.0  \n",
       "1677  FUNCTIONAL MRI DEMONSTRATES PAIN PERCEPTION IN...  13529.0  \n",
       "179   THE PHYSICAL CAPABILITY OF COMMUNITY-BASED MEN...  13758.0  "
      ]
     },
     "execution_count": 40,
     "metadata": {},
     "output_type": "execute_result"
    }
   ],
   "source": [
    "data.head(10)"
   ]
  },
  {
   "cell_type": "markdown",
   "metadata": {},
   "source": [
    "## Determine the five most common journals and the total articles for each"
   ]
  },
  {
   "cell_type": "code",
   "execution_count": 15,
   "metadata": {},
   "outputs": [
    {
     "data": {
      "text/html": [
       "<div>\n",
       "<style scoped>\n",
       "    .dataframe tbody tr th:only-of-type {\n",
       "        vertical-align: middle;\n",
       "    }\n",
       "\n",
       "    .dataframe tbody tr th {\n",
       "        vertical-align: top;\n",
       "    }\n",
       "\n",
       "    .dataframe thead th {\n",
       "        text-align: right;\n",
       "    }\n",
       "</style>\n",
       "<table border=\"1\" class=\"dataframe\">\n",
       "  <thead>\n",
       "    <tr style=\"text-align: right;\">\n",
       "      <th></th>\n",
       "      <th>Article Count</th>\n",
       "    </tr>\n",
       "    <tr>\n",
       "      <th>Journal</th>\n",
       "      <th></th>\n",
       "    </tr>\n",
       "  </thead>\n",
       "  <tbody>\n",
       "    <tr>\n",
       "      <th>PLOS ONE</th>\n",
       "      <td>190</td>\n",
       "    </tr>\n",
       "    <tr>\n",
       "      <th>JOURNAL OF BIOLOGICAL CHEMISTRY</th>\n",
       "      <td>53</td>\n",
       "    </tr>\n",
       "    <tr>\n",
       "      <th>NEUROIMAGE</th>\n",
       "      <td>29</td>\n",
       "    </tr>\n",
       "    <tr>\n",
       "      <th>NUCLEIC ACIDS RESEARCH</th>\n",
       "      <td>26</td>\n",
       "    </tr>\n",
       "    <tr>\n",
       "      <th>PLOS GENETICS</th>\n",
       "      <td>24</td>\n",
       "    </tr>\n",
       "  </tbody>\n",
       "</table>\n",
       "</div>"
      ],
      "text/plain": [
       "                                 Article Count\n",
       "Journal                                       \n",
       "PLOS ONE                                   190\n",
       "JOURNAL OF BIOLOGICAL CHEMISTRY             53\n",
       "NEUROIMAGE                                  29\n",
       "NUCLEIC ACIDS RESEARCH                      26\n",
       "PLOS GENETICS                               24"
      ]
     },
     "execution_count": 15,
     "metadata": {},
     "output_type": "execute_result"
    }
   ],
   "source": [
    "## top five Journals\n",
    "top_five = data.groupby('Journal')[['Article']].count().sort_values(by=['Article'],ascending=False)\n",
    "top_five.columns = ['Article Count']\n",
    "top_five.head(5)\n"
   ]
  },
  {
   "cell_type": "markdown",
   "metadata": {},
   "source": [
    "## Calculate the mean, median, and standard deviation of the open-access cost per article for each journal"
   ]
  },
  {
   "cell_type": "code",
   "execution_count": 16,
   "metadata": {},
   "outputs": [
    {
     "name": "stderr",
     "output_type": "stream",
     "text": [
      "D:\\Anaconda3\\lib\\site-packages\\ipykernel_launcher.py:4: FutureWarning: Sorting because non-concatenation axis is not aligned. A future version\n",
      "of pandas will change to not sort by default.\n",
      "\n",
      "To accept the future behavior, pass 'sort=False'.\n",
      "\n",
      "To retain the current behavior and silence the warning, pass 'sort=True'.\n",
      "\n",
      "  after removing the cwd from sys.path.\n"
     ]
    },
    {
     "data": {
      "text/html": [
       "<div>\n",
       "<style scoped>\n",
       "    .dataframe tbody tr th:only-of-type {\n",
       "        vertical-align: middle;\n",
       "    }\n",
       "\n",
       "    .dataframe tbody tr th {\n",
       "        vertical-align: top;\n",
       "    }\n",
       "\n",
       "    .dataframe thead th {\n",
       "        text-align: right;\n",
       "    }\n",
       "</style>\n",
       "<table border=\"1\" class=\"dataframe\">\n",
       "  <thead>\n",
       "    <tr style=\"text-align: right;\">\n",
       "      <th></th>\n",
       "      <th>Mean</th>\n",
       "      <th>Article Count</th>\n",
       "      <th>Mean Per Article</th>\n",
       "    </tr>\n",
       "  </thead>\n",
       "  <tbody>\n",
       "    <tr>\n",
       "      <th>ACADEMY OF NUTRITION AND DIETETICS</th>\n",
       "      <td>237954.0</td>\n",
       "      <td>1</td>\n",
       "      <td>237954.00</td>\n",
       "    </tr>\n",
       "    <tr>\n",
       "      <th>ACS CHEMICAL BIOLOGY</th>\n",
       "      <td>141818.6</td>\n",
       "      <td>5</td>\n",
       "      <td>28363.72</td>\n",
       "    </tr>\n",
       "    <tr>\n",
       "      <th>ACS CHEMICAL NEUROSCIENCE</th>\n",
       "      <td>118680.0</td>\n",
       "      <td>1</td>\n",
       "      <td>118680.00</td>\n",
       "    </tr>\n",
       "    <tr>\n",
       "      <th>ACS NANO</th>\n",
       "      <td>66814.0</td>\n",
       "      <td>2</td>\n",
       "      <td>33407.00</td>\n",
       "    </tr>\n",
       "    <tr>\n",
       "      <th>ACTA CRYSTALLOGRAPHICA SECTION D,  BIOLOGICAL CRYSTALLOGRAPHY</th>\n",
       "      <td>77142.0</td>\n",
       "      <td>1</td>\n",
       "      <td>77142.00</td>\n",
       "    </tr>\n",
       "  </tbody>\n",
       "</table>\n",
       "</div>"
      ],
      "text/plain": [
       "                                                        Mean  Article Count  \\\n",
       "ACADEMY OF NUTRITION AND DIETETICS                  237954.0              1   \n",
       "ACS CHEMICAL BIOLOGY                                141818.6              5   \n",
       "ACS CHEMICAL NEUROSCIENCE                           118680.0              1   \n",
       "ACS NANO                                             66814.0              2   \n",
       "ACTA CRYSTALLOGRAPHICA SECTION D,  BIOLOGICAL C...   77142.0              1   \n",
       "\n",
       "                                                    Mean Per Article  \n",
       "ACADEMY OF NUTRITION AND DIETETICS                         237954.00  \n",
       "ACS CHEMICAL BIOLOGY                                        28363.72  \n",
       "ACS CHEMICAL NEUROSCIENCE                                  118680.00  \n",
       "ACS NANO                                                    33407.00  \n",
       "ACTA CRYSTALLOGRAPHICA SECTION D,  BIOLOGICAL C...          77142.00  "
      ]
     },
     "execution_count": 16,
     "metadata": {},
     "output_type": "execute_result"
    }
   ],
   "source": [
    "## Mean, Median, and Standard Deviation\n",
    "mean = data.groupby('Journal')[['Cost']].mean()\n",
    "mean.columns = ['Mean']\n",
    "meanperarticle = pd.concat([mean,top_five],axis=1)\n",
    "meanperarticle.columns = ['Mean','Article Count']\n",
    "meanperarticle['Mean Per Article'] = meanperarticle['Mean']/meanperarticle['Article Count']\n",
    "meanperarticle.head(5)"
   ]
  },
  {
   "cell_type": "code",
   "execution_count": 17,
   "metadata": {},
   "outputs": [
    {
     "name": "stderr",
     "output_type": "stream",
     "text": [
      "D:\\Anaconda3\\lib\\site-packages\\ipykernel_launcher.py:3: FutureWarning: Sorting because non-concatenation axis is not aligned. A future version\n",
      "of pandas will change to not sort by default.\n",
      "\n",
      "To accept the future behavior, pass 'sort=False'.\n",
      "\n",
      "To retain the current behavior and silence the warning, pass 'sort=True'.\n",
      "\n",
      "  This is separate from the ipykernel package so we can avoid doing imports until\n"
     ]
    },
    {
     "data": {
      "text/html": [
       "<div>\n",
       "<style scoped>\n",
       "    .dataframe tbody tr th:only-of-type {\n",
       "        vertical-align: middle;\n",
       "    }\n",
       "\n",
       "    .dataframe tbody tr th {\n",
       "        vertical-align: top;\n",
       "    }\n",
       "\n",
       "    .dataframe thead th {\n",
       "        text-align: right;\n",
       "    }\n",
       "</style>\n",
       "<table border=\"1\" class=\"dataframe\">\n",
       "  <thead>\n",
       "    <tr style=\"text-align: right;\">\n",
       "      <th></th>\n",
       "      <th>Median</th>\n",
       "      <th>Article Count</th>\n",
       "      <th>Median Per Article</th>\n",
       "    </tr>\n",
       "  </thead>\n",
       "  <tbody>\n",
       "    <tr>\n",
       "      <th>ACADEMY OF NUTRITION AND DIETETICS</th>\n",
       "      <td>237954.0</td>\n",
       "      <td>1</td>\n",
       "      <td>237954.0</td>\n",
       "    </tr>\n",
       "    <tr>\n",
       "      <th>ACS CHEMICAL BIOLOGY</th>\n",
       "      <td>129459.0</td>\n",
       "      <td>5</td>\n",
       "      <td>25891.8</td>\n",
       "    </tr>\n",
       "    <tr>\n",
       "      <th>ACS CHEMICAL NEUROSCIENCE</th>\n",
       "      <td>118680.0</td>\n",
       "      <td>1</td>\n",
       "      <td>118680.0</td>\n",
       "    </tr>\n",
       "    <tr>\n",
       "      <th>ACS NANO</th>\n",
       "      <td>66814.0</td>\n",
       "      <td>2</td>\n",
       "      <td>33407.0</td>\n",
       "    </tr>\n",
       "    <tr>\n",
       "      <th>ACTA CRYSTALLOGRAPHICA SECTION D,  BIOLOGICAL CRYSTALLOGRAPHY</th>\n",
       "      <td>77142.0</td>\n",
       "      <td>1</td>\n",
       "      <td>77142.0</td>\n",
       "    </tr>\n",
       "  </tbody>\n",
       "</table>\n",
       "</div>"
      ],
      "text/plain": [
       "                                                      Median  Article Count  \\\n",
       "ACADEMY OF NUTRITION AND DIETETICS                  237954.0              1   \n",
       "ACS CHEMICAL BIOLOGY                                129459.0              5   \n",
       "ACS CHEMICAL NEUROSCIENCE                           118680.0              1   \n",
       "ACS NANO                                             66814.0              2   \n",
       "ACTA CRYSTALLOGRAPHICA SECTION D,  BIOLOGICAL C...   77142.0              1   \n",
       "\n",
       "                                                    Median Per Article  \n",
       "ACADEMY OF NUTRITION AND DIETETICS                            237954.0  \n",
       "ACS CHEMICAL BIOLOGY                                           25891.8  \n",
       "ACS CHEMICAL NEUROSCIENCE                                     118680.0  \n",
       "ACS NANO                                                       33407.0  \n",
       "ACTA CRYSTALLOGRAPHICA SECTION D,  BIOLOGICAL C...             77142.0  "
      ]
     },
     "execution_count": 17,
     "metadata": {},
     "output_type": "execute_result"
    }
   ],
   "source": [
    "median = data.groupby('Journal')[['Cost']].median()\n",
    "median.columns = ['Median']\n",
    "medianperarticle = pd.concat([median,top_five],axis=1)\n",
    "medianperarticle.columns = ['Median','Article Count']\n",
    "medianperarticle['Median Per Article'] = medianperarticle['Median']/medianperarticle['Article Count']\n",
    "medianperarticle.head(5)"
   ]
  },
  {
   "cell_type": "code",
   "execution_count": 18,
   "metadata": {},
   "outputs": [
    {
     "name": "stderr",
     "output_type": "stream",
     "text": [
      "D:\\Anaconda3\\lib\\site-packages\\ipykernel_launcher.py:4: FutureWarning: Sorting because non-concatenation axis is not aligned. A future version\n",
      "of pandas will change to not sort by default.\n",
      "\n",
      "To accept the future behavior, pass 'sort=False'.\n",
      "\n",
      "To retain the current behavior and silence the warning, pass 'sort=True'.\n",
      "\n",
      "  after removing the cwd from sys.path.\n"
     ]
    },
    {
     "data": {
      "text/html": [
       "<div>\n",
       "<style scoped>\n",
       "    .dataframe tbody tr th:only-of-type {\n",
       "        vertical-align: middle;\n",
       "    }\n",
       "\n",
       "    .dataframe tbody tr th {\n",
       "        vertical-align: top;\n",
       "    }\n",
       "\n",
       "    .dataframe thead th {\n",
       "        text-align: right;\n",
       "    }\n",
       "</style>\n",
       "<table border=\"1\" class=\"dataframe\">\n",
       "  <thead>\n",
       "    <tr style=\"text-align: right;\">\n",
       "      <th></th>\n",
       "      <th>Standard Deviation</th>\n",
       "      <th>Article Count</th>\n",
       "      <th>Standard Deviation Per Article</th>\n",
       "    </tr>\n",
       "  </thead>\n",
       "  <tbody>\n",
       "    <tr>\n",
       "      <th>ACADEMY OF NUTRITION AND DIETETICS</th>\n",
       "      <td>0.000000</td>\n",
       "      <td>1</td>\n",
       "      <td>0.000000</td>\n",
       "    </tr>\n",
       "    <tr>\n",
       "      <th>ACS CHEMICAL BIOLOGY</th>\n",
       "      <td>50730.956006</td>\n",
       "      <td>5</td>\n",
       "      <td>10146.191201</td>\n",
       "    </tr>\n",
       "    <tr>\n",
       "      <th>ACS CHEMICAL NEUROSCIENCE</th>\n",
       "      <td>0.000000</td>\n",
       "      <td>1</td>\n",
       "      <td>0.000000</td>\n",
       "    </tr>\n",
       "    <tr>\n",
       "      <th>ACS NANO</th>\n",
       "      <td>3570.889245</td>\n",
       "      <td>2</td>\n",
       "      <td>1785.444622</td>\n",
       "    </tr>\n",
       "    <tr>\n",
       "      <th>ACTA CRYSTALLOGRAPHICA SECTION D,  BIOLOGICAL CRYSTALLOGRAPHY</th>\n",
       "      <td>0.000000</td>\n",
       "      <td>1</td>\n",
       "      <td>0.000000</td>\n",
       "    </tr>\n",
       "  </tbody>\n",
       "</table>\n",
       "</div>"
      ],
      "text/plain": [
       "                                                    Standard Deviation  \\\n",
       "ACADEMY OF NUTRITION AND DIETETICS                            0.000000   \n",
       "ACS CHEMICAL BIOLOGY                                      50730.956006   \n",
       "ACS CHEMICAL NEUROSCIENCE                                     0.000000   \n",
       "ACS NANO                                                   3570.889245   \n",
       "ACTA CRYSTALLOGRAPHICA SECTION D,  BIOLOGICAL C...            0.000000   \n",
       "\n",
       "                                                    Article Count  \\\n",
       "ACADEMY OF NUTRITION AND DIETETICS                              1   \n",
       "ACS CHEMICAL BIOLOGY                                            5   \n",
       "ACS CHEMICAL NEUROSCIENCE                                       1   \n",
       "ACS NANO                                                        2   \n",
       "ACTA CRYSTALLOGRAPHICA SECTION D,  BIOLOGICAL C...              1   \n",
       "\n",
       "                                                    Standard Deviation Per Article  \n",
       "ACADEMY OF NUTRITION AND DIETETICS                                        0.000000  \n",
       "ACS CHEMICAL BIOLOGY                                                  10146.191201  \n",
       "ACS CHEMICAL NEUROSCIENCE                                                 0.000000  \n",
       "ACS NANO                                                               1785.444622  \n",
       "ACTA CRYSTALLOGRAPHICA SECTION D,  BIOLOGICAL C...                        0.000000  "
      ]
     },
     "execution_count": 18,
     "metadata": {},
     "output_type": "execute_result"
    }
   ],
   "source": [
    "deviation = data.groupby('Journal')[['Cost']].std()\n",
    "deviation.columns = ['Standard Deviation']\n",
    "deviation.fillna(0, inplace=True)\n",
    "deviationperarticle = pd.concat([deviation,top_five],axis=1)\n",
    "deviationperarticle.columns = ['Standard Deviation','Article Count']\n",
    "deviationperarticle['Standard Deviation Per Article'] = deviationperarticle['Standard Deviation']/deviationperarticle['Article Count']\n",
    "deviationperarticle.head()"
   ]
  },
  {
   "cell_type": "markdown",
   "metadata": {},
   "source": [
    "## Various plots of Cost"
   ]
  },
  {
   "cell_type": "code",
   "execution_count": 19,
   "metadata": {},
   "outputs": [
    {
     "data": {
      "text/plain": [
       "<matplotlib.axes._subplots.AxesSubplot at 0x27fd4c1c8d0>"
      ]
     },
     "execution_count": 19,
     "metadata": {},
     "output_type": "execute_result"
    },
    {
     "data": {
      "image/png": "[encoded data removed]",
      "text/plain": [
       "<Figure size 432x288 with 1 Axes>"
      ]
     },
     "metadata": {
      "needs_background": "light"
     },
     "output_type": "display_data"
    }
   ],
   "source": [
    "data.Cost.hist()"
   ]
  },
  {
   "cell_type": "code",
   "execution_count": 20,
   "metadata": {},
   "outputs": [
    {
     "data": {
      "text/plain": [
       "(array([2.077e+03, 1.000e+00, 1.000e+00, 0.000e+00, 0.000e+00, 0.000e+00,\n",
       "        0.000e+00, 0.000e+00, 0.000e+00, 4.700e+01]),\n",
       " array([9.93000000e+02, 1.00008837e+07, 2.00007744e+07, 3.00006651e+07,\n",
       "        4.00005558e+07, 5.00004465e+07, 6.00003372e+07, 7.00002279e+07,\n",
       "        8.00001186e+07, 9.00000093e+07, 9.99999000e+07]),\n",
       " <a list of 10 Patch objects>)"
      ]
     },
     "execution_count": 20,
     "metadata": {},
     "output_type": "execute_result"
    },
    {
     "data": {
      "image/png": "[encoded data removed]",
      "text/plain": [
       "<Figure size 432x288 with 1 Axes>"
      ]
     },
     "metadata": {
      "needs_background": "light"
     },
     "output_type": "display_data"
    }
   ],
   "source": [
    "plt.hist(data['Cost'])"
   ]
  },
  {
   "cell_type": "code",
   "execution_count": 21,
   "metadata": {},
   "outputs": [
    {
     "name": "stdout",
     "output_type": "stream",
     "text": [
      "Line plots showing costs of articles\n"
     ]
    },
    {
     "data": {
      "image/png": "[encoded data removed]",
      "text/plain": [
       "<Figure size 432x288 with 1 Axes>"
      ]
     },
     "metadata": {
      "needs_background": "light"
     },
     "output_type": "display_data"
    }
   ],
   "source": [
    "print('Line plots showing costs of articles')\n",
    "plt.plot(data.iloc[0:]['Cost'])\n",
    "plt.show()"
   ]
  },
  {
   "cell_type": "code",
   "execution_count": 22,
   "metadata": {},
   "outputs": [
    {
     "name": "stdout",
     "output_type": "stream",
     "text": [
      "QQ plots showing how close a cost is to known distribution, and any outliers.\n"
     ]
    },
    {
     "data": {
      "image/png": "[encoded data removed]",
      "text/plain": [
       "<Figure size 432x288 with 1 Axes>"
      ]
     },
     "metadata": {
      "needs_background": "light"
     },
     "output_type": "display_data"
    }
   ],
   "source": [
    "print('QQ plots showing how close a cost is to known distribution, and any outliers.')\n",
    "norm= np.random.normal(0, 1, 2126)\n",
    "norm.sort()\n",
    "plt.plot(norm, data['Cost'].sort_values(), \"o\") \n",
    "plt.show() "
   ]
  }
 ],
 "metadata": {
  "kernelspec": {
   "display_name": "Python 3",
   "language": "python",
   "name": "python3"
  },
  "language_info": {
   "codemirror_mode": {
    "name": "ipython",
    "version": 3
   },
   "file_extension": ".py",
   "mimetype": "text/x-python",
   "name": "python",
   "nbconvert_exporter": "python",
   "pygments_lexer": "ipython3",
   "version": "3.7.1"
  }
 },
 "nbformat": 4,
 "nbformat_minor": 2
}
