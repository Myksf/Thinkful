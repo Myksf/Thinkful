{
 "cells": [
  {
   "cell_type": "markdown",
   "metadata": {},
   "source": [
    "# DRILL: Getting Testy...\n"
   ]
  },
  {
   "cell_type": "markdown",
   "metadata": {},
   "source": [
    "For each of the following questions, outline how you could use an A/B test to find an answer. Be sure to identify all five key components of an A/B test we outlined above."
   ]
  },
  {
   "cell_type": "markdown",
   "metadata": {},
   "source": [
    "## Does a new supplement help people sleep better?"
   ]
  },
  {
   "cell_type": "markdown",
   "metadata": {},
   "source": [
    "-  Two Versions: One group which takes the supplement and one which does not.\n",
    "\n",
    "-  A Sample: Divide group that takes supplement into A and those that do not into B.\n",
    "\n",
    "-  A Hypothesis: It is expected that group A will report better sleep.\n",
    "\n",
    "-  Outcome(s): The key metric is sleep quality as rated by individuals in group.\n",
    "\n",
    "-  Other Measured Variables: For group with same metrics, Age, Race, Gender, Education, Stress-levels \n"
   ]
  },
  {
   "cell_type": "markdown",
   "metadata": {},
   "source": [
    "## Will new uniforms help a gym's business?"
   ]
  },
  {
   "cell_type": "markdown",
   "metadata": {},
   "source": [
    "-  Two Versions: Control Version and Test Version\n",
    "\n",
    "-  A Sample: Group A is normal group, Group B has new uniforms\n",
    "\n",
    "-  A Hypothesis: Group B is able to bring in more buisness because of the uniform\n",
    "\n",
    "-  Outcome(s): When Group B is working, they are able to sign more people up\n",
    "\n",
    "-  Other Measured Variables: Time, Gender, Previous sign-ups\n"
   ]
  },
  {
   "cell_type": "markdown",
   "metadata": {},
   "source": [
    "## Will a new homepage improve my online exotic pet rental business?"
   ]
  },
  {
   "cell_type": "markdown",
   "metadata": {},
   "source": [
    "-  Two Versions: Control Version and Test Version\n",
    "\n",
    "-  A Sample: Set the website up so it randommly displays website A, with new homepage, and B without any change. \n",
    "\n",
    "-  A Hypothesis: The new hompage will increase rents\n",
    "\n",
    "-  Outcome(s): Measure the difference between time spent on page and purchases between A and B\n",
    "\n",
    "-  Other Measured Variables: Website statistics\n"
   ]
  },
  {
   "cell_type": "markdown",
   "metadata": {},
   "source": [
    "## If I put 'please read' in the email subject will more people read my emails?"
   ]
  },
  {
   "cell_type": "markdown",
   "metadata": {},
   "source": [
    "-  Two Versions: Control Version and Test Version\n",
    "\n",
    "-  A Sample: Write a python program that randomly applies \"please read\" to half of all emails sent.\n",
    "\n",
    "-  A Hypothesis: Putting please read in the subject increases the read to send ratio\n",
    "\n",
    "-  Outcome(s): Key metric is read to send ratio\n",
    "\n",
    "-  Other Measured Variables: measure SMTP statistics\n"
   ]
  },
  {
   "cell_type": "code",
   "execution_count": null,
   "metadata": {},
   "outputs": [],
   "source": []
  }
 ],
 "metadata": {
  "kernelspec": {
   "display_name": "Python 3",
   "language": "python",
   "name": "python3"
  },
  "language_info": {
   "codemirror_mode": {
    "name": "ipython",
    "version": 3
   },
   "file_extension": ".py",
   "mimetype": "text/x-python",
   "name": "python",
   "nbconvert_exporter": "python",
   "pygments_lexer": "ipython3",
   "version": "3.7.1"
  }
 },
 "nbformat": 4,
 "nbformat_minor": 2
}
