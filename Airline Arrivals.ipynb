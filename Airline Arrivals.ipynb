{
 "cells": [
  {
   "cell_type": "code",
   "execution_count": 1,
   "metadata": {},
   "outputs": [],
   "source": [
    "import pandas as pd\n",
    "import numpy as np\n",
    "import scipy\n",
    "import matplotlib.pyplot as plt\n",
    "from sklearn import tree\n",
    "from IPython.display import Image\n",
    "%matplotlib inline\n",
    "\n",
    "from sklearn import ensemble\n",
    "from sklearn import datasets\n",
    "from sklearn.utils import shuffle\n",
    "from sklearn.metrics import mean_squared_error\n",
    "from sklearn import svm\n",
    "from sklearn.linear_model import LogisticRegression\n",
    "from sklearn.model_selection import train_test_split, cross_val_score\n",
    "from sklearn.model_selection import GridSearchCV\n",
    "%matplotlib inline"
   ]
  },
  {
   "cell_type": "code",
   "execution_count": null,
   "metadata": {},
   "outputs": [],
   "source": [
    "data = pd.read_csv('2008.csv')"
   ]
  },
  {
   "cell_type": "code",
   "execution_count": null,
   "metadata": {},
   "outputs": [],
   "source": [
    "data.describe()"
   ]
  },
  {
   "cell_type": "code",
   "execution_count": null,
   "metadata": {},
   "outputs": [],
   "source": [
    "data.head()"
   ]
  },
  {
   "cell_type": "code",
   "execution_count": null,
   "metadata": {},
   "outputs": [],
   "source": [
    "data.info()"
   ]
  },
  {
   "cell_type": "code",
   "execution_count": null,
   "metadata": {},
   "outputs": [],
   "source": [
    "data.corr()"
   ]
  },
  {
   "cell_type": "code",
   "execution_count": null,
   "metadata": {},
   "outputs": [],
   "source": [
    "X = data[['Month', 'DayOfWeek', 'CRSDepTime', 'CRSArrTime', 'UniqueCarrier', \n",
    "          'Origin', 'Dest', 'Distance', 'DepDelay']]\n",
    "y = np.where(data.ArrDelay > 30, data.ArrDelay -30, 0)"
   ]
  },
  {
   "cell_type": "code",
   "execution_count": null,
   "metadata": {},
   "outputs": [],
   "source": [
    "X.head()"
   ]
  },
  {
   "cell_type": "code",
   "execution_count": null,
   "metadata": {},
   "outputs": [],
   "source": [
    "from sklearn import preprocessing\n",
    "from sklearn.preprocessing import LabelEncoder\n",
    "from sklearn.pipeline import Pipeline\n",
    "\n",
    "class MultiColumnLabelEncoder:\n",
    "    def __init__(self,columns = None):\n",
    "        self.columns = columns # array of column names to encode\n",
    "\n",
    "    def fit(self,X,y=None):\n",
    "        return self # not relevant here\n",
    "\n",
    "    def transform(self,X):\n",
    "        output = X.copy()\n",
    "        if self.columns is not None:\n",
    "            for col in self.columns:\n",
    "                output[col] = LabelEncoder().fit_transform(output[col])\n",
    "        else:\n",
    "            for colname,col in output.iteritems():\n",
    "                output[colname] = LabelEncoder().fit_transform(col)\n",
    "        return output\n",
    "\n",
    "    def fit_transform(self,X,y=None):\n",
    "        return self.fit(X,y).transform(X)\n",
    "\n",
    "X = MultiColumnLabelEncoder(columns = ['UniqueCarrier','Origin','Dest']).fit_transform(X)"
   ]
  },
  {
   "cell_type": "code",
   "execution_count": null,
   "metadata": {},
   "outputs": [],
   "source": [
    "X = X.fillna(X.mean())\n",
    "X.head()"
   ]
  },
  {
   "cell_type": "code",
   "execution_count": null,
   "metadata": {},
   "outputs": [],
   "source": [
    "X.describe()"
   ]
  },
  {
   "cell_type": "code",
   "execution_count": null,
   "metadata": {},
   "outputs": [],
   "source": [
    "X_train, X_test, y_train, y_test = train_test_split(X, y, random_state=85)"
   ]
  },
  {
   "cell_type": "code",
   "execution_count": null,
   "metadata": {},
   "outputs": [],
   "source": [
    "clr1 = ensemble.RandomForestRegressor()\n",
    "cv1 = cross_val_score(clr1, X_train, y_train, cv=5)\n",
    "print(cv1)\n",
    "print(\"mean = {:.3}\".format(cv1.mean()))"
   ]
  },
  {
   "cell_type": "code",
   "execution_count": null,
   "metadata": {},
   "outputs": [],
   "source": [
    "params = {'n_estimators': 100,\n",
    "         'max_depth': 3,\n",
    "         'loss': 'lad'}\n",
    "\n",
    "#instantiate and fit\n",
    "gbr1 = ensemble.GradientBoostingRegressor(**params)\n",
    "gb1 = cross_val_score(gbr1, X_train, y_train, cv=5)\n",
    "print(gb1)\n",
    "#print('mean = {:.3}'.format(gb1.mean())"
   ]
  },
  {
   "cell_type": "code",
   "execution_count": null,
   "metadata": {},
   "outputs": [],
   "source": [
    "clr1.fit(X_train, y_train)\n",
    "predict = clr1.predict(X_train)\n",
    "r_sqrd = clr1.score(X_test, y_test)\n",
    "print('R-squared is {:.3}'.format(r_sqrd))"
   ]
  },
  {
   "cell_type": "code",
   "execution_count": null,
   "metadata": {},
   "outputs": [],
   "source": [
    "x.shape"
   ]
  },
  {
   "cell_type": "code",
   "execution_count": null,
   "metadata": {},
   "outputs": [],
   "source": [
    "x['DepDelay'].value_counts().head(10).plot.bar()"
   ]
  },
  {
   "cell_type": "code",
   "execution_count": null,
   "metadata": {},
   "outputs": [],
   "source": [
    "df_airline.isnull().sum()"
   ]
  },
  {
   "cell_type": "code",
   "execution_count": null,
   "metadata": {},
   "outputs": [],
   "source": [
    "df_airline[df_airline.WeatherDelay.isnull()].head()"
   ]
  },
  {
   "cell_type": "code",
   "execution_count": null,
   "metadata": {},
   "outputs": [],
   "source": [
    "df_airline.dropna(how='any')\n",
    "df_airline.dropna(how='all')\n",
    "df_airline.dropna(subset = ['column1','column2'], how='any')\n"
   ]
  },
  {
   "cell_type": "code",
   "execution_count": null,
   "metadata": {},
   "outputs": [],
   "source": [
    "df_airline['CancellationCode'].fillna(value='NONE', inplace=True)\n",
    "df_airline['CarrierDelay'].fillna(value='00.0', inplace=True)\n",
    "df_airline['WeatherDelay'].fillna(value='00.0', inplace=True)\n",
    "df_airline['NASDelay'].fillna(value='00.0', inplace=True)\n",
    "df_airline['SecurityDelay'].fillna(value='00.0', inplace=True)\n",
    "df_airline['LateAircraftDelay'].fillna(value='00.0', inplace=True)\n",
    "df_airline['ArrDelay'].fillna(value='00.0', inplace=True)\n",
    "df_airline['ArrTime'].fillna(value='00.0', inplace=True)\n",
    "df_airline['AirTime'].fillna(value='00.0', inplace=True)\n",
    "df_airline['DepDelay'].fillna(value='00.0', inplace=True)\n",
    "df_airline['TaxiIn'].fillna(value='00.0', inplace=True)\n",
    "df_airline['TaxiOut'].fillna(value='00.0', inplace=True)\n",
    "df_airline['ActualElapsedTime'].fillna(value='00.0', inplace=True)\n",
    "df_airline['TailNum'].fillna(value='NONE', inplace=True)\n",
    "df_airline['DepTime'].fillna(value='00.0', inplace=True)\n",
    "df_airline['CRSElapsedTime'].fillna(value='00.0', inplace=True)"
   ]
  },
  {
   "cell_type": "code",
   "execution_count": null,
   "metadata": {},
   "outputs": [],
   "source": [
    "df_airline.head()"
   ]
  },
  {
   "cell_type": "code",
   "execution_count": null,
   "metadata": {},
   "outputs": [],
   "source": [
    "df_airline['CancellationCode'].value_counts(dropna=False) #this statment will show the total count by group\n"
   ]
  },
  {
   "cell_type": "code",
   "execution_count": null,
   "metadata": {},
   "outputs": [],
   "source": [
    "#check the dtypes of the columns and make object columns type int64\n",
    "df_airline.dtypes"
   ]
  },
  {
   "cell_type": "code",
   "execution_count": null,
   "metadata": {},
   "outputs": [],
   "source": [
    "#Change the datatype of all of the columns that contain object types to float\n",
    "df_airline['DepTime'] = df_airline['DepTime'].astype('float64')\n",
    "df_airline['ArrTime'] = df_airline['ArrTime'].astype('float64')\n",
    "df_airline['ActualElapsedTime'] = df_airline['ActualElapsedTime'].astype('float64')\n",
    "df_airline['CRSElapsedTime'] = df_airline['CRSElapsedTime'].astype('float64')\n",
    "df_airline['AirTime'] = df_airline['AirTime'].astype('float64')\n",
    "df_airline['CarrierDelay']= df_airline['CarrierDelay'].astype('float64')\n",
    "df_airline['WeatherDelay']= df_airline['WeatherDelay'].astype('float64')\n",
    "df_airline['NASDelay']= df_airline['NASDelay'].astype('float64')\n",
    "df_airline['SecurityDelay']= df_airline['SecurityDelay'].astype('float64')\n",
    "df_airline['LateAircraftDelay']= df_airline['LateAircraftDelay'].astype('float64')\n",
    "df_airline['ArrDelay']= df_airline['ArrDelay'].astype('float64')\n",
    "df_airline['DepDelay']= df_airline['DepDelay'].astype('float64')\n",
    "df_airline['TaxiIn']= df_airline['TaxiIn'].astype('float64')\n",
    "df_airline['TaxiOut']= df_airline['TaxiOut'].astype('float64')"
   ]
  },
  {
   "cell_type": "code",
   "execution_count": null,
   "metadata": {},
   "outputs": [],
   "source": [
    "#let's define our X predictor variable and Y outcome variable \n",
    "X = df_airline[['Year', 'Month', 'DayofMonth', 'DayOfWeek', 'DepTime', 'CRSDepTime',\n",
    "       'ArrTime', 'CRSArrTime', 'FlightNum',\n",
    "       'ActualElapsedTime', 'CRSElapsedTime', 'AirTime', 'ArrDelay',\n",
    "       'DepDelay','Distance', 'TaxiIn', 'TaxiOut',\n",
    "       'Cancelled','Diverted', 'CarrierDelay','WeatherDelay', 'NASDelay', 'SecurityDelay']]\n",
    "y = df_airline[['LateAircraftDelay']]"
   ]
  },
  {
   "cell_type": "code",
   "execution_count": null,
   "metadata": {},
   "outputs": [],
   "source": [
    "sns.heatmap(df_airline.corr(), square=True)"
   ]
  },
  {
   "cell_type": "code",
   "execution_count": null,
   "metadata": {},
   "outputs": [],
   "source": [
    "from sklearn import linear_model\n",
    "ridgeregr = linear_model.Ridge(alpha=10, fit_intercept=False) \n",
    "#y = y.reshape(1,-1)\n",
    "#X = X.reshape(1,-1)\n",
    "\n",
    "from sklearn.model_selection import cross_val_score\n",
    "cv_results =cross_val_score(ridgeregr, X, y, cv=5)\n",
    "print('\\n Percentage accuracy of X and Y is: ', cv_results)\n",
    "\n",
    "ridgeregr.fit(X, y)\n",
    "\n",
    "print(\"The R2 score is: \", ridgeregr.score(X, y))\n",
    "origparams = ridgeregr.coef_[0]\n",
    "print(\"The regression coeffients are:\", origparams)\n",
    "\n",
    "pred_y_sklearn = ridgeregr.predict(X) #use for just X\n",
    "\n",
    "print('\\n Accuracy by airline arrival time predicition')\n",
    "#print(pd.crosstab(pred_y_sklearn, y))\n",
    "print('Predictions of new values of X for airline arrival times:',pred_y_sklearn )"
   ]
  },
  {
   "cell_type": "code",
   "execution_count": null,
   "metadata": {},
   "outputs": [],
   "source": [
    "lass = linear_model.Lasso(alpha=.35)\n",
    "\n",
    "X_train, Y_train = X,y\n",
    "\n",
    "lassfit = lass.fit(X_train, Y_train)\n",
    "print('R² for the model with few features:')\n",
    "print(lass.score(X_train, Y_train))\n",
    "origparams = np.append(lassfit.coef_, lassfit.intercept_)\n",
    "print('\\nParameter estimates for the model with few features:')\n",
    "print(origparams)"
   ]
  },
  {
   "cell_type": "code",
   "execution_count": null,
   "metadata": {},
   "outputs": [],
   "source": [
    "from sklearn.tree import DecisionTreeRegressor\n",
    "\n",
    "#increasing the max_depth is improving the accuracy. I initally started with 3 with a 60% accuracy\n",
    "#increased it to 5 with a 83% accurracy\n",
    "#increased it to 7 with a 94% accurracy\n",
    "regressor = DecisionTreeRegressor(max_depth=7)\n",
    "\n",
    "from sklearn.model_selection import cross_val_score\n",
    "cv_results =cross_val_score(regressor, X, y, cv=5)\n",
    "print('\\n Percentage accuracy of X and Y cross validation results are : ', cv_results)\n",
    "\n",
    "regressor.fit(X, y)\n",
    "\n",
    "#score = cross_val_score(regressor, X_test, y_test)\n",
    "score = regressor.score(X, y)\n",
    "\n",
    "print(\"The overal R2 score is: \",score)"
   ]
  },
  {
   "cell_type": "code",
   "execution_count": null,
   "metadata": {},
   "outputs": [],
   "source": [
    "features = X\n",
    "\n",
    "plt.figure(figsize = (9,5))\n",
    "\n",
    "feat_import = pd.DataFrame({'Feature': features, 'Feature importance': regressor.feature_importances_})\n",
    "feat_import = feat_import.sort_values(by='Feature importance',ascending=False)\n",
    "\n",
    "g = sns.barplot(x='Feature',y='Feature importance',data=feat_import)\n",
    "g.set_xticklabels(g.get_xticklabels(),rotation=90)\n",
    "g.set_title('Features importance - Random Forest',fontsize=20)\n",
    "plt.show()"
   ]
  },
  {
   "cell_type": "code",
   "execution_count": null,
   "metadata": {},
   "outputs": [],
   "source": []
  }
 ],
 "metadata": {
  "kernelspec": {
   "display_name": "Python 3",
   "language": "python",
   "name": "python3"
  },
  "language_info": {
   "codemirror_mode": {
    "name": "ipython",
    "version": 3
   },
   "file_extension": ".py",
   "mimetype": "text/x-python",
   "name": "python",
   "nbconvert_exporter": "python",
   "pygments_lexer": "ipython3",
   "version": "3.7.1"
  }
 },
 "nbformat": 4,
 "nbformat_minor": 2
}
