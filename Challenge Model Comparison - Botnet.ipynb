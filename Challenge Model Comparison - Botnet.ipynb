{
 "cells": [
  {
   "cell_type": "code",
   "execution_count": 4,
   "metadata": {},
   "outputs": [],
   "source": [
    "import pandas as pd\n",
    "import numpy as np\n",
    "import scipy\n",
    "import math\n",
    "import matplotlib.pyplot as plt\n",
    "from sklearn import linear_model\n",
    "from sklearn import neighbors\n",
    "from sklearn import preprocessing\n",
    "from sklearn.model_selection import cross_val_score\n",
    "import statsmodels.formula.api as smf\n",
    "from statsmodels.sandbox.regression.predstd import wls_prediction_std\n",
    "\n",
    "%matplotlib inline\n",
    "\n",
    "\n",
    "\n"
   ]
  },
  {
   "cell_type": "code",
   "execution_count": null,
   "metadata": {},
   "outputs": [],
   "source": []
  },
  {
   "cell_type": "markdown",
   "metadata": {},
   "source": [
    "Malware Capture Facility\n",
    "CVUT University, Prague, Czech Republic\n",
    "\n",
    "These files were generated as part of a research project in the CVUT University, Prague, Czech Republic.\n",
    "The goal is to store long-lived real botnet traffic and to generate labeled netflows files.\n",
    "Any question feel free to contact us:\n",
    "Sebastian Garcia, sebastian.garcia@agents.fel.cvut.cz\n",
    "Vojtech Uhlir <vojtech.uhlir@agents.fel.cvut.cz\n",
    "\n",
    "Disclaimer: You are free to use these files as long as you reference this project and the authors.\n",
    "#########################\n",
    "\n",
    "CLF\n",
    "===\n",
    "The CLF (Common Log Format) file contains the web logs of the pcap file as extracted by the justsniffer tool. The command used was:\n",
    "justniffer -f file.pcap > file.clf\n",
    "\n",
    "\n",
    "Weblogs\n",
    "=======\n",
    "The weblogs are files similar to the CLF file but with another format. They were generated with these command :\n",
    "\n",
    "justniffer -f $1 -p \"port 80 or port 8080 or port 3128\" -l \"%request.timestamp2(%s) %dest.port %response.code %response.size %source.port %request.size http://%request.header.host%request.url %connection.time %dest.ip %source.ip %response.header.content-type %request.header.referer %request.header.user-agent\" |awk '{if ($11 ~ /\\;/) print $1\" \"$2\" \"$3\" \"$4\" \"$5\" \"$6\" \"$7\" \"($8*1000)\" \"$9\" \"$10\" \"substr($11,1,match($11,/\\;/)-1)\" \"$13\" \"$14\" \"substr($0,index($0,$15)); else print $1\" \"$2\" \"$3\" \"$4\" \"$5\" \"$6\" \"$7\" \"($8*1000)\" \"$9\" \"substr($0,index($0,$10))}'|awk '{printf \"%.3f %s %s %s %s %s %s %.0f %s %s\\n\", $1, $2, $3, $4, $5, $6, $7, $8, $9, substr($0,index($0,$10))}'|grep -v \"Mb\\|rZl\" > $FILE.weblog\n",
    "# The last grep is to avoid some lines with binary data. Sometimes the botnet uses these port but not for http, so we delete them\n",
    "\n",
    "\n",
    "Netflows\n",
    "========\n",
    "The netflows are generated using the 2013-08-12_argus.conf file, the 2013-08-12_ra.conf file and the 2013-08-12_ralabel.conf conf file. We are using bidirectional argus records.\n",
    "The command used is this:\n",
    "1- argus -F argus.conf -r file.pcap -w file.argus\n",
    "2- ralabel -f ralabel.conf -r file.argus -w file.argus.labeled\n",
    "3- mv file.argus.labeled file.argus (this is to add labels to the argus file)\n",
    "4- ra -F ra.conf -Z b -nr file.argus > file.argus.netflow.labeled\n",
    "\n",
    "If you need the netflows without the labels, just regenerate them without the ralabel command.\n",
    "\n",
    "Pcap\n",
    "====\n",
    "The pcap capture files were done by Virtualbox, because the vms were NATed. This means that all the captures start on 19707/1/1 because of a bug in virtualbox. Then, the pcap captures can not be merged.\n",
    "\n",
    "Labels\n",
    "======\n",
    "Labels were assigned using the ralabel program from the argus suite. The assignment rules are not being published, but can requested by mail.\n",
    "\n",
    "\n",
    "\n",
    "Generic info\n",
    "------------\n",
    "Binary used: 39UvZmv.exe\n",
    "Md5:46b3df3eaf1312f80788abd43343a9d2  \n",
    "- The password of the zip is: infected\n",
    "Probable Name: ?\n",
    "Virustotal link: https://www.virustotal.com/en/file/8330196e9f62ab96fde8d184d7629d73cd30127dc65050c7c55d586ce367c9c8/analysis/\n",
    "\n",
    "Infected Machines:\n",
    "Windows Name: Win8, IP: 10.0.2.22 (Label: Botnet-V1)\n",
    "Windows Name: Win12, IP: 10.0.2.112 (Label: Botnet-V2)\n",
    "\n",
    "\n",
    "Histogram of labels\n",
    "===================\n",
    "For Win8\n",
    "--------\n",
    "  14754 Background-ARP\n",
    "  21815 From-Botnet-V1-UDP-Establishedd\n",
    " 123305 From-Botnet-V1-UDP-Attempt\n",
    " 314679 From-Botnet-V1-TCP-Established\n",
    "1147621 From-Botnet-V1-SPAM\n",
    "1341984 From-Botnet-V1-DNS\n",
    "3528135 From-Botnet-V1-TCP-Attempt\n",
    "18539704 Background\n",
    "\n",
    "For Win12\n",
    "--------\n",
    "  19978 From-Botnet-V2-UDP-Establishedd\n",
    " 103722 Background-ARP\n",
    " 229546 From-Botnet-V2-UDP-Attempt\n",
    " 296121 From-Botnet-V2-TCP-Established\n",
    "1352063 From-Botnet-V2-SPAM\n",
    "1574132 From-Botnet-V2-DNS\n",
    "5723624 From-Botnet-V2-TCP-Attempt\n",
    "19291438 Background\n",
    "\n",
    "\n",
    "Timeline\n",
    "========\n",
    "Thu Sep  5 15:40:07 CEST 2013\n",
    "Started the vm win8. \n",
    "Once a windows has booted up, the malware wakes up by itself automaticaly and starts to sent a lot of data.\n",
    "\n",
    "\n",
    "Thu Sep  5 15:50:06 CEST 2013\n",
    "We infect Win12 i\n",
    "\n",
    "Malware binary deleted iself and starts to send a lot of encrypted data. \n",
    "\n",
    "Tue Oct  1 13:37:58 CEST 2013\n",
    "Win8 is stopped\n",
    "\n",
    "Tue Oct  1 13:38:29 CEST 2013\n",
    "Win12 is stopped\n",
    "\n",
    "\n",
    "\n",
    "Traffic Analysis\n",
    "================"
   ]
  },
  {
   "cell_type": "code",
   "execution_count": 5,
   "metadata": {},
   "outputs": [],
   "source": [
    "df = pd.read_csv('2013-10-01_capture-win12.netflow.csv', low_memory=False)\n",
    "df.fillna(0, inplace=True)\n"
   ]
  },
  {
   "cell_type": "code",
   "execution_count": 6,
   "metadata": {},
   "outputs": [
    {
     "data": {
      "text/html": [
       "<div>\n",
       "<style scoped>\n",
       "    .dataframe tbody tr th:only-of-type {\n",
       "        vertical-align: middle;\n",
       "    }\n",
       "\n",
       "    .dataframe tbody tr th {\n",
       "        vertical-align: top;\n",
       "    }\n",
       "\n",
       "    .dataframe thead th {\n",
       "        text-align: right;\n",
       "    }\n",
       "</style>\n",
       "<table border=\"1\" class=\"dataframe\">\n",
       "  <thead>\n",
       "    <tr style=\"text-align: right;\">\n",
       "      <th></th>\n",
       "      <th>Dur</th>\n",
       "      <th>sTos</th>\n",
       "      <th>dTos</th>\n",
       "      <th>TotPkts</th>\n",
       "      <th>TotBytes</th>\n",
       "    </tr>\n",
       "  </thead>\n",
       "  <tbody>\n",
       "    <tr>\n",
       "      <th>count</th>\n",
       "      <td>5.422750e+06</td>\n",
       "      <td>5.422750e+06</td>\n",
       "      <td>5422750.0</td>\n",
       "      <td>5.422750e+06</td>\n",
       "      <td>5.422750e+06</td>\n",
       "    </tr>\n",
       "    <tr>\n",
       "      <th>mean</th>\n",
       "      <td>1.150334e+00</td>\n",
       "      <td>1.482076e+00</td>\n",
       "      <td>0.0</td>\n",
       "      <td>4.443069e+00</td>\n",
       "      <td>5.840080e+02</td>\n",
       "    </tr>\n",
       "    <tr>\n",
       "      <th>std</th>\n",
       "      <td>1.543644e+00</td>\n",
       "      <td>1.680363e+01</td>\n",
       "      <td>0.0</td>\n",
       "      <td>1.198677e+01</td>\n",
       "      <td>2.897215e+03</td>\n",
       "    </tr>\n",
       "    <tr>\n",
       "      <th>min</th>\n",
       "      <td>0.000000e+00</td>\n",
       "      <td>0.000000e+00</td>\n",
       "      <td>0.0</td>\n",
       "      <td>1.000000e+00</td>\n",
       "      <td>5.400000e+01</td>\n",
       "    </tr>\n",
       "    <tr>\n",
       "      <th>25%</th>\n",
       "      <td>0.000000e+00</td>\n",
       "      <td>0.000000e+00</td>\n",
       "      <td>0.0</td>\n",
       "      <td>1.000000e+00</td>\n",
       "      <td>6.200000e+01</td>\n",
       "    </tr>\n",
       "    <tr>\n",
       "      <th>50%</th>\n",
       "      <td>9.785000e-03</td>\n",
       "      <td>0.000000e+00</td>\n",
       "      <td>0.0</td>\n",
       "      <td>2.000000e+00</td>\n",
       "      <td>1.240000e+02</td>\n",
       "    </tr>\n",
       "    <tr>\n",
       "      <th>75%</th>\n",
       "      <td>2.994563e+00</td>\n",
       "      <td>0.000000e+00</td>\n",
       "      <td>0.0</td>\n",
       "      <td>2.000000e+00</td>\n",
       "      <td>1.840000e+02</td>\n",
       "    </tr>\n",
       "    <tr>\n",
       "      <th>max</th>\n",
       "      <td>9.195051e+00</td>\n",
       "      <td>1.920000e+02</td>\n",
       "      <td>0.0</td>\n",
       "      <td>6.140000e+02</td>\n",
       "      <td>5.784650e+05</td>\n",
       "    </tr>\n",
       "  </tbody>\n",
       "</table>\n",
       "</div>"
      ],
      "text/plain": [
       "                Dur          sTos       dTos       TotPkts      TotBytes\n",
       "count  5.422750e+06  5.422750e+06  5422750.0  5.422750e+06  5.422750e+06\n",
       "mean   1.150334e+00  1.482076e+00        0.0  4.443069e+00  5.840080e+02\n",
       "std    1.543644e+00  1.680363e+01        0.0  1.198677e+01  2.897215e+03\n",
       "min    0.000000e+00  0.000000e+00        0.0  1.000000e+00  5.400000e+01\n",
       "25%    0.000000e+00  0.000000e+00        0.0  1.000000e+00  6.200000e+01\n",
       "50%    9.785000e-03  0.000000e+00        0.0  2.000000e+00  1.240000e+02\n",
       "75%    2.994563e+00  0.000000e+00        0.0  2.000000e+00  1.840000e+02\n",
       "max    9.195051e+00  1.920000e+02        0.0  6.140000e+02  5.784650e+05"
      ]
     },
     "execution_count": 6,
     "metadata": {},
     "output_type": "execute_result"
    }
   ],
   "source": [
    "df.describe()"
   ]
  },
  {
   "cell_type": "code",
   "execution_count": 7,
   "metadata": {},
   "outputs": [],
   "source": [
    "#building ordinary least squares model\n",
    "linear_formula = 'TotBytes ~ Dur+sTos+dTos+TotPkts'\n",
    "\n",
    "lm = smf.ols(formula=linear_formula, data=df).fit()"
   ]
  },
  {
   "cell_type": "code",
   "execution_count": 8,
   "metadata": {},
   "outputs": [
    {
     "data": {
      "text/plain": [
       "Intercept     96.136054\n",
       "Dur         -165.355228\n",
       "sTos          -0.625527\n",
       "dTos           0.000000\n",
       "TotPkts      152.825171\n",
       "dtype: float64"
      ]
     },
     "execution_count": 8,
     "metadata": {},
     "output_type": "execute_result"
    }
   ],
   "source": [
    "lm.params"
   ]
  },
  {
   "cell_type": "code",
   "execution_count": 9,
   "metadata": {},
   "outputs": [
    {
     "name": "stderr",
     "output_type": "stream",
     "text": [
      "D:\\Anaconda3\\lib\\site-packages\\statsmodels\\base\\model.py:1100: RuntimeWarning: invalid value encountered in true_divide\n",
      "  return self.params / self.bse\n",
      "D:\\Anaconda3\\lib\\site-packages\\scipy\\stats\\_distn_infrastructure.py:879: RuntimeWarning: invalid value encountered in greater\n",
      "  return (self.a < x) & (x < self.b)\n",
      "D:\\Anaconda3\\lib\\site-packages\\scipy\\stats\\_distn_infrastructure.py:879: RuntimeWarning: invalid value encountered in less\n",
      "  return (self.a < x) & (x < self.b)\n",
      "D:\\Anaconda3\\lib\\site-packages\\scipy\\stats\\_distn_infrastructure.py:1821: RuntimeWarning: invalid value encountered in less_equal\n",
      "  cond2 = cond0 & (x <= self.a)\n"
     ]
    },
    {
     "data": {
      "text/plain": [
       "Intercept    0.000000e+00\n",
       "Dur          0.000000e+00\n",
       "sTos         2.568300e-26\n",
       "dTos                  NaN\n",
       "TotPkts      0.000000e+00\n",
       "dtype: float64"
      ]
     },
     "execution_count": 9,
     "metadata": {},
     "output_type": "execute_result"
    }
   ],
   "source": [
    "lm.pvalues"
   ]
  },
  {
   "cell_type": "code",
   "execution_count": 10,
   "metadata": {},
   "outputs": [
    {
     "data": {
      "text/plain": [
       "0.3688405476256026"
      ]
     },
     "execution_count": 10,
     "metadata": {},
     "output_type": "execute_result"
    }
   ],
   "source": [
    "lm.rsquared"
   ]
  },
  {
   "cell_type": "code",
   "execution_count": 11,
   "metadata": {},
   "outputs": [
    {
     "data": {
      "text/html": [
       "<div>\n",
       "<style scoped>\n",
       "    .dataframe tbody tr th:only-of-type {\n",
       "        vertical-align: middle;\n",
       "    }\n",
       "\n",
       "    .dataframe tbody tr th {\n",
       "        vertical-align: top;\n",
       "    }\n",
       "\n",
       "    .dataframe thead th {\n",
       "        text-align: right;\n",
       "    }\n",
       "</style>\n",
       "<table border=\"1\" class=\"dataframe\">\n",
       "  <thead>\n",
       "    <tr style=\"text-align: right;\">\n",
       "      <th></th>\n",
       "      <th>0</th>\n",
       "      <th>1</th>\n",
       "    </tr>\n",
       "  </thead>\n",
       "  <tbody>\n",
       "    <tr>\n",
       "      <th>Intercept</th>\n",
       "      <td>93.707470</td>\n",
       "      <td>98.564638</td>\n",
       "    </tr>\n",
       "    <tr>\n",
       "      <th>Dur</th>\n",
       "      <td>-166.694463</td>\n",
       "      <td>-164.015992</td>\n",
       "    </tr>\n",
       "    <tr>\n",
       "      <th>sTos</th>\n",
       "      <td>-0.741036</td>\n",
       "      <td>-0.510017</td>\n",
       "    </tr>\n",
       "    <tr>\n",
       "      <th>dTos</th>\n",
       "      <td>0.000000</td>\n",
       "      <td>0.000000</td>\n",
       "    </tr>\n",
       "    <tr>\n",
       "      <th>TotPkts</th>\n",
       "      <td>152.652857</td>\n",
       "      <td>152.997485</td>\n",
       "    </tr>\n",
       "  </tbody>\n",
       "</table>\n",
       "</div>"
      ],
      "text/plain": [
       "                    0           1\n",
       "Intercept   93.707470   98.564638\n",
       "Dur       -166.694463 -164.015992\n",
       "sTos        -0.741036   -0.510017\n",
       "dTos         0.000000    0.000000\n",
       "TotPkts    152.652857  152.997485"
      ]
     },
     "execution_count": 11,
     "metadata": {},
     "output_type": "execute_result"
    }
   ],
   "source": [
    "lm.conf_int()"
   ]
  },
  {
   "cell_type": "code",
   "execution_count": 12,
   "metadata": {},
   "outputs": [
    {
     "name": "stdout",
     "output_type": "stream",
     "text": [
      "               Dur      sTos  dTos   TotPkts  TotBytes\n",
      "Dur       1.000000  0.058019   NaN  0.346264  0.130627\n",
      "sTos      0.058019  1.000000   NaN  0.040127  0.016632\n",
      "dTos           NaN       NaN   NaN       NaN       NaN\n",
      "TotPkts   0.346264  0.040127   NaN  1.000000  0.601638\n",
      "TotBytes  0.130627  0.016632   NaN  0.601638  1.000000\n"
     ]
    }
   ],
   "source": [
    "correlation_matrix = df.corr()\n",
    "print(correlation_matrix)"
   ]
  },
  {
   "cell_type": "code",
   "execution_count": null,
   "metadata": {},
   "outputs": [],
   "source": [
    "df.dropna()\n",
    "knn = neighbors.KNeighborsRegressor(n_neighbors=5)\n",
    "X = df[['Dur', 'sTos', 'dTos', 'TotPkts']]\n",
    "Y = df['TotBytes']\n",
    "knn.fit(X, Y)\n",
    "\n",
    "T = pd.DataFrame(np.arange(0, 100, 0.1)[:, np.newaxis])\n",
    "T[1] = T[0]\n",
    "T[2] = T[0]\n",
    "T[3] = T[0]\n",
    "\n",
    "Y_ = knn.predict(T)\n",
    "\n",
    "score = cross_val_score(knn, X, Y, cv=5)\n",
    "print('Unweighted Accuracy: %0.2f (+/- %0.2f)' % (score.mean(), score.std()))"
   ]
  },
  {
   "cell_type": "code",
   "execution_count": null,
   "metadata": {},
   "outputs": [],
   "source": [
    "knn_n = neighbors.KNeighborsRegressor(n_neighbors=5)\n",
    "X = df[['Dur', 'sTos', 'dTos', 'TotPkts']]\n",
    "normalized_X = preprocessing.normalize(X)\n",
    "Y = df['TotBytes']\n",
    "knn_n.fit(normalized_X, Y)\n",
    "\n",
    "T = pd.DataFrame(np.arange(0, 1, 0.01)[:, np.newaxis])\n",
    "T[1] = T[0]\n",
    "T[2] = T[0]\n",
    "T[3] = T[0]\n",
    "\n",
    "Y_ = knn_n.predict(T)\n",
    "\n",
    "score = cross_val_score(knn_n, normalized_X, Y, cv=5)\n",
    "print('Unweighted Normalized Accuracy: %0.2f (+/- %0.2f)' % (score.mean(), score.std()))"
   ]
  },
  {
   "cell_type": "code",
   "execution_count": null,
   "metadata": {},
   "outputs": [],
   "source": []
  }
 ],
 "metadata": {
  "kernelspec": {
   "display_name": "Python 3",
   "language": "python",
   "name": "python3"
  },
  "language_info": {
   "codemirror_mode": {
    "name": "ipython",
    "version": 3
   },
   "file_extension": ".py",
   "mimetype": "text/x-python",
   "name": "python",
   "nbconvert_exporter": "python",
   "pygments_lexer": "ipython3",
   "version": "3.7.1"
  }
 },
 "nbformat": 4,
 "nbformat_minor": 2
}
