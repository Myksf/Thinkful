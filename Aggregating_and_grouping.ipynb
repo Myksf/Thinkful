{
 "cells": [
  {
   "cell_type": "markdown",
   "metadata": {},
   "source": [
    "# What was the hottest day in our data set? Where was that?\n"
   ]
  },
  {
   "cell_type": "markdown",
   "metadata": {},
   "source": [
    "### The Hottest day was 134 degrees located at 94063 on November 17, 2015 "
   ]
  },
  {
   "cell_type": "raw",
   "metadata": {},
   "source": [
    "##PostgreSQL Code\n",
    "\n",
    "SELECT\n",
    "   MaxTemperatureF as Heat,\n",
    "   Zip as Location,\n",
    "   Date as Date\n",
    "FROM\n",
    "   Weather\n",
    "ORDER BY\t\n",
    "\tMaxTemperatureF DESC;\n"
   ]
  },
  {
   "cell_type": "markdown",
   "metadata": {},
   "source": [
    "# How many trips started at each station?"
   ]
  },
  {
   "cell_type": "raw",
   "metadata": {},
   "source": [
    "\"San Francisco Caltrain (Townsend at 4th)\"\t\"23591\"\n",
    "\"San Francisco Caltrain 2 (330 Townsend)\"\t\"22358\"\n",
    "\"Harry Bridges Plaza (Ferry Building)\"\t\"16128\"\n",
    "\"2nd at Townsend\"\t\"14099\"\n",
    "\"Steuart at Market\"\t\"13693\"\n",
    "\"Embarcadero at Sansome\"\t\"13424\"\n",
    "\"Temporary Transbay Terminal (Howard at Beale)\"\t\"13111\"\n",
    "\"Townsend at 7th\"\t\"11170\"\n",
    "\"Market at Sansome\"\t\"10970\"\n",
    "\"Market at 10th\"\t\"9937\"\n",
    "\"Embarcadero at Folsom\"\t\"7820\"\n",
    "\"2nd at South Park\"\t\"7722\"\n",
    "\"Embarcadero at Bryant\"\t\"7714\"\n",
    "\"Howard at 2nd\"\t\"7583\"\n",
    "\"2nd at Folsom\"\t\"7464\"\n",
    "\"Beale at Market\"\t\"7373\"\n",
    "\"Market at 4th\"\t\"7337\"\n",
    "\"Powell Street BART\"\t\"6826\"\n",
    "\"Grant Avenue at Columbus Avenue\"\t\"6735\"\n",
    "\"Broadway St at Battery St\"\t\"5695\"\n",
    "\"Mechanics Plaza (Market at Battery)\"\t\"5613\"\n",
    "\"5th at Howard\"\t\"5436\"\n",
    "\"South Van Ness at Market\"\t\"5398\"\n",
    "\"Davis at Jackson\"\t\"5240\"\n",
    "\"Spear at Folsom\"\t\"5113\"\n",
    "\"Civic Center BART (7th at Market)\"\t\"5043\"\n",
    "\"Commercial at Montgomery\"\t\"4969\"\n",
    "\"Embarcadero at Vallejo\"\t\"4710\"\n",
    "\"Powell at Post (Union Square)\"\t\"4488\"\n",
    "\"Clay at Battery\"\t\"4357\"\n",
    "\"Post at Kearny\"\t\"4348\"\n",
    "\"San Jose Diridon Caltrain Station\"\t\"4035\"\n",
    "\"Yerba Buena Center of the Arts (3rd @ Howard)\"\t\"3460\"\n",
    "\"Golden Gate at Polk\"\t\"3309\"\n",
    "\"Washington at Kearny\"\t\"2844\"\n",
    "\"Mountain View Caltrain Station\"\t\"2515\"\n",
    "\"San Francisco City Hall\"\t\"2195\"\n",
    "\"Santa Clara at Almaden\"\t\"1447\"\n",
    "\"Mountain View City Hall\"\t\"1291\"\n",
    "\"San Pedro Square\"\t\"1215\"\n",
    "\"Palo Alto Caltrain Station\"\t\"1170\"\n",
    "\"Castro Street and El Camino Real\"\t\"1014\"\n",
    "\"Japantown\"\t\"945\"\n",
    "\"Ryland Park\"\t\"879\"\n",
    "\"Paseo de San Antonio\"\t\"833\"\n",
    "\"Adobe on Almaden\"\t\"789\"\n",
    "\"Cowper at University\"\t\"788\"\n",
    "\"Redwood City Caltrain Station\"\t\"695\"\n",
    "\"St James Park\"\t\"694\"\n",
    "\"MLK Library\"\t\"630\"\n",
    "\"San Antonio Caltrain Station\"\t\"611\"\n",
    "\"San Antonio Shopping Center\"\t\"559\"\n",
    "\"Arena Green / SAP Center\"\t\"547\"\n",
    "\"San Jose Civic Center\"\t\"543\"\n",
    "\"San Salvador at 1st\"\t\"540\"\n",
    "\"San Jose City Hall\"\t\"518\"\n",
    "\"University and Emerson\"\t\"490\"\n",
    "\"SJSU - San Salvador at 9th\"\t\"481\"\n",
    "\"Stanford in Redwood City\"\t\"428\"\n",
    "\"Santa Clara County Civic Center\"\t\"420\"\n",
    "\"California Ave Caltrain Station\"\t\"392\"\n",
    "\"SJSU 4th at San Carlos\"\t\"363\"\n",
    "\"Charleston Park/ North Bayshore Area\"\t\"343\"\n",
    "\"Park at Olive\"\t\"276\"\n",
    "\"5th St at Folsom St\"\t\"173\"\n",
    "\"Kaiser Hospital\"\t\"147\"\n",
    "\"Mezes\"\t\"119\"\n",
    "\"San Mateo County Center\"\t\"86\"\n",
    "\"S. Market St at Park Ave\"\t\"84\"\n",
    "\"Evelyn Park and Ride\"\t\"71\"\n",
    "\"Cyril Magnin St at Ellis St\"\t\"69\"\n",
    "\"Middlefield Light Rail Station\"\t\"66\"\n",
    "\"Redwood City Public Library\"\t\"59\"\n",
    "\"Rengstorff Avenue / California Street\"\t\"42\"\n",
    "\"5th S at E. San Salvador St\"\t\"19\"\n",
    "\"Sequoia Hospital\"\t\"15\"\n",
    "\"Mezes Park\"\t\"7\"\n",
    "\"Redwood City Medical Center\"\t\"5\"\n",
    "\"Franklin at Maple\"\t\"2\"\n",
    "\"5th St at E. San Salvador St\"\t\"1\""
   ]
  },
  {
   "cell_type": "raw",
   "metadata": {},
   "source": [
    "SELECT\n",
    "\tstart_station,\n",
    "\tcount(*) as startStation\n",
    "FROM \n",
    "\ttrips\n",
    "GROUP by \n",
    "1\n",
    "ORDER BY\n",
    "\tstartstation DESC;\n"
   ]
  },
  {
   "cell_type": "markdown",
   "metadata": {},
   "source": [
    "# What's the shortest trip that happened?"
   ]
  },
  {
   "cell_type": "markdown",
   "metadata": {},
   "source": [
    "### 6O Minutes"
   ]
  },
  {
   "cell_type": "raw",
   "metadata": {},
   "source": [
    "SELECT\n",
    "\tduration\n",
    "FROM \n",
    "\ttrips\n",
    "GROUP BY 1\n",
    "ORDER BY\n",
    "\tduration ASC;"
   ]
  },
  {
   "cell_type": "markdown",
   "metadata": {},
   "source": [
    "# What is the average trip duration, by end station?\n"
   ]
  },
  {
   "cell_type": "code",
   "execution_count": null,
   "metadata": {},
   "outputs": [],
   "source": [
    "\"University and Emerson\"\t\"4710.8977272727272727\"\t\"528\"\n",
    "\"Cyril Magnin St at Ellis St\"\t\"2926.2205882352941176\"\t\"68\"\n",
    "\"San Jose Civic Center\"\t\"2372.5842349304482226\"\t\"647\"\n",
    "\"Charleston Park/ North Bayshore Area\"\t\"2370.2261580381471390\"\t\"367\"\n",
    "\"Franklin at Maple\"\t\"2068.6000000000000000\"\t\"10\"\n",
    "\"Palo Alto Caltrain Station\"\t\"1927.4484435797665370\"\t\"1028\"\n",
    "\"California Ave Caltrain Station\"\t\"1825.5910543130990415\"\t\"626\"\n",
    "\"5th S at E. San Salvador St\"\t\"1767.0000000000000000\"\t\"24\"\n",
    "\"Rengstorff Avenue / California Street\"\t\"1658.5000000000000000\"\t\"32\"\n",
    "\"Sequoia Hospital\"\t\"1633.5000000000000000\"\t\"14\"\n",
    "\"Powell at Post (Union Square)\"\t\"1631.9815567364801500\"\t\"3199\"\n",
    "\"Santa Clara County Civic Center\"\t\"1604.7739938080495356\"\t\"323\"\n",
    "\"S. Market St at Park Ave\"\t\"1585.7475728155339806\"\t\"103\"\n",
    "\"Grant Avenue at Columbus Avenue\"\t\"1478.6814183617372183\"\t\"3638\"\n",
    "\"Arena Green / SAP Center\"\t\"1426.4759259259259259\"\t\"540\"\n",
    "\"Park at Olive\"\t\"1405.9926470588235294\"\t\"272\"\n",
    "\"Embarcadero at Sansome\"\t\"1400.3825076293747159\"\t\"15401\"\n",
    "\"Embarcadero at Vallejo\"\t\"1372.6702468437912191\"\t\"5307\"\n",
    "\"South Van Ness at Market\"\t\"1366.0309677419354839\"\t\"4650\"\n",
    "\"San Francisco City Hall\"\t\"1361.3194221508828250\"\t\"1869\"\n",
    "\"Golden Gate at Polk\"\t\"1277.8000760167236792\"\t\"2631\"\n",
    "\"SJSU - San Salvador at 9th\"\t\"1227.6196868008948546\"\t\"447\"\n",
    "\"Ryland Park\"\t\"1223.4040296924708378\"\t\"943\"\n",
    "\"Cowper at University\"\t\"1210.0707964601769912\"\t\"678\"\n",
    "\"Middlefield Light Rail Station\"\t\"1199.8709677419354839\"\t\"93\"\n",
    "\"Redwood City Public Library\"\t\"1186.7014925373134328\"\t\"67\"\n",
    "\"San Jose City Hall\"\t\"1147.7605321507760532\"\t\"451\"\n",
    "\"Redwood City Caltrain Station\"\t\"1147.6666666666666667\"\t\"615\"\n",
    "\"San Salvador at 1st\"\t\"1084.9933333333333333\"\t\"600\"\n",
    "\"San Antonio Caltrain Station\"\t\"1083.6819012797074954\"\t\"547\"\n",
    "\"Stanford in Redwood City\"\t\"1071.6590436590436590\"\t\"481\"\n",
    "\"Washington at Kearny\"\t\"1061.8850610710930160\"\t\"3193\"\n",
    "\"Market at 10th\"\t\"1044.9286602038279891\"\t\"8046\"\n",
    "\"Civic Center BART (7th at Market)\"\t\"1033.1034334763948498\"\t\"4660\"\n",
    "\"Market at 4th\"\t\"1022.0010223455527968\"\t\"6847\"\n",
    "\"MLK Library\"\t\"1012.9728000000000000\"\t\"625\"\n",
    "\"San Mateo County Center\"\t\"1008.0288461538461538\"\t\"104\"\n",
    "\"Mountain View Caltrain Station\"\t\"996.8829617834394904\"\t\"2512\"\n",
    "\"Powell Street BART\"\t\"991.0090537383177570\"\t\"6848\"\n",
    "\"Japantown\"\t\"969.8289183222958057\"\t\"906\"\n",
    "\"SJSU 4th at San Carlos\"\t\"967.1324324324324324\"\t\"370\"\n",
    "\"Harry Bridges Plaza (Ferry Building)\"\t\"918.8773540489642185\"\t\"16992\"\n",
    "\"Clay at Battery\"\t\"856.7997652582159624\"\t\"4260\"\n",
    "\"Adobe on Almaden\"\t\"828.9907894736842105\"\t\"760\"\n",
    "\"San Pedro Square\"\t\"816.3774885145482389\"\t\"1306\"\n",
    "\"Castro Street and El Camino Real\"\t\"802.5021739130434783\"\t\"920\"\n",
    "\"Yerba Buena Center of the Arts (3rd @ Howard)\"\t\"757.0955141129032258\"\t\"3968\"\n",
    "\"Broadway St at Battery St\"\t\"756.4946168461051298\"\t\"4737\"\n",
    "\"Post at Kearny\"\t\"744.2211221122112211\"\t\"4242\"\n",
    "\"Evelyn Park and Ride\"\t\"739.0131578947368421\"\t\"76\"\n",
    "\"Davis at Jackson\"\t\"735.5104631217838765\"\t\"5830\"\n",
    "\"Mechanics Plaza (Market at Battery)\"\t\"731.3687905915394067\"\t\"5697\"\n",
    "\"Santa Clara at Almaden\"\t\"726.6758430832759807\"\t\"1453\"\n",
    "\"Paseo de San Antonio\"\t\"724.4401709401709402\"\t\"936\"\n",
    "\"San Antonio Shopping Center\"\t\"724.3996710526315789\"\t\"608\"\n",
    "\"San Francisco Caltrain (Townsend at 4th)\"\t\"723.1106294433847754\"\t\"28835\"\n",
    "\"Beale at Market\"\t\"699.7918381344307270\"\t\"5832\"\n",
    "\"Embarcadero at Bryant\"\t\"697.7435816164817750\"\t\"6310\"\n",
    "\"5th St at E. San Salvador St\"\t\"686.0000000000000000\"\t\"1\"\n",
    "\"Kaiser Hospital\"\t\"670.2962962962962963\"\t\"108\"\n",
    "\"Steuart at Market\"\t\"668.5274823303369244\"\t\"14573\"\n",
    "\"Townsend at 7th\"\t\"666.2058280147799798\"\t\"11908\"\n",
    "\"Mountain View City Hall\"\t\"651.1602048280907096\"\t\"1367\"\n",
    "\"Mezes\"\t\"644.8508771929824561\"\t\"114\"\n",
    "\"2nd at Townsend\"\t\"633.2570440573770492\"\t\"15616\"\n",
    "\"Embarcadero at Folsom\"\t\"613.8816484224082421\"\t\"7765\"\n",
    "\"Market at Sansome\"\t\"612.9269519461425366\"\t\"12923\"\n",
    "\"San Francisco Caltrain 2 (330 Townsend)\"\t\"609.4920325478894728\"\t\"23596\"\n",
    "\"Spear at Folsom\"\t\"608.9855351976856316\"\t\"5185\"\n",
    "\"San Jose Diridon Caltrain Station\"\t\"599.5223076923076923\"\t\"3900\"\n",
    "\"Howard at 2nd\"\t\"592.6638180383907441\"\t\"7606\"\n",
    "\"5th at Howard\"\t\"583.5723111040709647\"\t\"6313\"\n",
    "\"Temporary Transbay Terminal (Howard at Beale)\"\t\"582.8352827296926676\"\t\"12397\"\n",
    "\"St James Park\"\t\"578.4172989377845220\"\t\"659\"\n",
    "\"Commercial at Montgomery\"\t\"564.7165292500981547\"\t\"5094\"\n",
    "\"2nd at Folsom\"\t\"557.0507602339181287\"\t\"4275\"\n",
    "\"2nd at South Park\"\t\"531.5899035734543392\"\t\"7052\"\n",
    "\"5th St at Folsom St\"\t\"527.2980132450331126\"\t\"151\"\n",
    "\"Redwood City Medical Center\"\t\"359.0833333333333333\"\t\"12\"\n",
    "\"Mezes Park\"\t\"257.0000000000000000\"\t\"2\""
   ]
  },
  {
   "cell_type": "raw",
   "metadata": {},
   "source": [
    "SELECT\n",
    "\tend_station,\n",
    "\tAVG(duration) as dur,\n",
    "\tCOUNT(*)\n",
    "FROM \n",
    "\ttrips\n",
    "GROUP BY 1\n",
    "ORDER BY dur DESC;"
   ]
  }
 ],
 "metadata": {
  "kernelspec": {
   "display_name": "Python 3",
   "language": "python",
   "name": "python3"
  },
  "language_info": {
   "codemirror_mode": {
    "name": "ipython",
    "version": 3
   },
   "file_extension": ".py",
   "mimetype": "text/x-python",
   "name": "python",
   "nbconvert_exporter": "python",
   "pygments_lexer": "ipython3",
   "version": "3.7.1"
  }
 },
 "nbformat": 4,
 "nbformat_minor": 2
}
