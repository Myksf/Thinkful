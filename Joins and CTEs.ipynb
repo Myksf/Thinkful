{
 "cells": [
  {
   "cell_type": "markdown",
   "metadata": {},
   "source": [
    "# What are the three longest trips on rainy days?\n"
   ]
  },
  {
   "cell_type": "markdown",
   "metadata": {},
   "source": [
    "Standford in Redwood City, Yerba Buena Center of the Arts (3rd @ Howard), and 2nd at Townsend.\n"
   ]
  },
  {
   "cell_type": "raw",
   "metadata": {},
   "source": [
    "SELECT\n",
    " trips.start_station,\n",
    " trips.duration,\n",
    " trips.start_date,\n",
    " trips.zip_code,\n",
    " weather.date,\n",
    " weather.PrecipitationIn,\n",
    " weather.zip\n",
    "FROM\n",
    "\ttrips\n",
    "JOIN\n",
    "\tweather\n",
    "ON\n",
    "\ttrips.zip_code = weather.zip\n",
    "WHERE\n",
    "\tweather.precipitationin > 0\n",
    "GROUP BY\n",
    "\ttrips.start_station,\n",
    "\ttrips.duration,\n",
    "\ttrips.start_date,\n",
    "\ttrips.zip_code,\n",
    "\tweather.date,\n",
    "\tweather.precipitationIN,\n",
    "\tweather.zip\n",
    "\t\n",
    "ORDER BY\n",
    "\tduration DESC\n",
    "\n",
    ";\n"
   ]
  },
  {
   "cell_type": "markdown",
   "metadata": {},
   "source": [
    "# Which station is full most often?"
   ]
  },
  {
   "cell_type": "markdown",
   "metadata": {},
   "source": [
    "Cyril Magnin St. at Ellis St.Which station is full most often?"
   ]
  },
  {
   "cell_type": "raw",
   "metadata": {},
   "source": [
    "SELECT\n",
    "\tstations.dockcount,\n",
    "\ttrips.start_station\n",
    "FROM\n",
    "\tstations\n",
    "JOIN\n",
    "\ttrips\n",
    "ON\n",
    "\tstations.NAME = trips.start_station\n",
    "\t\n",
    "ORDER BY \n",
    "\tdockcount desc;\n"
   ]
  },
  {
   "cell_type": "markdown",
   "metadata": {},
   "source": [
    "# Return a list of stations with a count of number of trips starting at that station but ordered by dock count.\n"
   ]
  },
  {
   "cell_type": "raw",
   "metadata": {},
   "source": [
    "35\t\"Cyril Magnin St at Ellis St\"\t\"1\"\n",
    "31\t\"5th St at Folsom St\"\t\"1\"\n",
    "27\t\"2nd at Townsend\"\t\"1\"\n",
    "27\t\"Market at 10th\"\t\"1\"\n",
    "27\t\"Market at Sansome\"\t\"1\"\n",
    "27\t\"San Jose Diridon Caltrain Station\"\t\"1\"\n",
    "23\t\"Civic Center BART (7th at Market)\"\t\"1\"\n",
    "23\t\"Golden Gate at Polk\"\t\"1\"\n",
    "23\t\"Harry Bridges Plaza (Ferry Building)\"\t\"1\"\n",
    "23\t\"Mountain View Caltrain Station\"\t\"1\"\n",
    "23\t\"Palo Alto Caltrain Station\"\t\"1\"\n",
    "23\t\"San Antonio Caltrain Station\"\t\"1\"\n",
    "23\t\"San Francisco Caltrain 2 (330 Townsend)\"\t\"1\"\n",
    "23\t\"Steuart at Market\"\t\"1\"\n",
    "23\t\"Temporary Transbay Terminal (Howard at Beale)\"\t\"1\"\n",
    "19\t\"2nd at Folsom\"\t\"1\"\n",
    "19\t\"5th S. at E. San Salvador St\"\t\"1\"\n",
    "19\t\"Adobe on Almaden\"\t\"1\"\n",
    "19\t\"Arena Green / SAP Center\"\t\"1\"\n",
    "19\t\"Beale at Market\"\t\"1\"\n",
    "19\t\"Embarcadero at Folsom\"\t\"1\"\n",
    "19\t\"Grant Avenue at Columbus Avenue\"\t\"1\"\n",
    "19\t\"Howard at 2nd\"\t\"1\"\n",
    "19\t\"Market at 4th\"\t\"1\"\n",
    "19\t\"Mechanics Plaza (Market at Battery)\"\t\"1\"\n",
    "19\t\"MLK Library\"\t\"1\"\n",
    "19\t\"Post at Kearney\"\t\"1\"\n",
    "19\t\"Powell at Post (Union Square)\"\t\"1\"\n",
    "19\t\"Powell Street BART\"\t\"1\"\n",
    "19\t\"S. Market st at Park Ave\"\t\"1\"\n",
    "19\t\"San Francisco Caltrain (Townsend at 4th)\"\t\"1\"\n",
    "19\t\"San Francisco City Hall\"\t\"1\"\n",
    "19\t\"SJSU 4th at San Carlos\"\t\"1\"\n",
    "19\t\"South Van Ness at Market\"\t\"1\"\n",
    "19\t\"Spear at Folsom\"\t\"1\"\n",
    "19\t\"Yerba Buena Center of the Arts (3rd @ Howard)\"\t\"1\"\n",
    "15\t\"2nd at South Park\"\t\"1\"\n",
    "15\t\"5th at Howard\"\t\"1\"\n",
    "15\t\"Broadway St at Battery St\"\t\"1\"\n",
    "15\t\"California Ave Caltrain Station\"\t\"1\"\n",
    "15\t\"Charleston Park/ North Bayshore Area\"\t\"1\"\n",
    "15\t\"Clay at Battery\"\t\"1\"\n",
    "15\t\"Commercial at Montgomery\"\t\"1\"\n",
    "15\t\"Davis at Jackson\"\t\"1\"\n",
    "15\t\"Embarcadero at Bryant\"\t\"1\"\n",
    "15\t\"Embarcadero at Sansome\"\t\"1\"\n",
    "15\t\"Embarcadero at Vallejo\"\t\"1\"\n",
    "15\t\"Japantown\"\t\"1\"\n",
    "15\t\"Middlefield Light Rail Station\"\t\"1\"\n",
    "15\t\"Mountain View City Hall\"\t\"1\"\n",
    "15\t\"Park at Olive\"\t\"1\"\n",
    "15\t\"Paseo de San Antonio\"\t\"1\"\n",
    "15\t\"Ryland Park\"\t\"1\"\n",
    "15\t\"San Antonio Shopping Center\"\t\"1\"\n",
    "15\t\"San Jose City Hall\"\t\"1\"\n",
    "15\t\"San Jose Civic Center\"\t\"1\"\n",
    "15\t\"San Pedro Square\"\t\"1\"\n",
    "15\t\"San Salvador at 1st\"\t\"1\"\n",
    "15\t\"Santa Clara County Civic Center\"\t\"1\"\n",
    "15\t\"SJSU - San Salvador at 9th\"\t\"1\"\n",
    "15\t\"St James Park\"\t\"1\"\n",
    "15\t\"Townsend at 7th\"\t\"1\"\n",
    "15\t\"Washington at Kearney\"\t\"1\"\n",
    "11\t\"Castro Street and El Camino Real\"\t\"1\"\n",
    "11\t\"Cowper at University\"\t\"1\"\n",
    "11\t\"Santa Clara at Almaden\"\t\"1\"\n",
    "11\t\"University and Emerson\"\t\"1\""
   ]
  },
  {
   "cell_type": "raw",
   "metadata": {},
   "source": [
    "SELECT\n",
    "     dockcount,\n",
    "\t name,\n",
    "    COUNT(*) as station_count\n",
    "FROM \n",
    "    stations\n",
    "GROUP BY 1, 2\n",
    "\n",
    "ORDER BY\n",
    "\tdockcount DESC\n",
    ";"
   ]
  },
  {
   "cell_type": "markdown",
   "metadata": {},
   "source": [
    "# (Challenge) What's the length of the longest trip for each day it rains anywhere?"
   ]
  },
  {
   "cell_type": "markdown",
   "metadata": {},
   "source": [
    "\"rain\"\t\"Stanford in Redwood City\"\t\"81484\"\t\"94063\"\t\"2015-11-02\"\t\"0.26\"\t94063\n",
    "\"rain\"\t\"Stanford in Redwood City\"\t\"81484\"\t\"94063\"\t\"2015-11-08\"\t\"0.01\"\t94063\n",
    "\"rain\"\t\"Stanford in Redwood City\"\t\"81484\"\t\"94063\"\t\"2015-11-10\"\t\"0.01\"\t94063\n",
    "\"rain\"\t\"Stanford in Redwood City\"\t\"81484\"\t\"94063\"\t\"2015-11-15\"\t\"0.14\"\t94063\n",
    "\"rain\"\t\"Stanford in Redwood City\"\t\"81484\"\t\"94063\"\t\"2015-11-25\"\t\"0.02\"\t94063\n",
    "\"rain\"\t\"Stanford in Redwood City\"\t\"81484\"\t\"94063\"\t\"2015-12-10\"\t\"0.07\"\t94063\n",
    "\"rain\"\t\"Stanford in Redwood City\"\t\"81484\"\t\"94063\"\t\"2015-12-11\"\t\"0.21\"\t94063\n",
    "\"rain\"\t\"Stanford in Redwood City\"\t\"81484\"\t\"94063\"\t\"2015-12-18\"\t\"0.06\"\t94063\n",
    "\"rain\"\t\"Stanford in Redwood City\"\t\"81484\"\t\"94063\"\t\"2015-12-21\"\t\"0.04\"\t94063\n",
    "\"rain\"\t\"Stanford in Redwood City\"\t\"81484\"\t\"94063\"\t\"2015-12-24\"\t\"0.06\"\t94063\n",
    "\"rain\"\t\"Stanford in Redwood City\"\t\"81484\"\t\"94063\"\t\"2015-12-28\"\t\"0.02\"\t94063\n",
    "\"rain\"\t\"Stanford in Redwood City\"\t\"81484\"\t\"94063\"\t\"2016-01-04\"\t\"0.01\"\t94063\n",
    "\"rain\"\t\"Stanford in Redwood City\"\t\"81484\"\t\"94063\"\t\"2016-01-05\"\t\"0.28\"\t94063\n",
    "\"rain\"\t\"Stanford in Redwood City\"\t\"81484\"\t\"94063\"\t\"2016-01-06\"\t\"0.1\"\t94063\n",
    "\"rain\"\t\"Stanford in Redwood City\"\t\"81484\"\t\"94063\"\t\"2016-01-13\"\t\"0.06\"\t94063\n",
    "\"rain\"\t\"Stanford in Redwood City\"\t\"81484\"\t\"94063\"\t\"2016-01-15\"\t\"0.12\"\t94063\n",
    "\"rain\"\t\"Stanford in Redwood City\"\t\"81484\"\t\"94063\"\t\"2016-01-16\"\t\"0.02\"\t94063\n",
    "\"rain\"\t\"Stanford in Redwood City\"\t\"81484\"\t\"94063\"\t\"2016-01-17\"\t\"0.12\"\t94063\n",
    "\"rain\"\t\"Stanford in Redwood City\"\t\"81484\"\t\"94063\"\t\"2016-01-18\"\t\"0.22\"\t94063\n",
    "\"rain\"\t\"Stanford in Redwood City\"\t\"81484\"\t\"94063\"\t\"2016-01-19\"\t\"0.14\"\t94063"
   ]
  },
  {
   "cell_type": "raw",
   "metadata": {},
   "source": [
    "SELECEN weather.precipitationin > 0 THEN 'rain' ELSE 'no rain' END) rain,\n",
    "    \n",
    " \n",
    " trips.start_station,\n",
    " trips.duration,\n",
    " trips.zip_code,\n",
    " weather.date,\n",
    " weather.PrecipitationIn,\n",
    " weather.zip\n",
    "FROM\n",
    "\ttrips\n",
    "JOIN\n",
    "\tweather\n",
    "ON\n",
    "\ttrips.zip_code = weather.zip\n",
    "WHERE\n",
    "\tweather.precipitationin > 0\n",
    "GROUP BY 1, 2, 3, 4, 5, 6, 7\n",
    "\t\n",
    "\t\n",
    "ORDER BY\n",
    "\tduration DESC\n",
    "\n",
    ";T\n",
    " (CASE WH\n"
   ]
  }
 ],
 "metadata": {
  "kernelspec": {
   "display_name": "Python 3",
   "language": "python",
   "name": "python3"
  },
  "language_info": {
   "codemirror_mode": {
    "name": "ipython",
    "version": 3
   },
   "file_extension": ".py",
   "mimetype": "text/x-python",
   "name": "python",
   "nbconvert_exporter": "python",
   "pygments_lexer": "ipython3",
   "version": "3.7.1"
  }
 },
 "nbformat": 4,
 "nbformat_minor": 2
}
