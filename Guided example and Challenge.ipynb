{
 "cells": [
  {
   "cell_type": "code",
   "execution_count": 1,
   "metadata": {},
   "outputs": [],
   "source": [
    "import numpy as np\n",
    "import pandas as pd\n",
    "from sklearn import svm\n",
    "from sklearn.model_selection import cross_val_score\n",
    "import scipy\n",
    "import matplotlib.pyplot as plt\n",
    "import seaborn as sns\n",
    "import time\n",
    "%matplotlib inline"
   ]
  },
  {
   "cell_type": "code",
   "execution_count": 2,
   "metadata": {},
   "outputs": [],
   "source": [
    "df = pd.read_csv('epi_r.csv')"
   ]
  },
  {
   "cell_type": "code",
   "execution_count": 3,
   "metadata": {},
   "outputs": [
    {
     "data": {
      "text/html": [
       "<div>\n",
       "<style scoped>\n",
       "    .dataframe tbody tr th:only-of-type {\n",
       "        vertical-align: middle;\n",
       "    }\n",
       "\n",
       "    .dataframe tbody tr th {\n",
       "        vertical-align: top;\n",
       "    }\n",
       "\n",
       "    .dataframe thead th {\n",
       "        text-align: right;\n",
       "    }\n",
       "</style>\n",
       "<table border=\"1\" class=\"dataframe\">\n",
       "  <thead>\n",
       "    <tr style=\"text-align: right;\">\n",
       "      <th></th>\n",
       "      <th>title</th>\n",
       "      <th>rating</th>\n",
       "      <th>calories</th>\n",
       "      <th>protein</th>\n",
       "      <th>fat</th>\n",
       "      <th>sodium</th>\n",
       "      <th>#cakeweek</th>\n",
       "      <th>#wasteless</th>\n",
       "      <th>22-minute meals</th>\n",
       "      <th>3-ingredient recipes</th>\n",
       "      <th>...</th>\n",
       "      <th>yellow squash</th>\n",
       "      <th>yogurt</th>\n",
       "      <th>yonkers</th>\n",
       "      <th>yuca</th>\n",
       "      <th>zucchini</th>\n",
       "      <th>cookbooks</th>\n",
       "      <th>leftovers</th>\n",
       "      <th>snack</th>\n",
       "      <th>snack week</th>\n",
       "      <th>turkey</th>\n",
       "    </tr>\n",
       "  </thead>\n",
       "  <tbody>\n",
       "    <tr>\n",
       "      <th>0</th>\n",
       "      <td>Lentil, Apple, and Turkey Wrap</td>\n",
       "      <td>2.500</td>\n",
       "      <td>426.0</td>\n",
       "      <td>30.0</td>\n",
       "      <td>7.0</td>\n",
       "      <td>559.0</td>\n",
       "      <td>0.0</td>\n",
       "      <td>0.0</td>\n",
       "      <td>0.0</td>\n",
       "      <td>0.0</td>\n",
       "      <td>...</td>\n",
       "      <td>0.0</td>\n",
       "      <td>0.0</td>\n",
       "      <td>0.0</td>\n",
       "      <td>0.0</td>\n",
       "      <td>0.0</td>\n",
       "      <td>0.0</td>\n",
       "      <td>0.0</td>\n",
       "      <td>0.0</td>\n",
       "      <td>0.0</td>\n",
       "      <td>1.0</td>\n",
       "    </tr>\n",
       "    <tr>\n",
       "      <th>1</th>\n",
       "      <td>Boudin Blanc Terrine with Red Onion Confit</td>\n",
       "      <td>4.375</td>\n",
       "      <td>403.0</td>\n",
       "      <td>18.0</td>\n",
       "      <td>23.0</td>\n",
       "      <td>1439.0</td>\n",
       "      <td>0.0</td>\n",
       "      <td>0.0</td>\n",
       "      <td>0.0</td>\n",
       "      <td>0.0</td>\n",
       "      <td>...</td>\n",
       "      <td>0.0</td>\n",
       "      <td>0.0</td>\n",
       "      <td>0.0</td>\n",
       "      <td>0.0</td>\n",
       "      <td>0.0</td>\n",
       "      <td>0.0</td>\n",
       "      <td>0.0</td>\n",
       "      <td>0.0</td>\n",
       "      <td>0.0</td>\n",
       "      <td>0.0</td>\n",
       "    </tr>\n",
       "  </tbody>\n",
       "</table>\n",
       "<p>2 rows × 680 columns</p>\n",
       "</div>"
      ],
      "text/plain": [
       "                                         title  rating  calories  protein  \\\n",
       "0              Lentil, Apple, and Turkey Wrap    2.500     426.0     30.0   \n",
       "1  Boudin Blanc Terrine with Red Onion Confit    4.375     403.0     18.0   \n",
       "\n",
       "    fat  sodium  #cakeweek  #wasteless  22-minute meals  3-ingredient recipes  \\\n",
       "0   7.0   559.0        0.0         0.0              0.0                   0.0   \n",
       "1  23.0  1439.0        0.0         0.0              0.0                   0.0   \n",
       "\n",
       "    ...    yellow squash  yogurt  yonkers  yuca  zucchini  cookbooks  \\\n",
       "0   ...              0.0     0.0      0.0   0.0       0.0        0.0   \n",
       "1   ...              0.0     0.0      0.0   0.0       0.0        0.0   \n",
       "\n",
       "   leftovers  snack  snack week  turkey  \n",
       "0        0.0    0.0         0.0     1.0  \n",
       "1        0.0    0.0         0.0     0.0  \n",
       "\n",
       "[2 rows x 680 columns]"
      ]
     },
     "metadata": {},
     "output_type": "display_data"
    },
    {
     "name": "stdout",
     "output_type": "stream",
     "text": [
      "(20052, 680)\n"
     ]
    }
   ],
   "source": [
    "display(df.head(2))\n",
    "print(df.shape)"
   ]
  },
  {
   "cell_type": "code",
   "execution_count": 4,
   "metadata": {},
   "outputs": [],
   "source": [
    "X = df[list(set(list(df.columns)) - set(['rating', 'title']))]\n",
    "y = df['rating']"
   ]
  },
  {
   "cell_type": "code",
   "execution_count": 5,
   "metadata": {},
   "outputs": [
    {
     "data": {
      "text/plain": [
       "1.0    10738\n",
       "0.0     9314\n",
       "Name: rating, dtype: int64"
      ]
     },
     "execution_count": 5,
     "metadata": {},
     "output_type": "execute_result"
    }
   ],
   "source": [
    "# Classifies high ratings (>4) and low raings (<4)\n",
    "y_class = y.copy()\n",
    "y_class[y_class < 4] = 0\n",
    "y_class[y_class > 4] = 1\n",
    "y_class.value_counts()"
   ]
  },
  {
   "cell_type": "code",
   "execution_count": 6,
   "metadata": {},
   "outputs": [
    {
     "data": {
      "text/html": [
       "<div>\n",
       "<style scoped>\n",
       "    .dataframe tbody tr th:only-of-type {\n",
       "        vertical-align: middle;\n",
       "    }\n",
       "\n",
       "    .dataframe tbody tr th {\n",
       "        vertical-align: top;\n",
       "    }\n",
       "\n",
       "    .dataframe thead th {\n",
       "        text-align: right;\n",
       "    }\n",
       "</style>\n",
       "<table border=\"1\" class=\"dataframe\">\n",
       "  <thead>\n",
       "    <tr style=\"text-align: right;\">\n",
       "      <th></th>\n",
       "      <th>cocktail party</th>\n",
       "      <th>sesame oil</th>\n",
       "      <th>créme de cacao</th>\n",
       "      <th>providence</th>\n",
       "      <th>kid-friendly</th>\n",
       "      <th>dill</th>\n",
       "      <th>calvados</th>\n",
       "      <th>kumquat</th>\n",
       "      <th>mustard greens</th>\n",
       "      <th>smoker</th>\n",
       "      <th>...</th>\n",
       "      <th>grill/barbecue</th>\n",
       "      <th>pan-fry</th>\n",
       "      <th>no sugar added</th>\n",
       "      <th>drink</th>\n",
       "      <th>meatball</th>\n",
       "      <th>cognac/armagnac</th>\n",
       "      <th>lemon</th>\n",
       "      <th>north carolina</th>\n",
       "      <th>coffee grinder</th>\n",
       "      <th>chill</th>\n",
       "    </tr>\n",
       "  </thead>\n",
       "  <tbody>\n",
       "    <tr>\n",
       "      <th>count</th>\n",
       "      <td>20052.000000</td>\n",
       "      <td>20052.000000</td>\n",
       "      <td>20052.000000</td>\n",
       "      <td>20052.000000</td>\n",
       "      <td>20052.000000</td>\n",
       "      <td>20052.000000</td>\n",
       "      <td>20052.000000</td>\n",
       "      <td>20052.000000</td>\n",
       "      <td>20052.000000</td>\n",
       "      <td>20052.000000</td>\n",
       "      <td>...</td>\n",
       "      <td>20052.000000</td>\n",
       "      <td>20052.000000</td>\n",
       "      <td>20052.000000</td>\n",
       "      <td>20052.000000</td>\n",
       "      <td>20052.000000</td>\n",
       "      <td>20052.000000</td>\n",
       "      <td>20052.000000</td>\n",
       "      <td>20052.000000</td>\n",
       "      <td>20052.000000</td>\n",
       "      <td>20052.000000</td>\n",
       "    </tr>\n",
       "    <tr>\n",
       "      <th>mean</th>\n",
       "      <td>0.057550</td>\n",
       "      <td>0.002095</td>\n",
       "      <td>0.001047</td>\n",
       "      <td>0.000050</td>\n",
       "      <td>0.089318</td>\n",
       "      <td>0.013515</td>\n",
       "      <td>0.000997</td>\n",
       "      <td>0.002144</td>\n",
       "      <td>0.001795</td>\n",
       "      <td>0.000349</td>\n",
       "      <td>...</td>\n",
       "      <td>0.055057</td>\n",
       "      <td>0.012418</td>\n",
       "      <td>0.156194</td>\n",
       "      <td>0.054209</td>\n",
       "      <td>0.000399</td>\n",
       "      <td>0.004538</td>\n",
       "      <td>0.055057</td>\n",
       "      <td>0.000848</td>\n",
       "      <td>0.000848</td>\n",
       "      <td>0.056154</td>\n",
       "    </tr>\n",
       "    <tr>\n",
       "      <th>std</th>\n",
       "      <td>0.232897</td>\n",
       "      <td>0.045719</td>\n",
       "      <td>0.032346</td>\n",
       "      <td>0.007062</td>\n",
       "      <td>0.285209</td>\n",
       "      <td>0.115468</td>\n",
       "      <td>0.031567</td>\n",
       "      <td>0.046259</td>\n",
       "      <td>0.042334</td>\n",
       "      <td>0.018681</td>\n",
       "      <td>...</td>\n",
       "      <td>0.228097</td>\n",
       "      <td>0.110744</td>\n",
       "      <td>0.363048</td>\n",
       "      <td>0.226435</td>\n",
       "      <td>0.019971</td>\n",
       "      <td>0.067215</td>\n",
       "      <td>0.228097</td>\n",
       "      <td>0.029105</td>\n",
       "      <td>0.029105</td>\n",
       "      <td>0.230225</td>\n",
       "    </tr>\n",
       "    <tr>\n",
       "      <th>min</th>\n",
       "      <td>0.000000</td>\n",
       "      <td>0.000000</td>\n",
       "      <td>0.000000</td>\n",
       "      <td>0.000000</td>\n",
       "      <td>0.000000</td>\n",
       "      <td>0.000000</td>\n",
       "      <td>0.000000</td>\n",
       "      <td>0.000000</td>\n",
       "      <td>0.000000</td>\n",
       "      <td>0.000000</td>\n",
       "      <td>...</td>\n",
       "      <td>0.000000</td>\n",
       "      <td>0.000000</td>\n",
       "      <td>0.000000</td>\n",
       "      <td>0.000000</td>\n",
       "      <td>0.000000</td>\n",
       "      <td>0.000000</td>\n",
       "      <td>0.000000</td>\n",
       "      <td>0.000000</td>\n",
       "      <td>0.000000</td>\n",
       "      <td>0.000000</td>\n",
       "    </tr>\n",
       "    <tr>\n",
       "      <th>25%</th>\n",
       "      <td>0.000000</td>\n",
       "      <td>0.000000</td>\n",
       "      <td>0.000000</td>\n",
       "      <td>0.000000</td>\n",
       "      <td>0.000000</td>\n",
       "      <td>0.000000</td>\n",
       "      <td>0.000000</td>\n",
       "      <td>0.000000</td>\n",
       "      <td>0.000000</td>\n",
       "      <td>0.000000</td>\n",
       "      <td>...</td>\n",
       "      <td>0.000000</td>\n",
       "      <td>0.000000</td>\n",
       "      <td>0.000000</td>\n",
       "      <td>0.000000</td>\n",
       "      <td>0.000000</td>\n",
       "      <td>0.000000</td>\n",
       "      <td>0.000000</td>\n",
       "      <td>0.000000</td>\n",
       "      <td>0.000000</td>\n",
       "      <td>0.000000</td>\n",
       "    </tr>\n",
       "    <tr>\n",
       "      <th>50%</th>\n",
       "      <td>0.000000</td>\n",
       "      <td>0.000000</td>\n",
       "      <td>0.000000</td>\n",
       "      <td>0.000000</td>\n",
       "      <td>0.000000</td>\n",
       "      <td>0.000000</td>\n",
       "      <td>0.000000</td>\n",
       "      <td>0.000000</td>\n",
       "      <td>0.000000</td>\n",
       "      <td>0.000000</td>\n",
       "      <td>...</td>\n",
       "      <td>0.000000</td>\n",
       "      <td>0.000000</td>\n",
       "      <td>0.000000</td>\n",
       "      <td>0.000000</td>\n",
       "      <td>0.000000</td>\n",
       "      <td>0.000000</td>\n",
       "      <td>0.000000</td>\n",
       "      <td>0.000000</td>\n",
       "      <td>0.000000</td>\n",
       "      <td>0.000000</td>\n",
       "    </tr>\n",
       "    <tr>\n",
       "      <th>75%</th>\n",
       "      <td>0.000000</td>\n",
       "      <td>0.000000</td>\n",
       "      <td>0.000000</td>\n",
       "      <td>0.000000</td>\n",
       "      <td>0.000000</td>\n",
       "      <td>0.000000</td>\n",
       "      <td>0.000000</td>\n",
       "      <td>0.000000</td>\n",
       "      <td>0.000000</td>\n",
       "      <td>0.000000</td>\n",
       "      <td>...</td>\n",
       "      <td>0.000000</td>\n",
       "      <td>0.000000</td>\n",
       "      <td>0.000000</td>\n",
       "      <td>0.000000</td>\n",
       "      <td>0.000000</td>\n",
       "      <td>0.000000</td>\n",
       "      <td>0.000000</td>\n",
       "      <td>0.000000</td>\n",
       "      <td>0.000000</td>\n",
       "      <td>0.000000</td>\n",
       "    </tr>\n",
       "    <tr>\n",
       "      <th>max</th>\n",
       "      <td>1.000000</td>\n",
       "      <td>1.000000</td>\n",
       "      <td>1.000000</td>\n",
       "      <td>1.000000</td>\n",
       "      <td>1.000000</td>\n",
       "      <td>1.000000</td>\n",
       "      <td>1.000000</td>\n",
       "      <td>1.000000</td>\n",
       "      <td>1.000000</td>\n",
       "      <td>1.000000</td>\n",
       "      <td>...</td>\n",
       "      <td>1.000000</td>\n",
       "      <td>1.000000</td>\n",
       "      <td>1.000000</td>\n",
       "      <td>1.000000</td>\n",
       "      <td>1.000000</td>\n",
       "      <td>1.000000</td>\n",
       "      <td>1.000000</td>\n",
       "      <td>1.000000</td>\n",
       "      <td>1.000000</td>\n",
       "      <td>1.000000</td>\n",
       "    </tr>\n",
       "  </tbody>\n",
       "</table>\n",
       "<p>8 rows × 678 columns</p>\n",
       "</div>"
      ],
      "text/plain": [
       "       cocktail party    sesame oil  créme de cacao    providence  \\\n",
       "count    20052.000000  20052.000000    20052.000000  20052.000000   \n",
       "mean         0.057550      0.002095        0.001047      0.000050   \n",
       "std          0.232897      0.045719        0.032346      0.007062   \n",
       "min          0.000000      0.000000        0.000000      0.000000   \n",
       "25%          0.000000      0.000000        0.000000      0.000000   \n",
       "50%          0.000000      0.000000        0.000000      0.000000   \n",
       "75%          0.000000      0.000000        0.000000      0.000000   \n",
       "max          1.000000      1.000000        1.000000      1.000000   \n",
       "\n",
       "       kid-friendly          dill      calvados       kumquat  mustard greens  \\\n",
       "count  20052.000000  20052.000000  20052.000000  20052.000000    20052.000000   \n",
       "mean       0.089318      0.013515      0.000997      0.002144        0.001795   \n",
       "std        0.285209      0.115468      0.031567      0.046259        0.042334   \n",
       "min        0.000000      0.000000      0.000000      0.000000        0.000000   \n",
       "25%        0.000000      0.000000      0.000000      0.000000        0.000000   \n",
       "50%        0.000000      0.000000      0.000000      0.000000        0.000000   \n",
       "75%        0.000000      0.000000      0.000000      0.000000        0.000000   \n",
       "max        1.000000      1.000000      1.000000      1.000000        1.000000   \n",
       "\n",
       "             smoker      ...       grill/barbecue       pan-fry  \\\n",
       "count  20052.000000      ...         20052.000000  20052.000000   \n",
       "mean       0.000349      ...             0.055057      0.012418   \n",
       "std        0.018681      ...             0.228097      0.110744   \n",
       "min        0.000000      ...             0.000000      0.000000   \n",
       "25%        0.000000      ...             0.000000      0.000000   \n",
       "50%        0.000000      ...             0.000000      0.000000   \n",
       "75%        0.000000      ...             0.000000      0.000000   \n",
       "max        1.000000      ...             1.000000      1.000000   \n",
       "\n",
       "       no sugar added         drink      meatball  cognac/armagnac  \\\n",
       "count    20052.000000  20052.000000  20052.000000     20052.000000   \n",
       "mean         0.156194      0.054209      0.000399         0.004538   \n",
       "std          0.363048      0.226435      0.019971         0.067215   \n",
       "min          0.000000      0.000000      0.000000         0.000000   \n",
       "25%          0.000000      0.000000      0.000000         0.000000   \n",
       "50%          0.000000      0.000000      0.000000         0.000000   \n",
       "75%          0.000000      0.000000      0.000000         0.000000   \n",
       "max          1.000000      1.000000      1.000000         1.000000   \n",
       "\n",
       "              lemon  north carolina  coffee grinder         chill  \n",
       "count  20052.000000    20052.000000    20052.000000  20052.000000  \n",
       "mean       0.055057        0.000848        0.000848      0.056154  \n",
       "std        0.228097        0.029105        0.029105      0.230225  \n",
       "min        0.000000        0.000000        0.000000      0.000000  \n",
       "25%        0.000000        0.000000        0.000000      0.000000  \n",
       "50%        0.000000        0.000000        0.000000      0.000000  \n",
       "75%        0.000000        0.000000        0.000000      0.000000  \n",
       "max        1.000000        1.000000        1.000000      1.000000  \n",
       "\n",
       "[8 rows x 678 columns]"
      ]
     },
     "execution_count": 6,
     "metadata": {},
     "output_type": "execute_result"
    }
   ],
   "source": [
    "X.describe()"
   ]
  },
  {
   "cell_type": "code",
   "execution_count": 7,
   "metadata": {},
   "outputs": [
    {
     "name": "stdout",
     "output_type": "stream",
     "text": [
      "Dropping 4 columns due to NaNs\n",
      "['fat', 'sodium', 'protein', 'calories']\n"
     ]
    }
   ],
   "source": [
    "# Drop NAN columns\n",
    "X_null = X.isnull().sum()\n",
    "null_cols = list(X_null[X_null > 0].index)\n",
    "print (\"Dropping {} columns due to NaNs\\n{}\".format(len(null_cols), null_cols))\n",
    "X_feat = X.drop(columns = null_cols)"
   ]
  },
  {
   "cell_type": "code",
   "execution_count": 8,
   "metadata": {},
   "outputs": [
    {
     "name": "stdout",
     "output_type": "stream",
     "text": [
      "Dropping 648 columns due to insignificant mean\n"
     ]
    }
   ],
   "source": [
    "# Drop heavily skewed means\n",
    "low_means = []\n",
    "for col in X_feat.columns:\n",
    "    if X_feat[col].mean() < 0.1:\n",
    "        low_means.append(col)\n",
    "print (\"Dropping {} columns due to insignificant mean\".format(len(low_means)))\n",
    "X_feat = X_feat.drop(columns = low_means)"
   ]
  },
  {
   "cell_type": "code",
   "execution_count": 9,
   "metadata": {},
   "outputs": [
    {
     "name": "stdout",
     "output_type": "stream",
     "text": [
      "Number of features: 26\n"
     ]
    }
   ],
   "source": [
    "# Feature list\n",
    "print (\"Number of features: {}\".format(len(X_feat.columns)))"
   ]
  },
  {
   "cell_type": "code",
   "execution_count": 10,
   "metadata": {},
   "outputs": [
    {
     "name": "stderr",
     "output_type": "stream",
     "text": [
      "D:\\Anaconda3\\lib\\site-packages\\sklearn\\svm\\base.py:196: FutureWarning: The default value of gamma will change from 'auto' to 'scale' in version 0.22 to account better for unscaled features. Set gamma explicitly to 'auto' or 'scale' to avoid this warning.\n",
      "  \"avoid this warning.\", FutureWarning)\n"
     ]
    },
    {
     "name": "stdout",
     "output_type": "stream",
     "text": [
      "Runtime: 25.96 seconds\n"
     ]
    }
   ],
   "source": [
    "#SV Classifier\n",
    "start = time.time()\n",
    "svc_model = svm.SVC()\n",
    "fit = svc_model.fit(X_feat, y_class)\n",
    "y_pred = svc_model.predict(X_feat)\n",
    "print (\"Runtime: %0.2f seconds\" % (time.time() - start))"
   ]
  },
  {
   "cell_type": "code",
   "execution_count": 11,
   "metadata": {},
   "outputs": [
    {
     "name": "stdout",
     "output_type": "stream",
     "text": [
      "Runtime: 10.14 seconds\n",
      "Baseline Score: 0.579\n"
     ]
    }
   ],
   "source": [
    "start = time.time()\n",
    "svc_score = svc_model.score(X_feat, y_class)\n",
    "print (\"Runtime: %0.2f seconds\" % (time.time() - start))\n",
    "print (\"Baseline Score: %0.3f\" % (svc_score))"
   ]
  },
  {
   "cell_type": "code",
   "execution_count": 12,
   "metadata": {},
   "outputs": [
    {
     "name": "stdout",
     "output_type": "stream",
     "text": [
      "Runtime: 0.00 seconds\n"
     ]
    }
   ],
   "source": [
    "#Improving\n",
    "\n",
    "start = time.time()\n",
    "svc_iter_model = svm.SVC(C = 100)\n",
    "print (\"Runtime: %0.2f seconds\" % (time.time() - start))"
   ]
  },
  {
   "cell_type": "code",
   "execution_count": 13,
   "metadata": {},
   "outputs": [
    {
     "name": "stderr",
     "output_type": "stream",
     "text": [
      "D:\\Anaconda3\\lib\\site-packages\\pandas\\core\\frame.py:3697: SettingWithCopyWarning: \n",
      "A value is trying to be set on a copy of a slice from a DataFrame\n",
      "\n",
      "See the caveats in the documentation: http://pandas.pydata.org/pandas-docs/stable/indexing.html#indexing-view-versus-copy\n",
      "  errors=errors)\n"
     ]
    }
   ],
   "source": [
    "# Add nutritional information, imputing nulls with median\n",
    "X_nut = df[list(set(list(df.columns)) - set(['rating', 'title']))]\n",
    "X_nut.drop(columns = low_means, inplace = True)\n",
    "X_nut = X_nut.fillna(X_nut.median())"
   ]
  },
  {
   "cell_type": "code",
   "execution_count": null,
   "metadata": {},
   "outputs": [],
   "source": [
    "\n",
    "start = time.time()\n",
    "svc_iter_cross_val_scores = cross_val_score(svc_iter_model, X_nut, y_class, cv=5, gamma=auto)\n",
    "print (\"Runtime: %0.2f seconds\" % (time.time() - start))\n",
    "print (\"Mean Accuracy: %0.3f (+/- %0.3f)\" % (svc_iter_cross_val_scores.mean(), svc_iter_cross_val_scores.std()))"
   ]
  },
  {
   "cell_type": "code",
   "execution_count": null,
   "metadata": {},
   "outputs": [],
   "source": []
  }
 ],
 "metadata": {
  "kernelspec": {
   "display_name": "Python 3",
   "language": "python",
   "name": "python3"
  },
  "language_info": {
   "codemirror_mode": {
    "name": "ipython",
    "version": 3
   },
   "file_extension": ".py",
   "mimetype": "text/x-python",
   "name": "python",
   "nbconvert_exporter": "python",
   "pygments_lexer": "ipython3",
   "version": "3.7.1"
  }
 },
 "nbformat": 4,
 "nbformat_minor": 2
}
